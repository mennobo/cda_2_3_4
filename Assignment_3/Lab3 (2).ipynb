{
 "cells": [
  {
   "cell_type": "markdown",
   "metadata": {},
   "source": [
    "# CS4035 - Cyber Data Analytics\n",
    "## Lab 3 "
   ]
  },
  {
   "cell_type": "markdown",
   "metadata": {},
   "source": [
    "### Submit on brightspace (zip file with the name Group_xx.zip)\n",
    "(i) This jupyter file completed with code, plots, figures and report for each question. Additional plots and figures can be created for explanation before the end of each main question. Lab 3 contains 7 main questions, including the bonus. Write the code or explanation below each sub question. For the explantions, include what you would normally include in the report for this lab assignment, for example data pre-processing, hypothesis tested, approach, results, etc.\n",
    "(ii) A PDF or a Word report for the assignment. Create a report from the plots, figures, tables and the write-up that you provide in this jupyter file. The report will be used as a proof for page limit. \n",
    "(iii) The libraries needed to run this file. \n",
    "\n",
    "Your peers should be able to use the readme section for instructions and be able to run this file. "
   ]
  },
  {
   "cell_type": "markdown",
   "metadata": {},
   "source": [
    "## Group Number :"
   ]
  },
  {
   "cell_type": "markdown",
   "metadata": {},
   "source": [
    "## Student 1 \n",
    "### Name : Arpita Ravindranath\n",
    "### ID : 5002702"
   ]
  },
  {
   "cell_type": "markdown",
   "metadata": {},
   "source": [
    "## Student 2\n",
    "### Name : Menno Bezema\n",
    "### ID : 4248252"
   ]
  },
  {
   "cell_type": "markdown",
   "metadata": {},
   "source": [
    "## Readme - Provide instructions - libraries used, location of the data file, etc. Keep it short. Remember your peers will not debug your code and should be able to reproduce the exact output you provide."
   ]
  },
  {
   "cell_type": "markdown",
   "metadata": {},
   "source": [
    "pandas\n",
    "numpy\n",
    "matplotlib\n",
    "sklearn\n",
    "yellowbrick\n",
    "zipfile\n"
   ]
  },
  {
   "cell_type": "markdown",
   "metadata": {},
   "source": [
    "### index (Easy navigation to sections)\n",
    "This index also shows how our report is set up. We work through the questions in the assignments in order. The link to the question is the first cell in which we talk about that part (2a leads to the start of 2a).\n",
    "1. [Familiarization and discretization task](#1)\n",
    "    - [1a. Plot Visualizations](#1a)\n",
    "    - [1b. Discretize selected features](#1b)\n",
    "    - [1c. Answers and explanation](#1c)\n",
    "2. [Frequent task](#2)\n",
    "    - [2a. Use the SPACE SAVING Algorithm](#2a)\n",
    "    - [2b. Analysis and answers to the questions](#2b)\n",
    "3. [Sketching task](#3)\n",
    "    - [3a. COUNT-MIN sketch](#3a)\n",
    "    - [3b. Analysis and answers to the questions](#3b)\n",
    "4. [Min-wise locality sensitive hashing task  task](#4)\n",
    "    - [4a. Implementation](#4a)\n",
    "    - [4b. Analysis and answers to the questions](#4b)\n",
    "5. [Random hyperplane locality sensitive hashing task ](#5)\n",
    "    - [5a. Implementation - locality sensitive hashing](#5a)\n",
    "    - [5b. Analysis and answers to the questions. Also provide relevant plots](#5b)\n",
    "6. [Botnet profiling task](#6)\n",
    "    - [6a. Learn a sequential model.](#6a)\n",
    "    - [6b. Analysis and answers to the questions.](#6b)\n",
    "7. [Botnet fingerprinting task task](#7)\n",
    "    - [7a. Fingerprinting.](#7a)\n",
    "    - [7b. Analysis and answers to the questions.](#7b)\n",
    "8. [Bonus](#8)"
   ]
  },
  {
   "cell_type": "markdown",
   "metadata": {},
   "source": [
    "<a id='1'></a>"
   ]
  },
  {
   "cell_type": "markdown",
   "metadata": {},
   "source": [
    "## 1. Familiarization and discretization task – 1 A4\n",
    "Familiarization and discretization task –1 A4\n",
    "Consider scenario 10 from the CTU-13 data sets (see paper 4 from below resources). Remove all background flows from the data. \n",
    "\n",
    "\tAssignment:\n",
    "\t1. You are to discretize the NetFlows (Apply the discretization to data from all hosts in the selected scenario). \n",
    "\t2. Investigate the data from one of the infected hosts. \n",
    "\t3. Select and visualize two features that you believe are most relevant for modeling the behavior of the infected host. (criteria: Shows the behavior of two features conditioned on the infection status.)\n",
    "\t4. Discretize these features using use any of the methods discussed in class (combine the two values into a single discrete value). (criteria: The discretization is sound, and the result investigated)\n",
    "    \n",
    "    Question:\n",
    "\t1. Do you observe any behavior in the two features that could be useful for detecting the infection? Explain and visualize. \n"
   ]
  },
  {
   "cell_type": "code",
   "execution_count": 2,
   "metadata": {},
   "outputs": [],
   "source": [
    "import pandas as pd\n",
    "import random\n",
    "import numpy as np\n",
    "import matplotlib.pylab as plt\n",
    "%matplotlib inline"
   ]
  },
  {
   "cell_type": "code",
   "execution_count": 25,
   "metadata": {},
   "outputs": [],
   "source": [
    "import zipfile\n",
    "\n",
    "# We work from a zipfile to keep me\n",
    "archive = zipfile.ZipFile('dataset_lab3.zip', 'r')\n",
    "data = pd.read_csv(archive.open('dataset_10/capture20110818.binetflow'))"
   ]
  },
  {
   "cell_type": "markdown",
   "metadata": {},
   "source": [
    "Find all entries that belong to the background flow by searching for the word background in the feature Label(Normal:CC:Background).When the data 'Label' feature is -1 then that flow does not belong to the background.This information will help to retrive non background flows in future."
   ]
  },
  {
   "cell_type": "code",
   "execution_count": 22,
   "metadata": {},
   "outputs": [],
   "source": [
    "sub = 'Background'\n",
    "data['Label'] = new_data['Label'].str.find(sub)"
   ]
  },
  {
   "cell_type": "code",
   "execution_count": 26,
   "metadata": {},
   "outputs": [],
   "source": [
    "#convert the Proto,Dir,State,Label(Normal:CC:Background),CCDetector(Normal:CC:Unknown) features to numeric\n",
    "label_mapping = {}\n",
    "char_cols = ['Proto', 'Dir','State','Label(Normal:CC:Background)','CCDetector(Normal:CC:Unknown)']\n",
    "for c in char_cols:\n",
    "    data[c], label_mapping[c] = pd.factorize(data[c])\n",
    "# label_mapping"
   ]
  },
  {
   "cell_type": "code",
   "execution_count": 28,
   "metadata": {},
   "outputs": [
    {
     "data": {
      "text/html": [
       "<div>\n",
       "<style scoped>\n",
       "    .dataframe tbody tr th:only-of-type {\n",
       "        vertical-align: middle;\n",
       "    }\n",
       "\n",
       "    .dataframe tbody tr th {\n",
       "        vertical-align: top;\n",
       "    }\n",
       "\n",
       "    .dataframe thead th {\n",
       "        text-align: right;\n",
       "    }\n",
       "</style>\n",
       "<table border=\"1\" class=\"dataframe\">\n",
       "  <thead>\n",
       "    <tr style=\"text-align: right;\">\n",
       "      <th></th>\n",
       "      <th>#StartTime</th>\n",
       "      <th>Dur</th>\n",
       "      <th>Proto</th>\n",
       "      <th>SrcAddr</th>\n",
       "      <th>Sport</th>\n",
       "      <th>Dir</th>\n",
       "      <th>DstAddr</th>\n",
       "      <th>Dport</th>\n",
       "      <th>State</th>\n",
       "      <th>sTos</th>\n",
       "      <th>dTos</th>\n",
       "      <th>TotPkts</th>\n",
       "      <th>TotBytes</th>\n",
       "      <th>SrcBytes</th>\n",
       "      <th>Label(Normal:CC:Background)</th>\n",
       "      <th>CCDetector(Normal:CC:Unknown)</th>\n",
       "      <th>Label</th>\n",
       "    </tr>\n",
       "  </thead>\n",
       "  <tbody>\n",
       "    <tr>\n",
       "      <th>532</th>\n",
       "      <td>2011/08/18 13:21:46.716694</td>\n",
       "      <td>0.000781</td>\n",
       "      <td>1</td>\n",
       "      <td>91.76.11.72</td>\n",
       "      <td>32794</td>\n",
       "      <td>1</td>\n",
       "      <td>147.32.84.229</td>\n",
       "      <td>13363</td>\n",
       "      <td>1</td>\n",
       "      <td>0.0</td>\n",
       "      <td>0.0</td>\n",
       "      <td>2</td>\n",
       "      <td>132</td>\n",
       "      <td>72</td>\n",
       "      <td>1</td>\n",
       "      <td>0</td>\n",
       "      <td>-1</td>\n",
       "    </tr>\n",
       "    <tr>\n",
       "      <th>822</th>\n",
       "      <td>2011/08/18 12:21:10.279140</td>\n",
       "      <td>1200.261719</td>\n",
       "      <td>0</td>\n",
       "      <td>195.59.102.18</td>\n",
       "      <td>48627</td>\n",
       "      <td>4</td>\n",
       "      <td>147.32.84.229</td>\n",
       "      <td>443</td>\n",
       "      <td>18</td>\n",
       "      <td>0.0</td>\n",
       "      <td>0.0</td>\n",
       "      <td>139</td>\n",
       "      <td>13618</td>\n",
       "      <td>7770</td>\n",
       "      <td>3</td>\n",
       "      <td>0</td>\n",
       "      <td>-1</td>\n",
       "    </tr>\n",
       "    <tr>\n",
       "      <th>842</th>\n",
       "      <td>2011/08/18 14:05:03.287467</td>\n",
       "      <td>1205.303833</td>\n",
       "      <td>1</td>\n",
       "      <td>82.68.203.38</td>\n",
       "      <td>55962</td>\n",
       "      <td>1</td>\n",
       "      <td>147.32.86.165</td>\n",
       "      <td>12114</td>\n",
       "      <td>1</td>\n",
       "      <td>0.0</td>\n",
       "      <td>0.0</td>\n",
       "      <td>4</td>\n",
       "      <td>302</td>\n",
       "      <td>178</td>\n",
       "      <td>1</td>\n",
       "      <td>0</td>\n",
       "      <td>-1</td>\n",
       "    </tr>\n",
       "    <tr>\n",
       "      <th>1021</th>\n",
       "      <td>2011/08/18 10:45:14.409071</td>\n",
       "      <td>14.995769</td>\n",
       "      <td>0</td>\n",
       "      <td>86.155.68.95</td>\n",
       "      <td>1515</td>\n",
       "      <td>0</td>\n",
       "      <td>147.32.86.24</td>\n",
       "      <td>31002</td>\n",
       "      <td>9</td>\n",
       "      <td>0.0</td>\n",
       "      <td>0.0</td>\n",
       "      <td>20</td>\n",
       "      <td>1694</td>\n",
       "      <td>897</td>\n",
       "      <td>6</td>\n",
       "      <td>0</td>\n",
       "      <td>-1</td>\n",
       "    </tr>\n",
       "    <tr>\n",
       "      <th>1022</th>\n",
       "      <td>2011/08/18 11:45:14.334646</td>\n",
       "      <td>14.977490</td>\n",
       "      <td>0</td>\n",
       "      <td>86.155.68.95</td>\n",
       "      <td>1659</td>\n",
       "      <td>0</td>\n",
       "      <td>147.32.86.24</td>\n",
       "      <td>31002</td>\n",
       "      <td>9</td>\n",
       "      <td>0.0</td>\n",
       "      <td>0.0</td>\n",
       "      <td>20</td>\n",
       "      <td>1657</td>\n",
       "      <td>876</td>\n",
       "      <td>6</td>\n",
       "      <td>0</td>\n",
       "      <td>-1</td>\n",
       "    </tr>\n",
       "    <tr>\n",
       "      <th>...</th>\n",
       "      <td>...</td>\n",
       "      <td>...</td>\n",
       "      <td>...</td>\n",
       "      <td>...</td>\n",
       "      <td>...</td>\n",
       "      <td>...</td>\n",
       "      <td>...</td>\n",
       "      <td>...</td>\n",
       "      <td>...</td>\n",
       "      <td>...</td>\n",
       "      <td>...</td>\n",
       "      <td>...</td>\n",
       "      <td>...</td>\n",
       "      <td>...</td>\n",
       "      <td>...</td>\n",
       "      <td>...</td>\n",
       "      <td>...</td>\n",
       "    </tr>\n",
       "    <tr>\n",
       "      <th>1309670</th>\n",
       "      <td>2011/08/18 12:07:38.351933</td>\n",
       "      <td>0.000823</td>\n",
       "      <td>1</td>\n",
       "      <td>212.60.76.21</td>\n",
       "      <td>42870</td>\n",
       "      <td>1</td>\n",
       "      <td>147.32.84.229</td>\n",
       "      <td>13363</td>\n",
       "      <td>1</td>\n",
       "      <td>0.0</td>\n",
       "      <td>0.0</td>\n",
       "      <td>2</td>\n",
       "      <td>123</td>\n",
       "      <td>63</td>\n",
       "      <td>1</td>\n",
       "      <td>0</td>\n",
       "      <td>-1</td>\n",
       "    </tr>\n",
       "    <tr>\n",
       "      <th>1309736</th>\n",
       "      <td>2011/08/18 12:31:41.201008</td>\n",
       "      <td>0.014898</td>\n",
       "      <td>0</td>\n",
       "      <td>147.32.85.26</td>\n",
       "      <td>60912</td>\n",
       "      <td>0</td>\n",
       "      <td>195.168.209.2</td>\n",
       "      <td>50954</td>\n",
       "      <td>0</td>\n",
       "      <td>0.0</td>\n",
       "      <td>NaN</td>\n",
       "      <td>1</td>\n",
       "      <td>62</td>\n",
       "      <td>62</td>\n",
       "      <td>0</td>\n",
       "      <td>0</td>\n",
       "      <td>-1</td>\n",
       "    </tr>\n",
       "    <tr>\n",
       "      <th>1309782</th>\n",
       "      <td>2011/08/18 14:53:34.331642</td>\n",
       "      <td>9.016105</td>\n",
       "      <td>0</td>\n",
       "      <td>147.32.85.26</td>\n",
       "      <td>64418</td>\n",
       "      <td>0</td>\n",
       "      <td>195.168.209.2</td>\n",
       "      <td>50954</td>\n",
       "      <td>0</td>\n",
       "      <td>0.0</td>\n",
       "      <td>NaN</td>\n",
       "      <td>3</td>\n",
       "      <td>194</td>\n",
       "      <td>194</td>\n",
       "      <td>0</td>\n",
       "      <td>0</td>\n",
       "      <td>-1</td>\n",
       "    </tr>\n",
       "    <tr>\n",
       "      <th>1309783</th>\n",
       "      <td>2011/08/18 14:56:51.318703</td>\n",
       "      <td>9.015620</td>\n",
       "      <td>0</td>\n",
       "      <td>147.32.85.26</td>\n",
       "      <td>64460</td>\n",
       "      <td>0</td>\n",
       "      <td>195.168.209.2</td>\n",
       "      <td>50954</td>\n",
       "      <td>0</td>\n",
       "      <td>0.0</td>\n",
       "      <td>NaN</td>\n",
       "      <td>3</td>\n",
       "      <td>194</td>\n",
       "      <td>194</td>\n",
       "      <td>0</td>\n",
       "      <td>0</td>\n",
       "      <td>-1</td>\n",
       "    </tr>\n",
       "    <tr>\n",
       "      <th>1309784</th>\n",
       "      <td>2011/08/18 15:03:14.349944</td>\n",
       "      <td>0.015466</td>\n",
       "      <td>0</td>\n",
       "      <td>147.32.85.26</td>\n",
       "      <td>64571</td>\n",
       "      <td>0</td>\n",
       "      <td>195.168.209.2</td>\n",
       "      <td>50954</td>\n",
       "      <td>0</td>\n",
       "      <td>0.0</td>\n",
       "      <td>NaN</td>\n",
       "      <td>1</td>\n",
       "      <td>62</td>\n",
       "      <td>62</td>\n",
       "      <td>0</td>\n",
       "      <td>0</td>\n",
       "      <td>-1</td>\n",
       "    </tr>\n",
       "  </tbody>\n",
       "</table>\n",
       "<p>122199 rows × 17 columns</p>\n",
       "</div>"
      ],
      "text/plain": [
       "                         #StartTime          Dur  Proto        SrcAddr  Sport  \\\n",
       "532      2011/08/18 13:21:46.716694     0.000781      1    91.76.11.72  32794   \n",
       "822      2011/08/18 12:21:10.279140  1200.261719      0  195.59.102.18  48627   \n",
       "842      2011/08/18 14:05:03.287467  1205.303833      1   82.68.203.38  55962   \n",
       "1021     2011/08/18 10:45:14.409071    14.995769      0   86.155.68.95   1515   \n",
       "1022     2011/08/18 11:45:14.334646    14.977490      0   86.155.68.95   1659   \n",
       "...                             ...          ...    ...            ...    ...   \n",
       "1309670  2011/08/18 12:07:38.351933     0.000823      1   212.60.76.21  42870   \n",
       "1309736  2011/08/18 12:31:41.201008     0.014898      0   147.32.85.26  60912   \n",
       "1309782  2011/08/18 14:53:34.331642     9.016105      0   147.32.85.26  64418   \n",
       "1309783  2011/08/18 14:56:51.318703     9.015620      0   147.32.85.26  64460   \n",
       "1309784  2011/08/18 15:03:14.349944     0.015466      0   147.32.85.26  64571   \n",
       "\n",
       "         Dir        DstAddr  Dport  State  sTos  dTos  TotPkts  TotBytes  \\\n",
       "532        1  147.32.84.229  13363      1   0.0   0.0        2       132   \n",
       "822        4  147.32.84.229    443     18   0.0   0.0      139     13618   \n",
       "842        1  147.32.86.165  12114      1   0.0   0.0        4       302   \n",
       "1021       0   147.32.86.24  31002      9   0.0   0.0       20      1694   \n",
       "1022       0   147.32.86.24  31002      9   0.0   0.0       20      1657   \n",
       "...      ...            ...    ...    ...   ...   ...      ...       ...   \n",
       "1309670    1  147.32.84.229  13363      1   0.0   0.0        2       123   \n",
       "1309736    0  195.168.209.2  50954      0   0.0   NaN        1        62   \n",
       "1309782    0  195.168.209.2  50954      0   0.0   NaN        3       194   \n",
       "1309783    0  195.168.209.2  50954      0   0.0   NaN        3       194   \n",
       "1309784    0  195.168.209.2  50954      0   0.0   NaN        1        62   \n",
       "\n",
       "         SrcBytes  Label(Normal:CC:Background)  CCDetector(Normal:CC:Unknown)  \\\n",
       "532            72                            1                              0   \n",
       "822          7770                            3                              0   \n",
       "842           178                            1                              0   \n",
       "1021          897                            6                              0   \n",
       "1022          876                            6                              0   \n",
       "...           ...                          ...                            ...   \n",
       "1309670        63                            1                              0   \n",
       "1309736        62                            0                              0   \n",
       "1309782       194                            0                              0   \n",
       "1309783       194                            0                              0   \n",
       "1309784        62                            0                              0   \n",
       "\n",
       "         Label  \n",
       "532         -1  \n",
       "822         -1  \n",
       "842         -1  \n",
       "1021        -1  \n",
       "1022        -1  \n",
       "...        ...  \n",
       "1309670     -1  \n",
       "1309736     -1  \n",
       "1309782     -1  \n",
       "1309783     -1  \n",
       "1309784     -1  \n",
       "\n",
       "[122199 rows x 17 columns]"
      ]
     },
     "execution_count": 28,
     "metadata": {},
     "output_type": "execute_result"
    }
   ],
   "source": [
    "#Remove all background flows\n",
    "data_no_background = data[data['Label'] == -1]\n",
    "data_no_background"
   ]
  },
  {
   "cell_type": "code",
   "execution_count": 29,
   "metadata": {},
   "outputs": [],
   "source": [
    "#We obtain this information from the description of the CTU13 dataset\n",
    "infected_hosts = ['147.32.84.165','147.32.84.191','147.32.84.192','147.32.84.193','147.32.84.204',\n",
    "                  '147.32.84.205','147.32.84.206''147.32.84.207','147.32.84.208','147.32.84.209']\n",
    "\n",
    "normal_hosts = ['147.32.84.170', '147.32.84.134', '147.32.84.164', '147.32.87.36, 147.32.80.9', '147.32.87.11']"
   ]
  },
  {
   "cell_type": "code",
   "execution_count": 30,
   "metadata": {},
   "outputs": [],
   "source": [
    "#getting flows related to infected host 147.32.84.165(This is the infected host chosen for visualization and discretization)\n",
    "#We choose all flows where the source or destination IP is 147.32.84.165\n",
    "infected1 = data_no_background[data_no_background['SrcAddr'] == infected_hosts[0]]\n",
    "infected2 = data_no_background[data_no_background['DstAddr'] == infected_hosts[0]]\n",
    "frames = [infected1,infected2]\n",
    "infected = pd.concat(frames)\n",
    "#infected"
   ]
  },
  {
   "cell_type": "code",
   "execution_count": 31,
   "metadata": {},
   "outputs": [],
   "source": [
    "#getting non infected flows.This is when the source IP or destination IP belong to the list of normal hosts\n",
    "normal1 = data_no_background[data_no_background['SrcAddr'].isin(normal_hosts)]\n",
    "normal2 = data_no_background[data_no_background['DstAddr'].isin(normal_hosts)]\n",
    "frames = [normal1,normal2]\n",
    "normal = pd.concat(frames)\n",
    "#normal"
   ]
  },
  {
   "cell_type": "code",
   "execution_count": 32,
   "metadata": {},
   "outputs": [
    {
     "name": "stdout",
     "output_type": "stream",
     "text": [
      "infected - mean Totpackets 5.451612903225806 9.91118205143097\n",
      "normal   - mean Totpackets 9.132172131147541 59.068399066104945\n",
      "infected - mean TotBytes   5720.322580645161 10595.871408050496\n",
      "normal   - mean TotBytes   3833.2254098360654 53344.83452074293\n",
      "infected - mean SrcBytes   2746.939516129032 7035.183401469272\n",
      "normal   - mean SrcBytes   527.0686475409836 3200.552734089702\n",
      "infected - mean dTos       0.0 0.0\n",
      "normal   - mean dTos       0.0 0.0\n",
      "infected - mean sTos       0.0 0.0\n",
      "normal   - mean sTos       0.0 0.0\n",
      "infected - mean Proto      1.935483870967742 0.35336939193881656\n",
      "normal   - mean Proto      1.069672131147541 0.9502276987055559\n",
      "infected - mean State      103.10483870967742 57.29666974339479\n",
      "normal   - mean State      11.83094262295082 13.919525203768702\n",
      "infected - mean Dur        277.5329806935485 474.8901948732375\n",
      "normal   - mean Dur        25.054950059426172 221.67600515654323\n",
      "infected - mean Dir        0.2661290322580645 0.6792888948786926\n",
      "normal   - mean Dir        1.0788934426229508 0.9660874727678389\n",
      "infected - mean CCDetector 0.0 0.0\n",
      "normal   - mean CCDetector 0.03790983606557377 0.19097821968761874\n",
      "infected - mean Label      20.580645161290324 7.901201188991979\n",
      "normal   - mean Label      38.00922131147541 19.098185611621226\n"
     ]
    }
   ],
   "source": [
    "#Print variation in the features to find the ones with the most deviations\n",
    "print(\"infected - mean Totpackets\", np.mean(infected['TotPkts']), np.std(infected['TotPkts']))\n",
    "print(\"normal   - mean Totpackets\", np.mean(normal['TotPkts']), np.std(normal['TotPkts']))\n",
    "\n",
    "print(\"infected - mean TotBytes  \", np.mean(infected['TotBytes']), np.std(infected['TotBytes']))\n",
    "print(\"normal   - mean TotBytes  \", np.mean(normal['TotBytes']), np.std(normal['TotBytes']))\n",
    "\n",
    "print(\"infected - mean SrcBytes  \", np.mean(infected['SrcBytes']), np.std(infected['SrcBytes']))\n",
    "print(\"normal   - mean SrcBytes  \", np.mean(normal['SrcBytes']), np.std(normal['SrcBytes']))\n",
    "\n",
    "print(\"infected - mean dTos      \", np.mean(infected['dTos']), np.std(infected['dTos']))\n",
    "print(\"normal   - mean dTos      \", np.mean(normal['dTos']), np.std(normal['dTos']))\n",
    "\n",
    "print(\"infected - mean sTos      \", np.mean(infected['sTos']), np.std(infected['sTos']))\n",
    "print(\"normal   - mean sTos      \", np.mean(normal['sTos']), np.std(normal['sTos']))\n",
    "\n",
    "print(\"infected - mean Proto     \", np.mean(infected['Proto']), np.std(infected['Proto']))\n",
    "print(\"normal   - mean Proto     \", np.mean(normal['Proto']), np.std(normal['Proto']))\n",
    "\n",
    "print(\"infected - mean State     \", np.mean(infected['State']), np.std(infected['State']))\n",
    "print(\"normal   - mean State     \", np.mean(normal['State']), np.std(normal['State']))\n",
    "\n",
    "print(\"infected - mean Dur       \", np.mean(infected['Dur']), np.std(infected['Dur']))\n",
    "print(\"normal   - mean Dur       \", np.mean(normal['Dur']), np.std(normal['Dur']))\n",
    "\n",
    "print(\"infected - mean Dir       \", np.mean(infected['Dir']), np.std(infected['Dir']))\n",
    "print(\"normal   - mean Dir       \", np.mean(normal['Dir']), np.std(normal['Dir']))\n",
    "\n",
    "print(\"infected - mean CCDetector\", np.mean(infected['CCDetector(Normal:CC:Unknown)']), np.std(infected['CCDetector(Normal:CC:Unknown)']))\n",
    "print(\"normal   - mean CCDetector\", np.mean(normal['CCDetector(Normal:CC:Unknown)']), np.std(normal['CCDetector(Normal:CC:Unknown)']))\n",
    "\n",
    "print(\"infected - mean Label     \", np.mean(infected['Label(Normal:CC:Background)']), np.std(infected['Label(Normal:CC:Background)']))\n",
    "print(\"normal   - mean Label     \", np.mean(normal['Label(Normal:CC:Background)']), np.std(normal['Label(Normal:CC:Background)']))"
   ]
  },
  {
   "cell_type": "code",
   "execution_count": 33,
   "metadata": {},
   "outputs": [
    {
     "data": {
      "text/plain": [
       "Text(0, 0.5, 'Mean value')"
      ]
     },
     "execution_count": 33,
     "metadata": {},
     "output_type": "execute_result"
    },
    {
     "data": {
      "image/png": "[encoded data removed]",
      "text/plain": [
       "<Figure size 1080x720 with 1 Axes>"
      ]
     },
     "metadata": {
      "needs_background": "light"
     },
     "output_type": "display_data"
    }
   ],
   "source": [
    "cols = ['TotBytes','SrcBytes','TotPkts', 'Dur','State', 'dTos','sTos', 'Proto', 'Dir','CCDetector(Normal:CC:Unknown)','Label(Normal:CC:Background)']\n",
    "\n",
    "mean_infected = np.mean(infected[cols].values, axis=0)\n",
    "std_infected = np.std(infected[cols].values, axis=0)\n",
    "\n",
    "mean_clean = np.mean(normal[cols].values, axis=0)\n",
    "std_clean = np.std(normal[cols].values, axis=0)\n",
    "\n",
    "\n",
    "f, ax = plt.subplots(nrows=1, ncols=1, figsize=(15,10))\n",
    "\n",
    "ax.bar(range(2), height=mean_infected[:-9], width=0.3, color='r', label='infected')\n",
    "ax.bar(range(2), height=mean_clean[:-9], width=0.3, color='g', label='clean')\n",
    "ax.legend()\n",
    "ax.set_xticks(range(2)) \n",
    "ax.set_xticklabels(cols[:-9], fontsize=10)\n",
    "ax.set_ylabel('Mean value')"
   ]
  },
  {
   "cell_type": "code",
   "execution_count": 11,
   "metadata": {},
   "outputs": [
    {
     "data": {
      "text/plain": [
       "Text(0, 0.5, 'Mean value')"
      ]
     },
     "execution_count": 11,
     "metadata": {},
     "output_type": "execute_result"
    },
    {
     "data": {
      "image/png": "[encoded data removed]",
      "text/plain": [
       "<Figure size 1080x720 with 1 Axes>"
      ]
     },
     "metadata": {
      "needs_background": "light"
     },
     "output_type": "display_data"
    }
   ],
   "source": [
    "f, ax = plt.subplots(nrows=1, ncols=1, figsize=(15,10))\n",
    "\n",
    "ax.bar(range(3),height=mean_infected[-9:-6],\n",
    "          width=0.3, color='r', label='infected')\n",
    "ax.bar(range(3), height=mean_clean[-9:-6], \n",
    "          width=0.3, color='g', label='clean')\n",
    "ax.legend()\n",
    "ax.set_xticks(range(3)) \n",
    "ax.set_xticklabels(cols[-9:-6], fontsize=10)\n",
    "ax.set_ylabel('Mean value')"
   ]
  },
  {
   "cell_type": "code",
   "execution_count": 34,
   "metadata": {},
   "outputs": [
    {
     "data": {
      "text/plain": [
       "Text(0, 0.5, 'Mean value')"
      ]
     },
     "execution_count": 34,
     "metadata": {},
     "output_type": "execute_result"
    },
    {
     "data": {
      "image/png": "[encoded data removed]",
      "text/plain": [
       "<Figure size 1080x720 with 1 Axes>"
      ]
     },
     "metadata": {
      "needs_background": "light"
     },
     "output_type": "display_data"
    }
   ],
   "source": [
    "f, ax = plt.subplots(nrows=1, ncols=1, figsize=(15,10))\n",
    "\n",
    "ax.bar(range(6),height=mean_infected[-6:],\n",
    "          width=0.3, color='r', label='infected')\n",
    "ax.bar(range(6), height=mean_clean[-6:], \n",
    "          width=0.3, color='g', label='clean')\n",
    "ax.legend()\n",
    "ax.set_xticks(range(6)) \n",
    "ax.set_xticklabels(cols[-6:], fontsize=10)\n",
    "ax.set_ylabel('Mean value')"
   ]
  },
  {
   "cell_type": "markdown",
   "metadata": {},
   "source": [
    "<a id='1a'></a>"
   ]
  },
  {
   "cell_type": "markdown",
   "metadata": {},
   "source": [
    "### 1a. Plot visualizations - Select and visualize two features for modeling the behavior of the infected host.\n",
    "    \n",
    "       Select and visualize two features that you believe are most relevant for modeling the behavior of the infected host. (criteria: Shows the behavior of two features conditioned on the infection status.)"
   ]
  },
  {
   "cell_type": "markdown",
   "metadata": {},
   "source": [
    "From the above plots we see that Proto,SrcBytes,TotBytes,TotPkts and State seem to be the most important features.We further choose Proto and TotPkts as they vary largely between the clean and the infected flows\n",
    "\n"
   ]
  },
  {
   "cell_type": "code",
   "execution_count": 35,
   "metadata": {},
   "outputs": [
    {
     "data": {
      "text/plain": [
       "<matplotlib.legend.Legend at 0x1e7aa58c108>"
      ]
     },
     "execution_count": 35,
     "metadata": {},
     "output_type": "execute_result"
    },
    {
     "data": {
      "image/png": "[encoded data removed]",
      "text/plain": [
       "<Figure size 720x720 with 1 Axes>"
      ]
     },
     "metadata": {
      "needs_background": "light"
     },
     "output_type": "display_data"
    }
   ],
   "source": [
    "#Visualising these two features\n",
    "\n",
    "plt.figure(figsize=(10,10))\n",
    "plt.scatter(normal['Proto'].values-0.02, normal['TotPkts'].values, color='g', label='normal')\n",
    "plt.scatter(infected['Proto'].values+0.02,infected['TotPkts'].values, color='r', label='infected')\n",
    "plt.xlabel('Proto')\n",
    "plt.ylabel('TotPkts')\n",
    "plt.title('Protocol used by Infected vs Normal machines')\n",
    "plt.xticks(range(6), ['TCP', 'UDP', 'ICMP','RTCP','RTP','ARP'])  #we get this from the mapping performed earlier\n",
    "plt.legend()"
   ]
  },
  {
   "cell_type": "markdown",
   "metadata": {},
   "source": [
    "<a id='1b'></a>"
   ]
  },
  {
   "cell_type": "markdown",
   "metadata": {},
   "source": [
    "### 1b. Discretize selected features\n",
    "    Discretize these features using use any of the methods discussed in class (combine the two values into a single discrete value). (criteria: The discretization is sound, and the result investigated)"
   ]
  },
  {
   "cell_type": "code",
   "execution_count": null,
   "metadata": {},
   "outputs": [],
   "source": [
    "# Run the following command if yellowbrick is not installed\n",
    "# %pip install yellowbrick"
   ]
  },
  {
   "cell_type": "code",
   "execution_count": 14,
   "metadata": {},
   "outputs": [
    {
     "name": "stderr",
     "output_type": "stream",
     "text": [
      "C:\\Users\\maila\\Anaconda3\\lib\\site-packages\\sklearn\\utils\\deprecation.py:144: FutureWarning: The sklearn.metrics.classification module is  deprecated in version 0.22 and will be removed in version 0.24. The corresponding classes / functions should instead be imported from sklearn.metrics. Anything that cannot be imported from sklearn.metrics is now part of the private API.\n",
      "  warnings.warn(message, FutureWarning)\n"
     ]
    },
    {
     "data": {
      "image/png": "[encoded data removed]",
      "text/plain": [
       "<Figure size 576x396 with 2 Axes>"
      ]
     },
     "metadata": {},
     "output_type": "display_data"
    },
    {
     "data": {
      "text/plain": [
       "<matplotlib.axes._subplots.AxesSubplot at 0x263b2876f88>"
      ]
     },
     "execution_count": 14,
     "metadata": {},
     "output_type": "execute_result"
    }
   ],
   "source": [
    "#Apllying Elbow method to find optimal number of clusters\n",
    "val = data_no_background['TotPkts'].values\n",
    "from sklearn.cluster import KMeans\n",
    "from yellowbrick.cluster import KElbowVisualizer\n",
    "model=KElbowVisualizer(KMeans(),k=10)\n",
    "model.fit(val[...,np.newaxis])\n",
    "model.show()"
   ]
  },
  {
   "cell_type": "markdown",
   "metadata": {},
   "source": [
    "As the breakpoint is at cluster 4.Based on this we calculate the ordinal rank"
   ]
  },
  {
   "cell_type": "markdown",
   "metadata": {},
   "source": [
    "We disctretize the TotPkts feature,the Protocol feature is aldready discrete in nature. We add a new feature 'Discrete_TotPkts' which corresponds to the discretized TotPkts featutre.Then we combine these two - Protocol and discretized TotPkts feature.For this step we make use of the algorithm mentioned in paper 4(Learning Behavioral Fingerprints From NetflowsUsing Timed Automata) on page 311.We Then looked into the possible differences that could be exploited in the extracted codes."
   ]
  },
  {
   "cell_type": "code",
   "execution_count": 15,
   "metadata": {},
   "outputs": [],
   "source": [
    "def discretize(val, ranks):\n",
    "\n",
    "    ordinal_ranks = np.linspace(0, 1, ranks, endpoint=False) #based on ranks splitting to percentiles\n",
    "    ordinal_ind = np.ceil(ordinal_ranks[1:] * len(val)) #leave out 0 and calculate p/100*N and round it off,the ordinal ranks\n",
    "    ordinal_val = np.array(sorted(val))[ordinal_ind.astype(int)] #select the values at the percentiles for mapping\n",
    "    disc = []\n",
    "    for v in val:\n",
    "        for i in range(len(ordinal_val)): #i takes values 0,1,2\n",
    "            if v<=ordinal_val[i]:  #check val against all the ordinal boundary values\n",
    "                disc.append(i)\n",
    "                break\n",
    "            if i==len(ordinal_val)-1:  #if its not lesser than any boundary then it is put into the last category\n",
    "                disc.append(i+1)\n",
    "    return np.array(disc)  #this contains the discretized values of the feature\n",
    "\n",
    "\n",
    "def extract_code(values):\n",
    "    M = np.zeros(values.shape[1])\n",
    "    for j in range(values.shape[1]):\n",
    "        M[j] = len(np.unique(values[:,j])) #Pull sout all rows and only jth column,M is an array consisting of no of unique value for each feature\n",
    "    spacesize = np.prod(M) #its the product of the no of values for each feature\n",
    "    code = np.zeros(values.shape[0], dtype=int)\n",
    "    for i in range(values.shape[0]):\n",
    "        s = spacesize\n",
    "        for j in range(values.shape[1]):\n",
    "            code[i] += values[i,j] * s/M[j]\n",
    "            s = s / M[j]\n",
    "    return code"
   ]
  },
  {
   "cell_type": "markdown",
   "metadata": {},
   "source": [
    "To visualize the difference we make use of the normal flow data from the first normal host and compare it to the infected host data."
   ]
  },
  {
   "cell_type": "code",
   "execution_count": 16,
   "metadata": {},
   "outputs": [
    {
     "name": "stderr",
     "output_type": "stream",
     "text": [
      "C:\\Users\\maila\\Anaconda3\\lib\\site-packages\\ipykernel_launcher.py:2: SettingWithCopyWarning: \n",
      "A value is trying to be set on a copy of a slice from a DataFrame.\n",
      "Try using .loc[row_indexer,col_indexer] = value instead\n",
      "\n",
      "See the caveats in the documentation: http://pandas.pydata.org/pandas-docs/stable/user_guide/indexing.html#returning-a-view-versus-a-copy\n",
      "  \n"
     ]
    }
   ],
   "source": [
    "TotPkts_disc = discretize(val, 3)\n",
    "data_no_background['Discrete_TotPkts'] = TotPkts_disc\n",
    "\n",
    "feat = ['Proto', 'Discrete_TotPkts']\n",
    "\n",
    "infected_data = data_no_background[np.logical_or(data_no_background['SrcAddr']==infected_hosts[0], data_no_background['DstAddr']==infected_hosts[0])]\n",
    "infected_data = infected_data[feat].values #selects values of Proto and Discrete_Totpkts\n",
    "infected_code = extract_code(infected_data)\n",
    "\n",
    "clean_data = data_no_background[np.logical_or(data_no_background['SrcAddr']==normal_hosts[0], data_no_background['DstAddr']==normal_hosts[0])][feat].values\n",
    "test_code= extract_code(clean_data)"
   ]
  },
  {
   "cell_type": "code",
   "execution_count": 17,
   "metadata": {},
   "outputs": [
    {
     "data": {
      "text/plain": [
       "Text(0, 0.5, 'Extracted code')"
      ]
     },
     "execution_count": 17,
     "metadata": {},
     "output_type": "execute_result"
    },
    {
     "data": {
      "image/png": "[encoded data removed]",
      "text/plain": [
       "<Figure size 1440x720 with 1 Axes>"
      ]
     },
     "metadata": {},
     "output_type": "display_data"
    }
   ],
   "source": [
    "plt.figure(figsize=(20,10))\n",
    "plt.plot(infected_code, color='r', label='infected')\n",
    "plt.plot(test_code, color='g', label='clean')\n",
    "plt.legend()\n",
    "plt.xlabel(\"Index\")\n",
    "plt.ylabel(\"Extracted code\")"
   ]
  },
  {
   "cell_type": "markdown",
   "metadata": {},
   "source": [
    "<a id='1c'></a>"
   ]
  },
  {
   "cell_type": "markdown",
   "metadata": {},
   "source": [
    "### 1b. Answers and explanation\n",
    "Do you observe any behavior in the two features that could be useful for detecting the infection? Explain and visualize."
   ]
  },
  {
   "cell_type": "markdown",
   "metadata": {},
   "source": [
    "As seen in the above plots the infected data resulted in higher extracted code values, hence this could be used in classification of unseen data as infected or normal data. (This can further be used in task 5/6???)"
   ]
  },
  {
   "cell_type": "code",
   "execution_count": 11,
   "metadata": {},
   "outputs": [],
   "source": [
    "import zipfile\n",
    "archive = zipfile.ZipFile('dataset_lab3.zip', 'r')\n",
    "data = archive.read('dataset_10/capture20110818.binetflow')\n",
    "# archive.namelist()"
   ]
  },
  {
   "cell_type": "code",
   "execution_count": null,
   "metadata": {},
   "outputs": [],
   "source": []
  },
  {
   "cell_type": "code",
   "execution_count": null,
   "metadata": {},
   "outputs": [],
   "source": []
  },
  {
   "cell_type": "markdown",
   "metadata": {},
   "source": [
    "<a id='2'></a>"
   ]
  },
  {
   "cell_type": "markdown",
   "metadata": {},
   "source": [
    "## 2. Frequent task – 1/2 A4 (Individual)\n",
    "\n",
    "Use the SPACE SAVING algorithm to estimate the distribution over 3-grams of discretised symbols. \n",
    "\n",
    "\t1. Write code for the algorithm, use it to estimate the distribution in one pass (no need to actually stream the data, you may store it in memory, or run every file separately, but do store and load the intermediate results). \n",
    "\t2. Use a range of number of counters. (criteria: explanations for the number of used counters/bin)\n",
    "\t3. What are the 10 most frequent 3-grams and their frequencies when approximated? \n",
    "\t4. Use the theory to explain any approximation errors you observe. (criteria: The 3-gram count approximation is correct, and its quality is related to theory)"
   ]
  },
  {
   "cell_type": "markdown",
   "metadata": {},
   "source": [
    "<a id='2a'></a>"
   ]
  },
  {
   "cell_type": "markdown",
   "metadata": {},
   "source": [
    "### 2a. Use the SPACE SAVING algorithm\n",
    "\n",
    "    1. Write code for the algorithm, use it to estimate the distribution in one pass (no need to actually stream the data, you may store it in memory, or run every file separately, but do store and load the intermediate results). \n",
    "\t2. Use a range of number of counters. (criteria: explanations for the number of used counters/bin)"
   ]
  },
  {
   "cell_type": "code",
   "execution_count": null,
   "metadata": {},
   "outputs": [],
   "source": []
  },
  {
   "cell_type": "markdown",
   "metadata": {},
   "source": [
    "<a id='2b'></a>"
   ]
  },
  {
   "cell_type": "markdown",
   "metadata": {},
   "source": [
    "### 2b. Analysis and answers to the questions\n",
    "\n",
    "    3. What are the 10 most frequent 3-grams and their frequencies when approximated? \n",
    "\t4. Use the theory to explain any approximation errors you observe. (criteria: The 3-gram count approximation is correct, and its quality is related to theory)\n"
   ]
  },
  {
   "cell_type": "code",
   "execution_count": null,
   "metadata": {},
   "outputs": [],
   "source": []
  },
  {
   "cell_type": "markdown",
   "metadata": {},
   "source": [
    "<a id='3'></a>"
   ]
  },
  {
   "cell_type": "markdown",
   "metadata": {},
   "source": [
    "## 3. Sketching task – 1/2 A4 (Individual)\n",
    "Build code for computing a COUNT-MIN sketch to estimate occurrence counts for the 3-grams. Make sure the hash functions are pairwise independent. \n",
    "\n",
    "\t1. Estimate the distribution in one pass (no need to actually stream the data, you may store it in memory, or run every file separately, but do store and load the intermediate results). \n",
    "\t2.\tPlay with different heights and widths for the COUNT-MIN sketch matrix. (criteria: explanations for the number of used counters/bin) \n",
    "\t3.\tWhat are the 10 most frequent 3-gramsand their frequencies when approximated? \n",
    "\t4.\tUse the theory to explain any approximation errors you observe. (criteria: The 3-gram count approximation is correct, and its quality is related to theory)\n"
   ]
  },
  {
   "cell_type": "markdown",
   "metadata": {},
   "source": [
    "<a id='3a'></a>"
   ]
  },
  {
   "cell_type": "markdown",
   "metadata": {},
   "source": [
    "### 3a. COUNT-MIN sketch\n",
    "\n",
    "    1. Estimate the distribution in one pass (no need to actually stream the data, you may store it in memory, or run every file separately, but do store and load the intermediate results). \n",
    "\t2.\tPlay with different heights and widths for the COUNT-MIN sketch matrix. (criteria: explanations for the number of used counters/bin) "
   ]
  },
  {
   "cell_type": "code",
   "execution_count": null,
   "metadata": {},
   "outputs": [],
   "source": []
  },
  {
   "cell_type": "markdown",
   "metadata": {},
   "source": [
    "<a id='3b'></a>"
   ]
  },
  {
   "cell_type": "markdown",
   "metadata": {},
   "source": [
    "### 3b. Analysis and answers to the questions\n",
    "\n",
    "    3.\tWhat are the 10 most frequent 3-gramsand their frequencies when approximated? \n",
    "\t4.\tUse the theory to explain any approximation errors you observe. (criteria: The 3-gram count approximation is correct, and its quality is related to theory)\n"
   ]
  },
  {
   "cell_type": "code",
   "execution_count": null,
   "metadata": {},
   "outputs": [],
   "source": []
  },
  {
   "cell_type": "markdown",
   "metadata": {},
   "source": [
    "<a id='4'></a>"
   ]
  },
  {
   "cell_type": "markdown",
   "metadata": {},
   "source": [
    "## 4. Min-wise locality sensitive hashing task – 1/2 A4 (Individual)\n",
    "\n",
    "Implement min-wise locality sensitive hashing as explained in the slides and the documents on Brightspace. This can be used to quickly compute the Jaccard distance for N-gram profiles. \n",
    "\n",
    "\t1.\tUse the discretization from task 1, build 3-gram profiles for every individual connection (pair of IP-addresses). \n",
    "\t2.\tFor this task, the profiles are binary, an N-gram (subsequence) exists (a 1 in the table) or does not (a 0 in the table). \n",
    "\t3.\tUse min-wise LSH to map the 3-gram profiles to a small set of bins of your choice. (Criteria: The number of bins is set sensibly)\n",
    "\t4.\tCompare the run-time of a pair-wise distance computation with one that only considers profiles that end in the same bin. \n",
    "\t5.\tExplain any differences you observe. (criteria: The resulting comparison explains differences in run-time and quality.)"
   ]
  },
  {
   "cell_type": "markdown",
   "metadata": {},
   "source": [
    "<a id='4a'></a>"
   ]
  },
  {
   "cell_type": "markdown",
   "metadata": {},
   "source": [
    "### 4a. Implementation\n",
    "    1.\tUse the discretization from task 1, build 3-gram profiles for every individual connection (pair of IP-addresses). \n",
    "\t2.\tFor this task, the profiles are binary, an N-gram (subsequence) exists (a 1 in the table) or does not (a 0 in the table). \n",
    "\t3.\tUse min-wise LSH to map the 3-gram profiles to a small set of bins of your choice. (Criteria: The number of bins is set sensibly)"
   ]
  },
  {
   "cell_type": "code",
   "execution_count": null,
   "metadata": {},
   "outputs": [],
   "source": []
  },
  {
   "cell_type": "markdown",
   "metadata": {},
   "source": [
    "<a id='4b'></a>"
   ]
  },
  {
   "cell_type": "markdown",
   "metadata": {},
   "source": [
    "### 4b. Analysis and answers to the questions\n",
    "    \n",
    "    4.\tCompare the run-time of a pair-wise distance computation with one that only considers profiles that end in the same bin. \n",
    "\t5.\tExplain any differences you observe. (criteria: The resulting comparison explains differences in run-time and quality.)"
   ]
  },
  {
   "cell_type": "code",
   "execution_count": null,
   "metadata": {},
   "outputs": [],
   "source": []
  },
  {
   "cell_type": "markdown",
   "metadata": {},
   "source": [
    "<a id='5'></a>"
   ]
  },
  {
   "cell_type": "markdown",
   "metadata": {},
   "source": [
    "## 5. Random hyperplane locality sensitive hashing task – 1/2 A4 (Individual)\n",
    "\n",
    "Implement locality sensitive hashing using random hyperplanes as explained in the slides and the documents on Brightspace. This can be used to quickly compute Euclidean distance for N-gram profiles.\n",
    "\n",
    "\t1.\tUse the discretization from task 1, build 3-gram profilesfor every individual connection (pair of IP-addresses). \n",
    "\t2.\tFor this task, the profiles are countsfor every possible 3-gram (subsequence).\n",
    "\t3.\tUse random hyperplanes LSH to map the N-gram profiles to a small set of bins of your choice. \n",
    "\t4.\tCompare the run-time of a pair-wise distance computation with one that only considers profiles that end in the same bin. (criteria: The number of bins is set sensibly)\n",
    "\t5.\tExplain any differences you observe. (criteria: The resulting comparison explains differences in run-time and quality.)\n"
   ]
  },
  {
   "cell_type": "markdown",
   "metadata": {},
   "source": [
    "<a id='5a'></a>"
   ]
  },
  {
   "cell_type": "markdown",
   "metadata": {},
   "source": [
    "### 5a. Implementation - locality sensitive hashing\n",
    "\n",
    "    1.\tUse the discretization from task 1, build 3-gram profilesfor every individual connection (pair of IP-addresses). \n",
    "\t2.\tFor this task, the profiles are countsfor every possible 3-gram (subsequence).\n",
    "\t3.\tUse random hyperplanes LSH to map the N-gram profiles to a small set of bins of your choice. "
   ]
  },
  {
   "cell_type": "code",
   "execution_count": null,
   "metadata": {},
   "outputs": [],
   "source": []
  },
  {
   "cell_type": "markdown",
   "metadata": {},
   "source": [
    "<a id='5b'></a>"
   ]
  },
  {
   "cell_type": "markdown",
   "metadata": {},
   "source": [
    "### 5b. Analysis and answers to the questions. Also provide relevant plots.\n",
    "\n",
    "    4.\tCompare the run-time of a pair-wise distance computation with one that only considers profiles that end in the same bin. (criteria: The number of bins is set sensibly)\n",
    "\t5.\tExplain any differences you observe. (criteria: The resulting comparison explains differences in run-time and quality.)"
   ]
  },
  {
   "cell_type": "code",
   "execution_count": null,
   "metadata": {},
   "outputs": [],
   "source": []
  },
  {
   "cell_type": "markdown",
   "metadata": {},
   "source": [
    "<a id='6'></a>"
   ]
  },
  {
   "cell_type": "markdown",
   "metadata": {},
   "source": [
    "## 6.Botnet profiling task – 1/2 A4\n",
    "\n",
    "    1.\tUse a sliding window to obtain sequence data for every host in all scenarios considered in paper 4 (with multiple infected hosts), with a length of your choice. (criteria: Advanced sequential model learning is used correctly, one for each host.)\n",
    "\t2.\tLearn an n-gram model from the data of one infected host and match its profile (e.g., n-grams using cosine distance, or probabilities using KL-divergence) with all other hosts from the same scenario. \n",
    "\t3.\tEvaluate how many new infections your method finds and false positives it raises (as in paper 4) (criteria: Profile matching and evaluation are correct)\n"
   ]
  },
  {
   "cell_type": "markdown",
   "metadata": {},
   "source": [
    "<a id='6a'></a>"
   ]
  },
  {
   "cell_type": "markdown",
   "metadata": {},
   "source": [
    "### 6a. Learn a sequential model\n",
    "\n",
    "    1.\tUse a sliding window to obtain sequence data for every host in all scenarios considered in paper 4 (with multiple infected hosts), with a length of your choice. (criteria: Advanced sequential model learning is used correctly, one for each host.)\n",
    "\t2.\tLearn an n-gram model from the data of one infected host and match its profile (e.g., n-grams using cosine distance, or probabilities using KL-divergence) with all other hosts from the same scenario. "
   ]
  },
  {
   "cell_type": "code",
   "execution_count": null,
   "metadata": {},
   "outputs": [],
   "source": []
  },
  {
   "cell_type": "markdown",
   "metadata": {},
   "source": [
    "<a id='6b'></a>"
   ]
  },
  {
   "cell_type": "markdown",
   "metadata": {},
   "source": [
    "### 6b. Analysis and answers to the questions.\n",
    "\n",
    "    3.\tEvaluate how many new infections your method finds and false positives it raises (as in paper 4) (criteria: Profile matching and evaluation are correct)\n"
   ]
  },
  {
   "cell_type": "code",
   "execution_count": null,
   "metadata": {},
   "outputs": [],
   "source": []
  },
  {
   "cell_type": "markdown",
   "metadata": {},
   "source": [
    "<a id='7'></a>"
   ]
  },
  {
   "cell_type": "markdown",
   "metadata": {},
   "source": [
    "## 7.Botnet fingerprinting task – 1/2 A4\n",
    "\n",
    "    1.\tUse the obtained botnet profiles for fingerprinting, i.e., look for the occurrence of an n-gram that does not occur in any benign traffic. \n",
    "\t2.\tWhenever this subsequence occurs, you raise an alarm. \n",
    "\t3.\tEvaluate how many new infections your method finds and false positives it raises (as in paper 4).\n",
    "\t4.\tCompare it to profiling and explain the results. (criteria:Fingerprinting is correctly applied. Comparison to profiling is sound and considers both run-time and the kinds of behaviors that can be detected)"
   ]
  },
  {
   "cell_type": "markdown",
   "metadata": {},
   "source": [
    "<a id='7a'></a>"
   ]
  },
  {
   "cell_type": "markdown",
   "metadata": {},
   "source": [
    "### 7a. Fingerprinting\n",
    "\n",
    "    1.\tUse the obtained botnet profiles for fingerprinting, i.e., look for the occurrence of an n-gram that does not occur in any benign traffic. \n",
    "\t2.\tWhenever this subsequence occurs, you raise an alarm. \n"
   ]
  },
  {
   "cell_type": "code",
   "execution_count": null,
   "metadata": {},
   "outputs": [],
   "source": []
  },
  {
   "cell_type": "markdown",
   "metadata": {},
   "source": [
    "<a id='7b'></a>"
   ]
  },
  {
   "cell_type": "markdown",
   "metadata": {},
   "source": [
    "### 7b. Analysis and answers to the questions.\n",
    "\t3.\tEvaluate how many new infections your method finds and false positives it raises (as in paper 4).\n",
    "\t4.\tCompare it to profiling and explain the results. (criteria:Fingerprinting is correctly applied. Comparison to profiling is sound and considers both run-time and the kinds of behaviors that can be detected)"
   ]
  },
  {
   "cell_type": "code",
   "execution_count": null,
   "metadata": {},
   "outputs": [],
   "source": []
  },
  {
   "cell_type": "markdown",
   "metadata": {},
   "source": [
    "<a id='8'></a>"
   ]
  },
  {
   "cell_type": "markdown",
   "metadata": {},
   "source": [
    "## 8. Bonus Task 1/2 A4"
   ]
  },
  {
   "cell_type": "markdown",
   "metadata": {},
   "source": [
    "### 8a. Provide implementation and analysis."
   ]
  },
  {
   "cell_type": "code",
   "execution_count": null,
   "metadata": {},
   "outputs": [],
   "source": []
  }
 ],
 "metadata": {
  "kernelspec": {
   "display_name": "Python 3",
   "language": "python",
   "name": "python3"
  },
  "language_info": {
   "codemirror_mode": {
    "name": "ipython",
    "version": 3
   },
   "file_extension": ".py",
   "mimetype": "text/x-python",
   "name": "python",
   "nbconvert_exporter": "python",
   "pygments_lexer": "ipython3",
   "version": "3.7.6"
  }
 },
 "nbformat": 4,
 "nbformat_minor": 2
}
