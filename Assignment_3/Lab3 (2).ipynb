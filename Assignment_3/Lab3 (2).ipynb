{
 "cells": [
  {
   "cell_type": "markdown",
   "metadata": {},
   "source": [
    "# CS4035 - Cyber Data Analytics\n",
    "## Lab 3 "
   ]
  },
  {
   "cell_type": "markdown",
   "metadata": {},
   "source": [
    "### Submit on brightspace (zip file with the name Group_xx.zip)\n",
    "(i) This jupyter file completed with code, plots, figures and report for each question. Additional plots and figures can be created for explanation before the end of each main question. Lab 3 contains 7 main questions, including the bonus. Write the code or explanation below each sub question. For the explantions, include what you would normally include in the report for this lab assignment, for example data pre-processing, hypothesis tested, approach, results, etc.\n",
    "(ii) A PDF or a Word report for the assignment. Create a report from the plots, figures, tables and the write-up that you provide in this jupyter file. The report will be used as a proof for page limit. \n",
    "(iii) The libraries needed to run this file. \n",
    "\n",
    "Your peers should be able to use the readme section for instructions and be able to run this file. "
   ]
  },
  {
   "cell_type": "markdown",
   "metadata": {},
   "source": [
    "## Group Number :"
   ]
  },
  {
   "cell_type": "markdown",
   "metadata": {},
   "source": [
    "## Student 1 \n",
    "### Name : Arpita Ravindranath\n",
    "### ID : 5002702"
   ]
  },
  {
   "cell_type": "markdown",
   "metadata": {},
   "source": [
    "## Student 2\n",
    "### Name : Menno Bezema\n",
    "### ID : 4248252"
   ]
  },
  {
   "cell_type": "markdown",
   "metadata": {},
   "source": [
    "## Readme - Provide instructions - libraries used, location of the data file, etc. Keep it short. Remember your peers will not debug your code and should be able to reproduce the exact output you provide."
   ]
  },
  {
   "cell_type": "markdown",
   "metadata": {},
   "source": [
    "pandas\n",
    "numpy\n",
    "matplotlib\n",
    "sklearn\n",
    "yellowbrick"
   ]
  },
  {
   "cell_type": "markdown",
   "metadata": {},
   "source": [
    "### index (Easy navigation to sections)\n",
    "This index also shows how our report is set up. We work through the questions in the assignments in order. The link to the question is the first cell in which we talk about that part (2a leads to the start of 2a).\n",
    "1. [Familiarization and discretization task](#1)\n",
    "    - [1a. Plot Visualizations](#1a)\n",
    "    - [1b. Discretize selected features](#1b)\n",
    "    - [1c. Answers and explanation](#1c)\n",
    "2. [Frequent task](#2)\n",
    "    - [2a. Use the SPACE SAVING Algorithm](#2a)\n",
    "    - [2b. Analysis and answers to the questions](#2b)\n",
    "3. [Sketching task](#3)\n",
    "    - [3a. COUNT-MIN sketch](#3a)\n",
    "    - [3b. Analysis and answers to the questions](#3b)\n",
    "4. [Min-wise locality sensitive hashing task  task](#4)\n",
    "    - [4a. Implementation](#4a)\n",
    "    - [4b. Analysis and answers to the questions](#4b)\n",
    "5. [Random hyperplane locality sensitive hashing task ](#5)\n",
    "    - [5a. Implementation - locality sensitive hashing](#5a)\n",
    "    - [5b. Analysis and answers to the questions. Also provide relevant plots](#5b)\n",
    "6. [Botnet profiling task](#6)\n",
    "    - [6a. Learn a sequential model.](#6a)\n",
    "    - [6b. Analysis and answers to the questions.](#6b)\n",
    "7. [Botnet fingerprinting task task](#7)\n",
    "    - [7a. Fingerprinting.](#7a)\n",
    "    - [7b. Analysis and answers to the questions.](#7b)\n",
    "8. [Bonus](#8)"
   ]
  },
  {
   "cell_type": "markdown",
   "metadata": {},
   "source": [
    "<a id='1'></a>"
   ]
  },
  {
   "cell_type": "markdown",
   "metadata": {},
   "source": [
    "## 1. Familiarization and discretization task – 1 A4\n",
    "Familiarization and discretization task –1 A4\n",
    "Consider scenario 10 from the CTU-13 data sets (see paper 4 from below resources). Remove all background flows from the data. \n",
    "\n",
    "\tAssignment:\n",
    "\t1. You are to discretize the NetFlows (Apply the discretization to data from all hosts in the selected scenario). \n",
    "\t2. Investigate the data from one of the infected hosts. \n",
    "\t3. Select and visualize two features that you believe are most relevant for modeling the behavior of the infected host. (criteria: Shows the behavior of two features conditioned on the infection status.)\n",
    "\t4. Discretize these features using use any of the methods discussed in class (combine the two values into a single discrete value). (criteria: The discretization is sound, and the result investigated)\n",
    "    \n",
    "    Question:\n",
    "\t1. Do you observe any behavior in the two features that could be useful for detecting the infection? Explain and visualize. \n"
   ]
  },
  {
   "cell_type": "code",
   "execution_count": 2,
   "metadata": {},
   "outputs": [],
   "source": [
    "import pandas as pd\n",
    "import random\n",
    "import numpy as np\n",
    "import matplotlib.pylab as plt\n",
    "%matplotlib inline"
   ]
  },
  {
   "cell_type": "code",
   "execution_count": 18,
   "metadata": {},
   "outputs": [
    {
     "data": {
      "text/html": [
       "<div>\n",
       "<style scoped>\n",
       "    .dataframe tbody tr th:only-of-type {\n",
       "        vertical-align: middle;\n",
       "    }\n",
       "\n",
       "    .dataframe tbody tr th {\n",
       "        vertical-align: top;\n",
       "    }\n",
       "\n",
       "    .dataframe thead th {\n",
       "        text-align: right;\n",
       "    }\n",
       "</style>\n",
       "<table border=\"1\" class=\"dataframe\">\n",
       "  <thead>\n",
       "    <tr style=\"text-align: right;\">\n",
       "      <th></th>\n",
       "      <th>StartTime</th>\n",
       "      <th>Dur</th>\n",
       "      <th>Proto</th>\n",
       "      <th>SrcAddr</th>\n",
       "      <th>Sport</th>\n",
       "      <th>Dir</th>\n",
       "      <th>DstAddr</th>\n",
       "      <th>Dport</th>\n",
       "      <th>State</th>\n",
       "      <th>sTos</th>\n",
       "      <th>dTos</th>\n",
       "      <th>TotPkts</th>\n",
       "      <th>TotBytes</th>\n",
       "      <th>SrcBytes</th>\n",
       "      <th>Label</th>\n",
       "    </tr>\n",
       "  </thead>\n",
       "  <tbody>\n",
       "    <tr>\n",
       "      <th>0</th>\n",
       "      <td>2011/08/18 10:21:46.633335</td>\n",
       "      <td>1.060248</td>\n",
       "      <td>tcp</td>\n",
       "      <td>93.45.239.29</td>\n",
       "      <td>1611</td>\n",
       "      <td>-&gt;</td>\n",
       "      <td>147.32.84.118</td>\n",
       "      <td>6881</td>\n",
       "      <td>S_RA</td>\n",
       "      <td>0.0</td>\n",
       "      <td>0.0</td>\n",
       "      <td>4</td>\n",
       "      <td>252</td>\n",
       "      <td>132</td>\n",
       "      <td>flow=Background-TCP-Attempt</td>\n",
       "    </tr>\n",
       "    <tr>\n",
       "      <th>1</th>\n",
       "      <td>2011/08/18 10:19:49.027650</td>\n",
       "      <td>279.349152</td>\n",
       "      <td>tcp</td>\n",
       "      <td>62.240.166.118</td>\n",
       "      <td>1031</td>\n",
       "      <td>&lt;?&gt;</td>\n",
       "      <td>147.32.84.229</td>\n",
       "      <td>13363</td>\n",
       "      <td>SRPA_PA</td>\n",
       "      <td>0.0</td>\n",
       "      <td>0.0</td>\n",
       "      <td>15</td>\n",
       "      <td>1318</td>\n",
       "      <td>955</td>\n",
       "      <td>flow=Background-TCP-Attempt</td>\n",
       "    </tr>\n",
       "    <tr>\n",
       "      <th>2</th>\n",
       "      <td>2011/08/18 10:22:07.160628</td>\n",
       "      <td>166.390015</td>\n",
       "      <td>tcp</td>\n",
       "      <td>147.32.86.148</td>\n",
       "      <td>58067</td>\n",
       "      <td>-&gt;</td>\n",
       "      <td>66.235.132.232</td>\n",
       "      <td>80</td>\n",
       "      <td>SR_SA</td>\n",
       "      <td>0.0</td>\n",
       "      <td>0.0</td>\n",
       "      <td>3</td>\n",
       "      <td>212</td>\n",
       "      <td>134</td>\n",
       "      <td>flow=Background-TCP-Established</td>\n",
       "    </tr>\n",
       "    <tr>\n",
       "      <th>3</th>\n",
       "      <td>2011/08/18 10:26:02.052163</td>\n",
       "      <td>1.187083</td>\n",
       "      <td>tcp</td>\n",
       "      <td>147.32.3.51</td>\n",
       "      <td>3130</td>\n",
       "      <td>-&gt;</td>\n",
       "      <td>147.32.84.46</td>\n",
       "      <td>10010</td>\n",
       "      <td>S_RA</td>\n",
       "      <td>0.0</td>\n",
       "      <td>0.0</td>\n",
       "      <td>4</td>\n",
       "      <td>244</td>\n",
       "      <td>124</td>\n",
       "      <td>flow=Background-TCP-Attempt</td>\n",
       "    </tr>\n",
       "    <tr>\n",
       "      <th>4</th>\n",
       "      <td>2011/08/18 10:26:52.226748</td>\n",
       "      <td>0.980571</td>\n",
       "      <td>tcp</td>\n",
       "      <td>88.212.37.169</td>\n",
       "      <td>3134</td>\n",
       "      <td>-&gt;</td>\n",
       "      <td>147.32.84.118</td>\n",
       "      <td>6881</td>\n",
       "      <td>S_RA</td>\n",
       "      <td>0.0</td>\n",
       "      <td>0.0</td>\n",
       "      <td>4</td>\n",
       "      <td>244</td>\n",
       "      <td>124</td>\n",
       "      <td>flow=Background-TCP-Attempt</td>\n",
       "    </tr>\n",
       "  </tbody>\n",
       "</table>\n",
       "</div>"
      ],
      "text/plain": [
       "                    StartTime         Dur Proto         SrcAddr  Sport    Dir  \\\n",
       "0  2011/08/18 10:21:46.633335    1.060248   tcp    93.45.239.29   1611     ->   \n",
       "1  2011/08/18 10:19:49.027650  279.349152   tcp  62.240.166.118   1031    <?>   \n",
       "2  2011/08/18 10:22:07.160628  166.390015   tcp   147.32.86.148  58067     ->   \n",
       "3  2011/08/18 10:26:02.052163    1.187083   tcp     147.32.3.51   3130     ->   \n",
       "4  2011/08/18 10:26:52.226748    0.980571   tcp   88.212.37.169   3134     ->   \n",
       "\n",
       "          DstAddr  Dport    State  sTos  dTos  TotPkts  TotBytes  SrcBytes  \\\n",
       "0   147.32.84.118   6881     S_RA   0.0   0.0        4       252       132   \n",
       "1   147.32.84.229  13363  SRPA_PA   0.0   0.0       15      1318       955   \n",
       "2  66.235.132.232     80    SR_SA   0.0   0.0        3       212       134   \n",
       "3    147.32.84.46  10010     S_RA   0.0   0.0        4       244       124   \n",
       "4   147.32.84.118   6881     S_RA   0.0   0.0        4       244       124   \n",
       "\n",
       "                             Label  \n",
       "0      flow=Background-TCP-Attempt  \n",
       "1      flow=Background-TCP-Attempt  \n",
       "2  flow=Background-TCP-Established  \n",
       "3      flow=Background-TCP-Attempt  \n",
       "4      flow=Background-TCP-Attempt  "
      ]
     },
     "execution_count": 18,
     "metadata": {},
     "output_type": "execute_result"
    }
   ],
   "source": [
    "import zipfile\n",
    "archive = zipfile.ZipFile('dataset_lab3.zip', 'r')\n",
    "new_data = pd.read_csv(archive.open('dataset_10/capture20110818.binetflow'))\n",
    "# archive.namelist() capture20110818.binetflow.labeled\n",
    "new_data.head()"
   ]
  },
  {
   "cell_type": "code",
   "execution_count": 17,
   "metadata": {},
   "outputs": [
    {
     "name": "stderr",
     "output_type": "stream",
     "text": [
      "C:\\tools\\Anaconda3\\lib\\site-packages\\IPython\\core\\interactiveshell.py:3063: DtypeWarning: Columns (4,7) have mixed types.Specify dtype option on import or set low_memory=False.\n",
      "  interactivity=interactivity, compiler=compiler, result=result)\n"
     ]
    },
    {
     "data": {
      "text/html": [
       "<div>\n",
       "<style scoped>\n",
       "    .dataframe tbody tr th:only-of-type {\n",
       "        vertical-align: middle;\n",
       "    }\n",
       "\n",
       "    .dataframe tbody tr th {\n",
       "        vertical-align: top;\n",
       "    }\n",
       "\n",
       "    .dataframe thead th {\n",
       "        text-align: right;\n",
       "    }\n",
       "</style>\n",
       "<table border=\"1\" class=\"dataframe\">\n",
       "  <thead>\n",
       "    <tr style=\"text-align: right;\">\n",
       "      <th></th>\n",
       "      <th>#StartTime</th>\n",
       "      <th>Dur</th>\n",
       "      <th>Proto</th>\n",
       "      <th>SrcAddr</th>\n",
       "      <th>Sport</th>\n",
       "      <th>Dir</th>\n",
       "      <th>DstAddr</th>\n",
       "      <th>Dport</th>\n",
       "      <th>State</th>\n",
       "      <th>sTos</th>\n",
       "      <th>dTos</th>\n",
       "      <th>TotPkts</th>\n",
       "      <th>TotBytes</th>\n",
       "      <th>SrcBytes</th>\n",
       "      <th>Label(Normal:CC:Background)</th>\n",
       "      <th>CCDetector(Normal:CC:Unknown)</th>\n",
       "    </tr>\n",
       "  </thead>\n",
       "  <tbody>\n",
       "    <tr>\n",
       "      <th>0</th>\n",
       "      <td>2011/08/18 11:46:16.889182</td>\n",
       "      <td>2.991484</td>\n",
       "      <td>tcp</td>\n",
       "      <td>147.32.84.118</td>\n",
       "      <td>3038</td>\n",
       "      <td>-&gt;</td>\n",
       "      <td>2.215.205.93</td>\n",
       "      <td>6881</td>\n",
       "      <td>S_</td>\n",
       "      <td>0.0</td>\n",
       "      <td>NaN</td>\n",
       "      <td>2</td>\n",
       "      <td>124</td>\n",
       "      <td>124</td>\n",
       "      <td>flow=Background-TCP-Attempt</td>\n",
       "      <td>Unknown</td>\n",
       "    </tr>\n",
       "    <tr>\n",
       "      <th>1</th>\n",
       "      <td>2011/08/18 11:48:31.567539</td>\n",
       "      <td>8.933183</td>\n",
       "      <td>tcp</td>\n",
       "      <td>147.32.84.118</td>\n",
       "      <td>3168</td>\n",
       "      <td>-&gt;</td>\n",
       "      <td>2.215.205.93</td>\n",
       "      <td>6881</td>\n",
       "      <td>S_</td>\n",
       "      <td>0.0</td>\n",
       "      <td>NaN</td>\n",
       "      <td>3</td>\n",
       "      <td>186</td>\n",
       "      <td>186</td>\n",
       "      <td>flow=Background-TCP-Attempt</td>\n",
       "      <td>Unknown</td>\n",
       "    </tr>\n",
       "    <tr>\n",
       "      <th>2</th>\n",
       "      <td>2011/08/18 11:51:49.645845</td>\n",
       "      <td>9.010275</td>\n",
       "      <td>tcp</td>\n",
       "      <td>147.32.84.118</td>\n",
       "      <td>3312</td>\n",
       "      <td>-&gt;</td>\n",
       "      <td>2.215.205.93</td>\n",
       "      <td>6881</td>\n",
       "      <td>S_</td>\n",
       "      <td>0.0</td>\n",
       "      <td>NaN</td>\n",
       "      <td>3</td>\n",
       "      <td>186</td>\n",
       "      <td>186</td>\n",
       "      <td>flow=Background-TCP-Attempt</td>\n",
       "      <td>Unknown</td>\n",
       "    </tr>\n",
       "    <tr>\n",
       "      <th>3</th>\n",
       "      <td>2011/08/18 14:56:38.633552</td>\n",
       "      <td>0.000921</td>\n",
       "      <td>udp</td>\n",
       "      <td>46.217.68.251</td>\n",
       "      <td>20962</td>\n",
       "      <td>&lt;-&gt;</td>\n",
       "      <td>147.32.86.116</td>\n",
       "      <td>19083</td>\n",
       "      <td>CON</td>\n",
       "      <td>0.0</td>\n",
       "      <td>0.0</td>\n",
       "      <td>2</td>\n",
       "      <td>136</td>\n",
       "      <td>75</td>\n",
       "      <td>flow=Background-UDP-Established</td>\n",
       "      <td>Unknown</td>\n",
       "    </tr>\n",
       "    <tr>\n",
       "      <th>4</th>\n",
       "      <td>2011/08/18 13:24:42.033424</td>\n",
       "      <td>2570.226318</td>\n",
       "      <td>udp</td>\n",
       "      <td>147.32.84.229</td>\n",
       "      <td>13363</td>\n",
       "      <td>&lt;-&gt;</td>\n",
       "      <td>208.88.186.4</td>\n",
       "      <td>34033</td>\n",
       "      <td>CON</td>\n",
       "      <td>0.0</td>\n",
       "      <td>0.0</td>\n",
       "      <td>16</td>\n",
       "      <td>2241</td>\n",
       "      <td>1643</td>\n",
       "      <td>flow=Background-UDP-Established</td>\n",
       "      <td>Unknown</td>\n",
       "    </tr>\n",
       "  </tbody>\n",
       "</table>\n",
       "</div>"
      ],
      "text/plain": [
       "                   #StartTime          Dur Proto        SrcAddr  Sport    Dir  \\\n",
       "0  2011/08/18 11:46:16.889182     2.991484   tcp  147.32.84.118   3038     ->   \n",
       "1  2011/08/18 11:48:31.567539     8.933183   tcp  147.32.84.118   3168     ->   \n",
       "2  2011/08/18 11:51:49.645845     9.010275   tcp  147.32.84.118   3312     ->   \n",
       "3  2011/08/18 14:56:38.633552     0.000921   udp  46.217.68.251  20962    <->   \n",
       "4  2011/08/18 13:24:42.033424  2570.226318   udp  147.32.84.229  13363    <->   \n",
       "\n",
       "         DstAddr  Dport State  sTos  dTos  TotPkts  TotBytes  SrcBytes  \\\n",
       "0   2.215.205.93   6881    S_   0.0   NaN        2       124       124   \n",
       "1   2.215.205.93   6881    S_   0.0   NaN        3       186       186   \n",
       "2   2.215.205.93   6881    S_   0.0   NaN        3       186       186   \n",
       "3  147.32.86.116  19083   CON   0.0   0.0        2       136        75   \n",
       "4   208.88.186.4  34033   CON   0.0   0.0       16      2241      1643   \n",
       "\n",
       "       Label(Normal:CC:Background) CCDetector(Normal:CC:Unknown)  \n",
       "0      flow=Background-TCP-Attempt                       Unknown  \n",
       "1      flow=Background-TCP-Attempt                       Unknown  \n",
       "2      flow=Background-TCP-Attempt                       Unknown  \n",
       "3  flow=Background-UDP-Established                       Unknown  \n",
       "4  flow=Background-UDP-Established                       Unknown  "
      ]
     },
     "execution_count": 17,
     "metadata": {},
     "output_type": "execute_result"
    }
   ],
   "source": [
    "# Reading the networkdata into a \n",
    "# archive = zipfile.ZipFile('capture20110818.binetflow.labeled.zip', 'r')\n",
    "data = pd.read_csv('capture20110818.binetflow.labeled.zip', header=0, sep=',')\n",
    "data.head()"
   ]
  },
  {
   "cell_type": "markdown",
   "metadata": {},
   "source": [
    "Find all entries that belong to the background flow by searching for the word background in the feature Label(Normal:CC:Background).When the data 'Label' feature is -1 then that flow does not belong to the background.This information will help to retrive non background flows in future."
   ]
  },
  {
   "cell_type": "code",
   "execution_count": 22,
   "metadata": {},
   "outputs": [],
   "source": [
    "sub = 'Background'\n",
    "data['Label'] = new_data['Label'].str.find(sub)"
   ]
  },
  {
   "cell_type": "code",
   "execution_count": 24,
   "metadata": {},
   "outputs": [
    {
     "data": {
      "text/plain": [
       "{'Proto': Int64Index([0, 1, 2, 3, 4, 5, 6, 7, 8, 9, 10, 11, 12, 13], dtype='int64'),\n",
       " 'Dir': Int64Index([0, 1, 2, 3, 4, 5], dtype='int64'),\n",
       " 'State': Int64Index([  0,   1,   2,   3,   4,   5,   6,   7,   8,   9,\n",
       "             ...\n",
       "             321, 322, 323, 324, 325, 326, 327, 328, 329, 330],\n",
       "            dtype='int64', length=332),\n",
       " 'Label(Normal:CC:Background)': Int64Index([  0,   1,   2,   3,   4,   5,   6,   7,   8,   9,\n",
       "             ...\n",
       "             101, 102, 103, 104, 105, 106, 107, 108, 109, 110],\n",
       "            dtype='int64', length=111),\n",
       " 'CCDetector(Normal:CC:Unknown)': Int64Index([0, 1, 2, 3, 4, 5, 6, 7, 8, 9, 10, 11], dtype='int64')}"
      ]
     },
     "execution_count": 24,
     "metadata": {},
     "output_type": "execute_result"
    }
   ],
   "source": [
    "#convert the Proto,Dir,State,Label(Normal:CC:Background),CCDetector(Normal:CC:Unknown) features to numeric\n",
    "label_mapping = {}\n",
    "char_cols = ['Proto', 'Dir','State','Label(Normal:CC:Background)','CCDetector(Normal:CC:Unknown)']\n",
    "for c in char_cols:\n",
    "    data[c], label_mapping[c] = pd.factorize(data[c])\n",
    "# label_mapping"
   ]
  },
  {
   "cell_type": "code",
   "execution_count": 5,
   "metadata": {},
   "outputs": [
    {
     "data": {
      "text/html": [
       "<div>\n",
       "<style scoped>\n",
       "    .dataframe tbody tr th:only-of-type {\n",
       "        vertical-align: middle;\n",
       "    }\n",
       "\n",
       "    .dataframe tbody tr th {\n",
       "        vertical-align: top;\n",
       "    }\n",
       "\n",
       "    .dataframe thead th {\n",
       "        text-align: right;\n",
       "    }\n",
       "</style>\n",
       "<table border=\"1\" class=\"dataframe\">\n",
       "  <thead>\n",
       "    <tr style=\"text-align: right;\">\n",
       "      <th></th>\n",
       "      <th>#StartTime</th>\n",
       "      <th>Dur</th>\n",
       "      <th>Proto</th>\n",
       "      <th>SrcAddr</th>\n",
       "      <th>Sport</th>\n",
       "      <th>Dir</th>\n",
       "      <th>DstAddr</th>\n",
       "      <th>Dport</th>\n",
       "      <th>State</th>\n",
       "      <th>sTos</th>\n",
       "      <th>dTos</th>\n",
       "      <th>TotPkts</th>\n",
       "      <th>TotBytes</th>\n",
       "      <th>SrcBytes</th>\n",
       "      <th>Label(Normal:CC:Background)</th>\n",
       "      <th>CCDetector(Normal:CC:Unknown)</th>\n",
       "      <th>Label</th>\n",
       "    </tr>\n",
       "  </thead>\n",
       "  <tbody>\n",
       "    <tr>\n",
       "      <td>14</td>\n",
       "      <td>2011/08/18 11:48:08.017588</td>\n",
       "      <td>245.990387</td>\n",
       "      <td>0</td>\n",
       "      <td>147.32.84.164</td>\n",
       "      <td>40223</td>\n",
       "      <td>0</td>\n",
       "      <td>74.125.232.218</td>\n",
       "      <td>80</td>\n",
       "      <td>3</td>\n",
       "      <td>0.0</td>\n",
       "      <td>0.0</td>\n",
       "      <td>33</td>\n",
       "      <td>11785</td>\n",
       "      <td>1553</td>\n",
       "      <td>4</td>\n",
       "      <td>0</td>\n",
       "      <td>-1</td>\n",
       "    </tr>\n",
       "    <tr>\n",
       "      <td>15</td>\n",
       "      <td>2011/08/18 11:48:08.017596</td>\n",
       "      <td>15.977654</td>\n",
       "      <td>0</td>\n",
       "      <td>147.32.84.164</td>\n",
       "      <td>40224</td>\n",
       "      <td>0</td>\n",
       "      <td>74.125.232.218</td>\n",
       "      <td>80</td>\n",
       "      <td>4</td>\n",
       "      <td>0.0</td>\n",
       "      <td>0.0</td>\n",
       "      <td>6</td>\n",
       "      <td>412</td>\n",
       "      <td>272</td>\n",
       "      <td>4</td>\n",
       "      <td>0</td>\n",
       "      <td>-1</td>\n",
       "    </tr>\n",
       "    <tr>\n",
       "      <td>16</td>\n",
       "      <td>2011/08/18 11:48:09.476772</td>\n",
       "      <td>244.530823</td>\n",
       "      <td>0</td>\n",
       "      <td>147.32.84.164</td>\n",
       "      <td>40239</td>\n",
       "      <td>0</td>\n",
       "      <td>74.125.232.218</td>\n",
       "      <td>80</td>\n",
       "      <td>3</td>\n",
       "      <td>0.0</td>\n",
       "      <td>0.0</td>\n",
       "      <td>28</td>\n",
       "      <td>5899</td>\n",
       "      <td>2885</td>\n",
       "      <td>4</td>\n",
       "      <td>0</td>\n",
       "      <td>-1</td>\n",
       "    </tr>\n",
       "    <tr>\n",
       "      <td>17</td>\n",
       "      <td>2011/08/18 12:11:49.414857</td>\n",
       "      <td>249.324158</td>\n",
       "      <td>0</td>\n",
       "      <td>147.32.84.164</td>\n",
       "      <td>39306</td>\n",
       "      <td>0</td>\n",
       "      <td>74.125.232.218</td>\n",
       "      <td>80</td>\n",
       "      <td>3</td>\n",
       "      <td>0.0</td>\n",
       "      <td>0.0</td>\n",
       "      <td>21</td>\n",
       "      <td>3617</td>\n",
       "      <td>2130</td>\n",
       "      <td>4</td>\n",
       "      <td>0</td>\n",
       "      <td>-1</td>\n",
       "    </tr>\n",
       "    <tr>\n",
       "      <td>57</td>\n",
       "      <td>2011/08/18 12:19:01.940628</td>\n",
       "      <td>928.010437</td>\n",
       "      <td>2</td>\n",
       "      <td>147.32.84.207</td>\n",
       "      <td>0x0008</td>\n",
       "      <td>0</td>\n",
       "      <td>147.32.96.69</td>\n",
       "      <td>0x0045</td>\n",
       "      <td>5</td>\n",
       "      <td>0.0</td>\n",
       "      <td>NaN</td>\n",
       "      <td>38</td>\n",
       "      <td>40508</td>\n",
       "      <td>40508</td>\n",
       "      <td>8</td>\n",
       "      <td>0</td>\n",
       "      <td>-1</td>\n",
       "    </tr>\n",
       "    <tr>\n",
       "      <td>...</td>\n",
       "      <td>...</td>\n",
       "      <td>...</td>\n",
       "      <td>...</td>\n",
       "      <td>...</td>\n",
       "      <td>...</td>\n",
       "      <td>...</td>\n",
       "      <td>...</td>\n",
       "      <td>...</td>\n",
       "      <td>...</td>\n",
       "      <td>...</td>\n",
       "      <td>...</td>\n",
       "      <td>...</td>\n",
       "      <td>...</td>\n",
       "      <td>...</td>\n",
       "      <td>...</td>\n",
       "      <td>...</td>\n",
       "      <td>...</td>\n",
       "    </tr>\n",
       "    <tr>\n",
       "      <td>1309564</td>\n",
       "      <td>2011/08/18 12:18:35.891076</td>\n",
       "      <td>947.139954</td>\n",
       "      <td>2</td>\n",
       "      <td>147.32.84.207</td>\n",
       "      <td>0x0008</td>\n",
       "      <td>0</td>\n",
       "      <td>147.32.96.69</td>\n",
       "      <td>0x0071</td>\n",
       "      <td>5</td>\n",
       "      <td>0.0</td>\n",
       "      <td>NaN</td>\n",
       "      <td>30</td>\n",
       "      <td>31980</td>\n",
       "      <td>31980</td>\n",
       "      <td>8</td>\n",
       "      <td>0</td>\n",
       "      <td>-1</td>\n",
       "    </tr>\n",
       "    <tr>\n",
       "      <td>1309565</td>\n",
       "      <td>2011/08/18 14:43:51.918918</td>\n",
       "      <td>365.100403</td>\n",
       "      <td>2</td>\n",
       "      <td>147.32.84.207</td>\n",
       "      <td>0x0008</td>\n",
       "      <td>0</td>\n",
       "      <td>147.32.96.69</td>\n",
       "      <td>0x0071</td>\n",
       "      <td>5</td>\n",
       "      <td>0.0</td>\n",
       "      <td>NaN</td>\n",
       "      <td>12</td>\n",
       "      <td>12792</td>\n",
       "      <td>12792</td>\n",
       "      <td>8</td>\n",
       "      <td>0</td>\n",
       "      <td>-1</td>\n",
       "    </tr>\n",
       "    <tr>\n",
       "      <td>1309587</td>\n",
       "      <td>2011/08/18 12:18:33.695367</td>\n",
       "      <td>990.694092</td>\n",
       "      <td>2</td>\n",
       "      <td>147.32.84.193</td>\n",
       "      <td>0x0008</td>\n",
       "      <td>0</td>\n",
       "      <td>147.32.96.69</td>\n",
       "      <td>0x0067</td>\n",
       "      <td>5</td>\n",
       "      <td>0.0</td>\n",
       "      <td>NaN</td>\n",
       "      <td>44</td>\n",
       "      <td>46904</td>\n",
       "      <td>46904</td>\n",
       "      <td>32</td>\n",
       "      <td>0</td>\n",
       "      <td>-1</td>\n",
       "    </tr>\n",
       "    <tr>\n",
       "      <td>1309588</td>\n",
       "      <td>2011/08/18 14:43:53.224548</td>\n",
       "      <td>202.749191</td>\n",
       "      <td>2</td>\n",
       "      <td>147.32.84.193</td>\n",
       "      <td>0x0008</td>\n",
       "      <td>0</td>\n",
       "      <td>147.32.96.69</td>\n",
       "      <td>0x0067</td>\n",
       "      <td>5</td>\n",
       "      <td>0.0</td>\n",
       "      <td>NaN</td>\n",
       "      <td>6</td>\n",
       "      <td>6396</td>\n",
       "      <td>6396</td>\n",
       "      <td>32</td>\n",
       "      <td>0</td>\n",
       "      <td>-1</td>\n",
       "    </tr>\n",
       "    <tr>\n",
       "      <td>1309605</td>\n",
       "      <td>2011/08/18 11:23:58.785987</td>\n",
       "      <td>60.005222</td>\n",
       "      <td>0</td>\n",
       "      <td>147.32.84.191</td>\n",
       "      <td>1040</td>\n",
       "      <td>0</td>\n",
       "      <td>195.113.232.75</td>\n",
       "      <td>80</td>\n",
       "      <td>16</td>\n",
       "      <td>0.0</td>\n",
       "      <td>0.0</td>\n",
       "      <td>8</td>\n",
       "      <td>1687</td>\n",
       "      <td>500</td>\n",
       "      <td>110</td>\n",
       "      <td>0</td>\n",
       "      <td>-1</td>\n",
       "    </tr>\n",
       "  </tbody>\n",
       "</table>\n",
       "<p>122199 rows × 17 columns</p>\n",
       "</div>"
      ],
      "text/plain": [
       "                         #StartTime         Dur  Proto        SrcAddr   Sport  \\\n",
       "14       2011/08/18 11:48:08.017588  245.990387      0  147.32.84.164   40223   \n",
       "15       2011/08/18 11:48:08.017596   15.977654      0  147.32.84.164   40224   \n",
       "16       2011/08/18 11:48:09.476772  244.530823      0  147.32.84.164   40239   \n",
       "17       2011/08/18 12:11:49.414857  249.324158      0  147.32.84.164   39306   \n",
       "57       2011/08/18 12:19:01.940628  928.010437      2  147.32.84.207  0x0008   \n",
       "...                             ...         ...    ...            ...     ...   \n",
       "1309564  2011/08/18 12:18:35.891076  947.139954      2  147.32.84.207  0x0008   \n",
       "1309565  2011/08/18 14:43:51.918918  365.100403      2  147.32.84.207  0x0008   \n",
       "1309587  2011/08/18 12:18:33.695367  990.694092      2  147.32.84.193  0x0008   \n",
       "1309588  2011/08/18 14:43:53.224548  202.749191      2  147.32.84.193  0x0008   \n",
       "1309605  2011/08/18 11:23:58.785987   60.005222      0  147.32.84.191    1040   \n",
       "\n",
       "         Dir         DstAddr   Dport  State  sTos  dTos  TotPkts  TotBytes  \\\n",
       "14         0  74.125.232.218      80      3   0.0   0.0       33     11785   \n",
       "15         0  74.125.232.218      80      4   0.0   0.0        6       412   \n",
       "16         0  74.125.232.218      80      3   0.0   0.0       28      5899   \n",
       "17         0  74.125.232.218      80      3   0.0   0.0       21      3617   \n",
       "57         0    147.32.96.69  0x0045      5   0.0   NaN       38     40508   \n",
       "...      ...             ...     ...    ...   ...   ...      ...       ...   \n",
       "1309564    0    147.32.96.69  0x0071      5   0.0   NaN       30     31980   \n",
       "1309565    0    147.32.96.69  0x0071      5   0.0   NaN       12     12792   \n",
       "1309587    0    147.32.96.69  0x0067      5   0.0   NaN       44     46904   \n",
       "1309588    0    147.32.96.69  0x0067      5   0.0   NaN        6      6396   \n",
       "1309605    0  195.113.232.75      80     16   0.0   0.0        8      1687   \n",
       "\n",
       "         SrcBytes  Label(Normal:CC:Background)  CCDetector(Normal:CC:Unknown)  \\\n",
       "14           1553                            4                              0   \n",
       "15            272                            4                              0   \n",
       "16           2885                            4                              0   \n",
       "17           2130                            4                              0   \n",
       "57          40508                            8                              0   \n",
       "...           ...                          ...                            ...   \n",
       "1309564     31980                            8                              0   \n",
       "1309565     12792                            8                              0   \n",
       "1309587     46904                           32                              0   \n",
       "1309588      6396                           32                              0   \n",
       "1309605       500                          110                              0   \n",
       "\n",
       "         Label  \n",
       "14          -1  \n",
       "15          -1  \n",
       "16          -1  \n",
       "17          -1  \n",
       "57          -1  \n",
       "...        ...  \n",
       "1309564     -1  \n",
       "1309565     -1  \n",
       "1309587     -1  \n",
       "1309588     -1  \n",
       "1309605     -1  \n",
       "\n",
       "[122199 rows x 17 columns]"
      ]
     },
     "execution_count": 5,
     "metadata": {},
     "output_type": "execute_result"
    }
   ],
   "source": [
    "#Remove all background flows\n",
    "data_no_background = data[data['Label'] == -1]\n",
    "#data_no_background"
   ]
  },
  {
   "cell_type": "code",
   "execution_count": 6,
   "metadata": {},
   "outputs": [],
   "source": [
    "#We obtain this information from the description of the CTU13 dataset\n",
    "infected_hosts = ['147.32.84.165','147.32.84.191','147.32.84.192','147.32.84.193','147.32.84.204',\n",
    "                  '147.32.84.205','147.32.84.206''147.32.84.207','147.32.84.208','147.32.84.209']\n",
    "\n",
    "normal_hosts = ['147.32.84.170', '147.32.84.134', '147.32.84.164', '147.32.87.36, 147.32.80.9', '147.32.87.11']"
   ]
  },
  {
   "cell_type": "code",
   "execution_count": 7,
   "metadata": {},
   "outputs": [
    {
     "data": {
      "text/html": [
       "<div>\n",
       "<style scoped>\n",
       "    .dataframe tbody tr th:only-of-type {\n",
       "        vertical-align: middle;\n",
       "    }\n",
       "\n",
       "    .dataframe tbody tr th {\n",
       "        vertical-align: top;\n",
       "    }\n",
       "\n",
       "    .dataframe thead th {\n",
       "        text-align: right;\n",
       "    }\n",
       "</style>\n",
       "<table border=\"1\" class=\"dataframe\">\n",
       "  <thead>\n",
       "    <tr style=\"text-align: right;\">\n",
       "      <th></th>\n",
       "      <th>#StartTime</th>\n",
       "      <th>Dur</th>\n",
       "      <th>Proto</th>\n",
       "      <th>SrcAddr</th>\n",
       "      <th>Sport</th>\n",
       "      <th>Dir</th>\n",
       "      <th>DstAddr</th>\n",
       "      <th>Dport</th>\n",
       "      <th>State</th>\n",
       "      <th>sTos</th>\n",
       "      <th>dTos</th>\n",
       "      <th>TotPkts</th>\n",
       "      <th>TotBytes</th>\n",
       "      <th>SrcBytes</th>\n",
       "      <th>Label(Normal:CC:Background)</th>\n",
       "      <th>CCDetector(Normal:CC:Unknown)</th>\n",
       "      <th>Label</th>\n",
       "    </tr>\n",
       "  </thead>\n",
       "  <tbody>\n",
       "    <tr>\n",
       "      <td>3635</td>\n",
       "      <td>2011/08/18 12:18:35.558911</td>\n",
       "      <td>997.382690</td>\n",
       "      <td>2</td>\n",
       "      <td>147.32.84.165</td>\n",
       "      <td>0x0008</td>\n",
       "      <td>0</td>\n",
       "      <td>147.32.96.69</td>\n",
       "      <td>0x0008</td>\n",
       "      <td>5</td>\n",
       "      <td>0.0</td>\n",
       "      <td>NaN</td>\n",
       "      <td>37</td>\n",
       "      <td>39442</td>\n",
       "      <td>39442</td>\n",
       "      <td>24</td>\n",
       "      <td>0</td>\n",
       "      <td>-1</td>\n",
       "    </tr>\n",
       "    <tr>\n",
       "      <td>3636</td>\n",
       "      <td>2011/08/18 14:43:52.726282</td>\n",
       "      <td>1256.579956</td>\n",
       "      <td>2</td>\n",
       "      <td>147.32.84.165</td>\n",
       "      <td>0x0008</td>\n",
       "      <td>0</td>\n",
       "      <td>147.32.96.69</td>\n",
       "      <td>0x0008</td>\n",
       "      <td>5</td>\n",
       "      <td>0.0</td>\n",
       "      <td>NaN</td>\n",
       "      <td>14</td>\n",
       "      <td>14924</td>\n",
       "      <td>14924</td>\n",
       "      <td>24</td>\n",
       "      <td>0</td>\n",
       "      <td>-1</td>\n",
       "    </tr>\n",
       "    <tr>\n",
       "      <td>6579</td>\n",
       "      <td>2011/08/18 13:47:11.934378</td>\n",
       "      <td>0.052506</td>\n",
       "      <td>0</td>\n",
       "      <td>147.32.84.165</td>\n",
       "      <td>1028</td>\n",
       "      <td>0</td>\n",
       "      <td>74.125.232.197</td>\n",
       "      <td>80</td>\n",
       "      <td>16</td>\n",
       "      <td>0.0</td>\n",
       "      <td>0.0</td>\n",
       "      <td>7</td>\n",
       "      <td>882</td>\n",
       "      <td>629</td>\n",
       "      <td>31</td>\n",
       "      <td>0</td>\n",
       "      <td>-1</td>\n",
       "    </tr>\n",
       "    <tr>\n",
       "      <td>10985</td>\n",
       "      <td>2011/08/18 12:19:36.953336</td>\n",
       "      <td>911.180969</td>\n",
       "      <td>2</td>\n",
       "      <td>147.32.84.165</td>\n",
       "      <td>0x0008</td>\n",
       "      <td>0</td>\n",
       "      <td>147.32.96.69</td>\n",
       "      <td>0x0017</td>\n",
       "      <td>5</td>\n",
       "      <td>0.0</td>\n",
       "      <td>NaN</td>\n",
       "      <td>30</td>\n",
       "      <td>31980</td>\n",
       "      <td>31980</td>\n",
       "      <td>24</td>\n",
       "      <td>0</td>\n",
       "      <td>-1</td>\n",
       "    </tr>\n",
       "    <tr>\n",
       "      <td>10986</td>\n",
       "      <td>2011/08/18 14:43:52.563631</td>\n",
       "      <td>1230.802002</td>\n",
       "      <td>2</td>\n",
       "      <td>147.32.84.165</td>\n",
       "      <td>0x0008</td>\n",
       "      <td>0</td>\n",
       "      <td>147.32.96.69</td>\n",
       "      <td>0x0017</td>\n",
       "      <td>5</td>\n",
       "      <td>0.0</td>\n",
       "      <td>NaN</td>\n",
       "      <td>15</td>\n",
       "      <td>15990</td>\n",
       "      <td>15990</td>\n",
       "      <td>24</td>\n",
       "      <td>0</td>\n",
       "      <td>-1</td>\n",
       "    </tr>\n",
       "    <tr>\n",
       "      <td>...</td>\n",
       "      <td>...</td>\n",
       "      <td>...</td>\n",
       "      <td>...</td>\n",
       "      <td>...</td>\n",
       "      <td>...</td>\n",
       "      <td>...</td>\n",
       "      <td>...</td>\n",
       "      <td>...</td>\n",
       "      <td>...</td>\n",
       "      <td>...</td>\n",
       "      <td>...</td>\n",
       "      <td>...</td>\n",
       "      <td>...</td>\n",
       "      <td>...</td>\n",
       "      <td>...</td>\n",
       "      <td>...</td>\n",
       "      <td>...</td>\n",
       "    </tr>\n",
       "    <tr>\n",
       "      <td>1300500</td>\n",
       "      <td>2011/08/18 15:04:37.078618</td>\n",
       "      <td>0.000000</td>\n",
       "      <td>2</td>\n",
       "      <td>147.32.84.165</td>\n",
       "      <td>0x241c</td>\n",
       "      <td>0</td>\n",
       "      <td>147.32.96.69</td>\n",
       "      <td>NaN</td>\n",
       "      <td>138</td>\n",
       "      <td>0.0</td>\n",
       "      <td>NaN</td>\n",
       "      <td>1</td>\n",
       "      <td>1066</td>\n",
       "      <td>1066</td>\n",
       "      <td>24</td>\n",
       "      <td>0</td>\n",
       "      <td>-1</td>\n",
       "    </tr>\n",
       "    <tr>\n",
       "      <td>1300501</td>\n",
       "      <td>2011/08/18 15:04:48.735146</td>\n",
       "      <td>0.000000</td>\n",
       "      <td>2</td>\n",
       "      <td>147.32.84.165</td>\n",
       "      <td>0x6d17</td>\n",
       "      <td>0</td>\n",
       "      <td>147.32.96.69</td>\n",
       "      <td>NaN</td>\n",
       "      <td>138</td>\n",
       "      <td>0.0</td>\n",
       "      <td>NaN</td>\n",
       "      <td>1</td>\n",
       "      <td>1066</td>\n",
       "      <td>1066</td>\n",
       "      <td>24</td>\n",
       "      <td>0</td>\n",
       "      <td>-1</td>\n",
       "    </tr>\n",
       "    <tr>\n",
       "      <td>1300502</td>\n",
       "      <td>2011/08/18 15:04:52.487504</td>\n",
       "      <td>0.000000</td>\n",
       "      <td>2</td>\n",
       "      <td>147.32.84.165</td>\n",
       "      <td>0x316b</td>\n",
       "      <td>0</td>\n",
       "      <td>147.32.96.69</td>\n",
       "      <td>NaN</td>\n",
       "      <td>136</td>\n",
       "      <td>0.0</td>\n",
       "      <td>NaN</td>\n",
       "      <td>1</td>\n",
       "      <td>1066</td>\n",
       "      <td>1066</td>\n",
       "      <td>24</td>\n",
       "      <td>0</td>\n",
       "      <td>-1</td>\n",
       "    </tr>\n",
       "    <tr>\n",
       "      <td>1300503</td>\n",
       "      <td>2011/08/18 15:04:44.354384</td>\n",
       "      <td>0.000000</td>\n",
       "      <td>2</td>\n",
       "      <td>147.32.84.165</td>\n",
       "      <td>0xc49d</td>\n",
       "      <td>0</td>\n",
       "      <td>147.32.96.69</td>\n",
       "      <td>NaN</td>\n",
       "      <td>136</td>\n",
       "      <td>0.0</td>\n",
       "      <td>NaN</td>\n",
       "      <td>1</td>\n",
       "      <td>1066</td>\n",
       "      <td>1066</td>\n",
       "      <td>24</td>\n",
       "      <td>0</td>\n",
       "      <td>-1</td>\n",
       "    </tr>\n",
       "    <tr>\n",
       "      <td>1300504</td>\n",
       "      <td>2011/08/18 15:04:48.120640</td>\n",
       "      <td>0.000000</td>\n",
       "      <td>2</td>\n",
       "      <td>147.32.84.165</td>\n",
       "      <td>0xadc0</td>\n",
       "      <td>0</td>\n",
       "      <td>147.32.96.69</td>\n",
       "      <td>NaN</td>\n",
       "      <td>136</td>\n",
       "      <td>0.0</td>\n",
       "      <td>NaN</td>\n",
       "      <td>1</td>\n",
       "      <td>1066</td>\n",
       "      <td>1066</td>\n",
       "      <td>24</td>\n",
       "      <td>0</td>\n",
       "      <td>-1</td>\n",
       "    </tr>\n",
       "  </tbody>\n",
       "</table>\n",
       "<p>9579 rows × 17 columns</p>\n",
       "</div>"
      ],
      "text/plain": [
       "                         #StartTime          Dur  Proto        SrcAddr  \\\n",
       "3635     2011/08/18 12:18:35.558911   997.382690      2  147.32.84.165   \n",
       "3636     2011/08/18 14:43:52.726282  1256.579956      2  147.32.84.165   \n",
       "6579     2011/08/18 13:47:11.934378     0.052506      0  147.32.84.165   \n",
       "10985    2011/08/18 12:19:36.953336   911.180969      2  147.32.84.165   \n",
       "10986    2011/08/18 14:43:52.563631  1230.802002      2  147.32.84.165   \n",
       "...                             ...          ...    ...            ...   \n",
       "1300500  2011/08/18 15:04:37.078618     0.000000      2  147.32.84.165   \n",
       "1300501  2011/08/18 15:04:48.735146     0.000000      2  147.32.84.165   \n",
       "1300502  2011/08/18 15:04:52.487504     0.000000      2  147.32.84.165   \n",
       "1300503  2011/08/18 15:04:44.354384     0.000000      2  147.32.84.165   \n",
       "1300504  2011/08/18 15:04:48.120640     0.000000      2  147.32.84.165   \n",
       "\n",
       "          Sport  Dir         DstAddr   Dport  State  sTos  dTos  TotPkts  \\\n",
       "3635     0x0008    0    147.32.96.69  0x0008      5   0.0   NaN       37   \n",
       "3636     0x0008    0    147.32.96.69  0x0008      5   0.0   NaN       14   \n",
       "6579       1028    0  74.125.232.197      80     16   0.0   0.0        7   \n",
       "10985    0x0008    0    147.32.96.69  0x0017      5   0.0   NaN       30   \n",
       "10986    0x0008    0    147.32.96.69  0x0017      5   0.0   NaN       15   \n",
       "...         ...  ...             ...     ...    ...   ...   ...      ...   \n",
       "1300500  0x241c    0    147.32.96.69     NaN    138   0.0   NaN        1   \n",
       "1300501  0x6d17    0    147.32.96.69     NaN    138   0.0   NaN        1   \n",
       "1300502  0x316b    0    147.32.96.69     NaN    136   0.0   NaN        1   \n",
       "1300503  0xc49d    0    147.32.96.69     NaN    136   0.0   NaN        1   \n",
       "1300504  0xadc0    0    147.32.96.69     NaN    136   0.0   NaN        1   \n",
       "\n",
       "         TotBytes  SrcBytes  Label(Normal:CC:Background)  \\\n",
       "3635        39442     39442                           24   \n",
       "3636        14924     14924                           24   \n",
       "6579          882       629                           31   \n",
       "10985       31980     31980                           24   \n",
       "10986       15990     15990                           24   \n",
       "...           ...       ...                          ...   \n",
       "1300500      1066      1066                           24   \n",
       "1300501      1066      1066                           24   \n",
       "1300502      1066      1066                           24   \n",
       "1300503      1066      1066                           24   \n",
       "1300504      1066      1066                           24   \n",
       "\n",
       "         CCDetector(Normal:CC:Unknown)  Label  \n",
       "3635                                 0     -1  \n",
       "3636                                 0     -1  \n",
       "6579                                 0     -1  \n",
       "10985                                0     -1  \n",
       "10986                                0     -1  \n",
       "...                                ...    ...  \n",
       "1300500                              0     -1  \n",
       "1300501                              0     -1  \n",
       "1300502                              0     -1  \n",
       "1300503                              0     -1  \n",
       "1300504                              0     -1  \n",
       "\n",
       "[9579 rows x 17 columns]"
      ]
     },
     "execution_count": 7,
     "metadata": {},
     "output_type": "execute_result"
    }
   ],
   "source": [
    "#getting flows related to infected host 147.32.84.165(This is the infected host chosen for visualization and discretization)\n",
    "#We choose all flows where the source or destination IP is 147.32.84.165\n",
    "infected1 = data_no_background[data_no_background['SrcAddr'] == infected_hosts[0]]\n",
    "infected2 = data_no_background[data_no_background['DstAddr'] == infected_hosts[0]]\n",
    "frames = [infected1,infected2]\n",
    "infected = pd.concat(frames)\n",
    "#infected"
   ]
  },
  {
   "cell_type": "code",
   "execution_count": 8,
   "metadata": {},
   "outputs": [
    {
     "data": {
      "text/html": [
       "<div>\n",
       "<style scoped>\n",
       "    .dataframe tbody tr th:only-of-type {\n",
       "        vertical-align: middle;\n",
       "    }\n",
       "\n",
       "    .dataframe tbody tr th {\n",
       "        vertical-align: top;\n",
       "    }\n",
       "\n",
       "    .dataframe thead th {\n",
       "        text-align: right;\n",
       "    }\n",
       "</style>\n",
       "<table border=\"1\" class=\"dataframe\">\n",
       "  <thead>\n",
       "    <tr style=\"text-align: right;\">\n",
       "      <th></th>\n",
       "      <th>#StartTime</th>\n",
       "      <th>Dur</th>\n",
       "      <th>Proto</th>\n",
       "      <th>SrcAddr</th>\n",
       "      <th>Sport</th>\n",
       "      <th>Dir</th>\n",
       "      <th>DstAddr</th>\n",
       "      <th>Dport</th>\n",
       "      <th>State</th>\n",
       "      <th>sTos</th>\n",
       "      <th>dTos</th>\n",
       "      <th>TotPkts</th>\n",
       "      <th>TotBytes</th>\n",
       "      <th>SrcBytes</th>\n",
       "      <th>Label(Normal:CC:Background)</th>\n",
       "      <th>CCDetector(Normal:CC:Unknown)</th>\n",
       "      <th>Label</th>\n",
       "    </tr>\n",
       "  </thead>\n",
       "  <tbody>\n",
       "    <tr>\n",
       "      <td>14</td>\n",
       "      <td>2011/08/18 11:48:08.017588</td>\n",
       "      <td>245.990387</td>\n",
       "      <td>0</td>\n",
       "      <td>147.32.84.164</td>\n",
       "      <td>40223</td>\n",
       "      <td>0</td>\n",
       "      <td>74.125.232.218</td>\n",
       "      <td>80</td>\n",
       "      <td>3</td>\n",
       "      <td>0.0</td>\n",
       "      <td>0.0</td>\n",
       "      <td>33</td>\n",
       "      <td>11785</td>\n",
       "      <td>1553</td>\n",
       "      <td>4</td>\n",
       "      <td>0</td>\n",
       "      <td>-1</td>\n",
       "    </tr>\n",
       "    <tr>\n",
       "      <td>15</td>\n",
       "      <td>2011/08/18 11:48:08.017596</td>\n",
       "      <td>15.977654</td>\n",
       "      <td>0</td>\n",
       "      <td>147.32.84.164</td>\n",
       "      <td>40224</td>\n",
       "      <td>0</td>\n",
       "      <td>74.125.232.218</td>\n",
       "      <td>80</td>\n",
       "      <td>4</td>\n",
       "      <td>0.0</td>\n",
       "      <td>0.0</td>\n",
       "      <td>6</td>\n",
       "      <td>412</td>\n",
       "      <td>272</td>\n",
       "      <td>4</td>\n",
       "      <td>0</td>\n",
       "      <td>-1</td>\n",
       "    </tr>\n",
       "    <tr>\n",
       "      <td>16</td>\n",
       "      <td>2011/08/18 11:48:09.476772</td>\n",
       "      <td>244.530823</td>\n",
       "      <td>0</td>\n",
       "      <td>147.32.84.164</td>\n",
       "      <td>40239</td>\n",
       "      <td>0</td>\n",
       "      <td>74.125.232.218</td>\n",
       "      <td>80</td>\n",
       "      <td>3</td>\n",
       "      <td>0.0</td>\n",
       "      <td>0.0</td>\n",
       "      <td>28</td>\n",
       "      <td>5899</td>\n",
       "      <td>2885</td>\n",
       "      <td>4</td>\n",
       "      <td>0</td>\n",
       "      <td>-1</td>\n",
       "    </tr>\n",
       "    <tr>\n",
       "      <td>17</td>\n",
       "      <td>2011/08/18 12:11:49.414857</td>\n",
       "      <td>249.324158</td>\n",
       "      <td>0</td>\n",
       "      <td>147.32.84.164</td>\n",
       "      <td>39306</td>\n",
       "      <td>0</td>\n",
       "      <td>74.125.232.218</td>\n",
       "      <td>80</td>\n",
       "      <td>3</td>\n",
       "      <td>0.0</td>\n",
       "      <td>0.0</td>\n",
       "      <td>21</td>\n",
       "      <td>3617</td>\n",
       "      <td>2130</td>\n",
       "      <td>4</td>\n",
       "      <td>0</td>\n",
       "      <td>-1</td>\n",
       "    </tr>\n",
       "    <tr>\n",
       "      <td>3138</td>\n",
       "      <td>2011/08/18 10:22:00.042929</td>\n",
       "      <td>0.312377</td>\n",
       "      <td>0</td>\n",
       "      <td>147.32.84.170</td>\n",
       "      <td>53856</td>\n",
       "      <td>0</td>\n",
       "      <td>199.7.59.72</td>\n",
       "      <td>80</td>\n",
       "      <td>9</td>\n",
       "      <td>0.0</td>\n",
       "      <td>0.0</td>\n",
       "      <td>12</td>\n",
       "      <td>2614</td>\n",
       "      <td>798</td>\n",
       "      <td>21</td>\n",
       "      <td>0</td>\n",
       "      <td>-1</td>\n",
       "    </tr>\n",
       "    <tr>\n",
       "      <td>...</td>\n",
       "      <td>...</td>\n",
       "      <td>...</td>\n",
       "      <td>...</td>\n",
       "      <td>...</td>\n",
       "      <td>...</td>\n",
       "      <td>...</td>\n",
       "      <td>...</td>\n",
       "      <td>...</td>\n",
       "      <td>...</td>\n",
       "      <td>...</td>\n",
       "      <td>...</td>\n",
       "      <td>...</td>\n",
       "      <td>...</td>\n",
       "      <td>...</td>\n",
       "      <td>...</td>\n",
       "      <td>...</td>\n",
       "      <td>...</td>\n",
       "    </tr>\n",
       "    <tr>\n",
       "      <td>1303285</td>\n",
       "      <td>2011/08/18 12:10:11.524072</td>\n",
       "      <td>370.053680</td>\n",
       "      <td>0</td>\n",
       "      <td>147.32.84.134</td>\n",
       "      <td>59408</td>\n",
       "      <td>0</td>\n",
       "      <td>80.239.149.19</td>\n",
       "      <td>443</td>\n",
       "      <td>25</td>\n",
       "      <td>0.0</td>\n",
       "      <td>0.0</td>\n",
       "      <td>63</td>\n",
       "      <td>23090</td>\n",
       "      <td>5742</td>\n",
       "      <td>40</td>\n",
       "      <td>0</td>\n",
       "      <td>-1</td>\n",
       "    </tr>\n",
       "    <tr>\n",
       "      <td>1303286</td>\n",
       "      <td>2011/08/18 12:10:11.524120</td>\n",
       "      <td>697.992126</td>\n",
       "      <td>0</td>\n",
       "      <td>147.32.84.134</td>\n",
       "      <td>59409</td>\n",
       "      <td>0</td>\n",
       "      <td>80.239.149.19</td>\n",
       "      <td>443</td>\n",
       "      <td>23</td>\n",
       "      <td>0.0</td>\n",
       "      <td>0.0</td>\n",
       "      <td>90</td>\n",
       "      <td>33921</td>\n",
       "      <td>9101</td>\n",
       "      <td>40</td>\n",
       "      <td>0</td>\n",
       "      <td>-1</td>\n",
       "    </tr>\n",
       "    <tr>\n",
       "      <td>1303287</td>\n",
       "      <td>2011/08/18 12:34:14.703133</td>\n",
       "      <td>306.979614</td>\n",
       "      <td>0</td>\n",
       "      <td>147.32.84.134</td>\n",
       "      <td>59009</td>\n",
       "      <td>0</td>\n",
       "      <td>80.239.149.19</td>\n",
       "      <td>443</td>\n",
       "      <td>9</td>\n",
       "      <td>0.0</td>\n",
       "      <td>0.0</td>\n",
       "      <td>35</td>\n",
       "      <td>7695</td>\n",
       "      <td>2630</td>\n",
       "      <td>40</td>\n",
       "      <td>0</td>\n",
       "      <td>-1</td>\n",
       "    </tr>\n",
       "    <tr>\n",
       "      <td>1303288</td>\n",
       "      <td>2011/08/18 12:40:55.473423</td>\n",
       "      <td>476.248322</td>\n",
       "      <td>0</td>\n",
       "      <td>147.32.84.134</td>\n",
       "      <td>42022</td>\n",
       "      <td>0</td>\n",
       "      <td>80.239.149.19</td>\n",
       "      <td>443</td>\n",
       "      <td>9</td>\n",
       "      <td>0.0</td>\n",
       "      <td>0.0</td>\n",
       "      <td>60</td>\n",
       "      <td>19151</td>\n",
       "      <td>4376</td>\n",
       "      <td>40</td>\n",
       "      <td>0</td>\n",
       "      <td>-1</td>\n",
       "    </tr>\n",
       "    <tr>\n",
       "      <td>1303458</td>\n",
       "      <td>2011/08/18 12:11:08.433500</td>\n",
       "      <td>302.405823</td>\n",
       "      <td>0</td>\n",
       "      <td>147.32.84.134</td>\n",
       "      <td>47172</td>\n",
       "      <td>0</td>\n",
       "      <td>69.63.189.16</td>\n",
       "      <td>80</td>\n",
       "      <td>9</td>\n",
       "      <td>0.0</td>\n",
       "      <td>0.0</td>\n",
       "      <td>22</td>\n",
       "      <td>2276</td>\n",
       "      <td>1402</td>\n",
       "      <td>40</td>\n",
       "      <td>0</td>\n",
       "      <td>-1</td>\n",
       "    </tr>\n",
       "  </tbody>\n",
       "</table>\n",
       "<p>15039 rows × 17 columns</p>\n",
       "</div>"
      ],
      "text/plain": [
       "                         #StartTime         Dur  Proto        SrcAddr  Sport  \\\n",
       "14       2011/08/18 11:48:08.017588  245.990387      0  147.32.84.164  40223   \n",
       "15       2011/08/18 11:48:08.017596   15.977654      0  147.32.84.164  40224   \n",
       "16       2011/08/18 11:48:09.476772  244.530823      0  147.32.84.164  40239   \n",
       "17       2011/08/18 12:11:49.414857  249.324158      0  147.32.84.164  39306   \n",
       "3138     2011/08/18 10:22:00.042929    0.312377      0  147.32.84.170  53856   \n",
       "...                             ...         ...    ...            ...    ...   \n",
       "1303285  2011/08/18 12:10:11.524072  370.053680      0  147.32.84.134  59408   \n",
       "1303286  2011/08/18 12:10:11.524120  697.992126      0  147.32.84.134  59409   \n",
       "1303287  2011/08/18 12:34:14.703133  306.979614      0  147.32.84.134  59009   \n",
       "1303288  2011/08/18 12:40:55.473423  476.248322      0  147.32.84.134  42022   \n",
       "1303458  2011/08/18 12:11:08.433500  302.405823      0  147.32.84.134  47172   \n",
       "\n",
       "         Dir         DstAddr Dport  State  sTos  dTos  TotPkts  TotBytes  \\\n",
       "14         0  74.125.232.218    80      3   0.0   0.0       33     11785   \n",
       "15         0  74.125.232.218    80      4   0.0   0.0        6       412   \n",
       "16         0  74.125.232.218    80      3   0.0   0.0       28      5899   \n",
       "17         0  74.125.232.218    80      3   0.0   0.0       21      3617   \n",
       "3138       0     199.7.59.72    80      9   0.0   0.0       12      2614   \n",
       "...      ...             ...   ...    ...   ...   ...      ...       ...   \n",
       "1303285    0   80.239.149.19   443     25   0.0   0.0       63     23090   \n",
       "1303286    0   80.239.149.19   443     23   0.0   0.0       90     33921   \n",
       "1303287    0   80.239.149.19   443      9   0.0   0.0       35      7695   \n",
       "1303288    0   80.239.149.19   443      9   0.0   0.0       60     19151   \n",
       "1303458    0    69.63.189.16    80      9   0.0   0.0       22      2276   \n",
       "\n",
       "         SrcBytes  Label(Normal:CC:Background)  CCDetector(Normal:CC:Unknown)  \\\n",
       "14           1553                            4                              0   \n",
       "15            272                            4                              0   \n",
       "16           2885                            4                              0   \n",
       "17           2130                            4                              0   \n",
       "3138          798                           21                              0   \n",
       "...           ...                          ...                            ...   \n",
       "1303285      5742                           40                              0   \n",
       "1303286      9101                           40                              0   \n",
       "1303287      2630                           40                              0   \n",
       "1303288      4376                           40                              0   \n",
       "1303458      1402                           40                              0   \n",
       "\n",
       "         Label  \n",
       "14          -1  \n",
       "15          -1  \n",
       "16          -1  \n",
       "17          -1  \n",
       "3138        -1  \n",
       "...        ...  \n",
       "1303285     -1  \n",
       "1303286     -1  \n",
       "1303287     -1  \n",
       "1303288     -1  \n",
       "1303458     -1  \n",
       "\n",
       "[15039 rows x 17 columns]"
      ]
     },
     "execution_count": 8,
     "metadata": {},
     "output_type": "execute_result"
    }
   ],
   "source": [
    "#getting non infected flows.This is when the source IP or destination IP belong to the list of normal hosts\n",
    "normal1 = data_no_background[data_no_background['SrcAddr'].isin(normal_hosts)]\n",
    "normal2 = data_no_background[data_no_background['DstAddr'].isin(normal_hosts)]\n",
    "frames = [normal1,normal2]\n",
    "normal = pd.concat(frames)\n",
    "#normal"
   ]
  },
  {
   "cell_type": "code",
   "execution_count": 9,
   "metadata": {},
   "outputs": [
    {
     "name": "stdout",
     "output_type": "stream",
     "text": [
      "infected - mean Totpackets 32.89696210460382 1833.7146960534685\n",
      "normal   - mean Totpackets 37.226810293237584 518.854077415394\n",
      "infected - mean TotBytes   29293.764484810523 1461313.1540915435\n",
      "normal   - mean TotBytes   28335.471706895405 481827.83026916196\n",
      "infected - mean SrcBytes   29282.68159515607 1461313.238340761\n",
      "normal   - mean SrcBytes   1723.304275550236 18867.270679993308\n",
      "infected - mean dTos       0.0 0.0\n",
      "normal   - mean dTos       0.0 0.0\n",
      "infected - mean sTos       0.0 0.0\n",
      "normal   - mean sTos       0.0 0.0\n",
      "infected - mean Proto      1.9945714583985803 0.08652729715778576\n",
      "normal   - mean Proto      0.6957909435467784 0.5583955080129549\n",
      "infected - mean State      127.71855099697254 35.16060301432401\n",
      "normal   - mean State      5.044550834496975 15.277228797290448\n",
      "infected - mean Dur        100.24288123415799 311.22619066773177\n",
      "normal   - mean Dur        39.7904124645921 258.6656079930234\n",
      "infected - mean Dir        0.0018791105543376136 0.04330796113720387\n",
      "normal   - mean Dir        0.6713877252476893 0.5872279233511588\n",
      "infected - mean CCDetector 0.005637331663012841 0.1299238834116248\n",
      "normal   - mean CCDetector 0.13451692266773058 0.7621992436647159\n",
      "infected - mean Label      24.217663639210773 3.6539011997707904\n",
      "normal   - mean Label      18.175410599108982 9.503651265807502\n"
     ]
    }
   ],
   "source": [
    "#Print variation in the features to find the ones with the most deviations\n",
    "print(\"infected - mean Totpackets\", np.mean(infected['TotPkts']), np.std(infected['TotPkts']))\n",
    "print(\"normal   - mean Totpackets\", np.mean(normal['TotPkts']), np.std(normal['TotPkts']))\n",
    "\n",
    "print(\"infected - mean TotBytes  \", np.mean(infected['TotBytes']), np.std(infected['TotBytes']))\n",
    "print(\"normal   - mean TotBytes  \", np.mean(normal['TotBytes']), np.std(normal['TotBytes']))\n",
    "\n",
    "print(\"infected - mean SrcBytes  \", np.mean(infected['SrcBytes']), np.std(infected['SrcBytes']))\n",
    "print(\"normal   - mean SrcBytes  \", np.mean(normal['SrcBytes']), np.std(normal['SrcBytes']))\n",
    "\n",
    "print(\"infected - mean dTos      \", np.mean(infected['dTos']), np.std(infected['dTos']))\n",
    "print(\"normal   - mean dTos      \", np.mean(normal['dTos']), np.std(normal['dTos']))\n",
    "\n",
    "print(\"infected - mean sTos      \", np.mean(infected['sTos']), np.std(infected['sTos']))\n",
    "print(\"normal   - mean sTos      \", np.mean(normal['sTos']), np.std(normal['sTos']))\n",
    "\n",
    "print(\"infected - mean Proto     \", np.mean(infected['Proto']), np.std(infected['Proto']))\n",
    "print(\"normal   - mean Proto     \", np.mean(normal['Proto']), np.std(normal['Proto']))\n",
    "\n",
    "print(\"infected - mean State     \", np.mean(infected['State']), np.std(infected['State']))\n",
    "print(\"normal   - mean State     \", np.mean(normal['State']), np.std(normal['State']))\n",
    "\n",
    "print(\"infected - mean Dur       \", np.mean(infected['Dur']), np.std(infected['Dur']))\n",
    "print(\"normal   - mean Dur       \", np.mean(normal['Dur']), np.std(normal['Dur']))\n",
    "\n",
    "print(\"infected - mean Dir       \", np.mean(infected['Dir']), np.std(infected['Dir']))\n",
    "print(\"normal   - mean Dir       \", np.mean(normal['Dir']), np.std(normal['Dir']))\n",
    "\n",
    "print(\"infected - mean CCDetector\", np.mean(infected['CCDetector(Normal:CC:Unknown)']), np.std(infected['CCDetector(Normal:CC:Unknown)']))\n",
    "print(\"normal   - mean CCDetector\", np.mean(normal['CCDetector(Normal:CC:Unknown)']), np.std(normal['CCDetector(Normal:CC:Unknown)']))\n",
    "\n",
    "print(\"infected - mean Label     \", np.mean(infected['Label(Normal:CC:Background)']), np.std(infected['Label(Normal:CC:Background)']))\n",
    "print(\"normal   - mean Label     \", np.mean(normal['Label(Normal:CC:Background)']), np.std(normal['Label(Normal:CC:Background)']))"
   ]
  },
  {
   "cell_type": "code",
   "execution_count": 10,
   "metadata": {},
   "outputs": [
    {
     "data": {
      "text/plain": [
       "Text(0, 0.5, 'Mean value')"
      ]
     },
     "execution_count": 10,
     "metadata": {},
     "output_type": "execute_result"
    },
    {
     "data": {
      "image/png": "[encoded data removed]",
      "text/plain": [
       "<Figure size 1080x720 with 1 Axes>"
      ]
     },
     "metadata": {
      "needs_background": "light"
     },
     "output_type": "display_data"
    }
   ],
   "source": [
    "cols = ['TotBytes','SrcBytes','TotPkts', 'Dur','State', 'dTos','sTos', 'Proto', 'Dir','CCDetector(Normal:CC:Unknown)','Label(Normal:CC:Background)']\n",
    "\n",
    "mean_infected = np.mean(infected[cols].values, axis=0)\n",
    "std_infected = np.std(infected[cols].values, axis=0)\n",
    "\n",
    "mean_clean = np.mean(normal[cols].values, axis=0)\n",
    "std_clean = np.std(normal[cols].values, axis=0)\n",
    "\n",
    "\n",
    "f, ax = plt.subplots(nrows=1, ncols=1, figsize=(15,10))\n",
    "\n",
    "ax.bar(range(2), height=mean_infected[:-9], width=0.3, color='r', label='infected')\n",
    "ax.bar(range(2), height=mean_clean[:-9], width=0.3, color='g', label='clean')\n",
    "ax.legend()\n",
    "ax.set_xticks(range(2)) \n",
    "ax.set_xticklabels(cols[:-9], fontsize=10)\n",
    "ax.set_ylabel('Mean value')"
   ]
  },
  {
   "cell_type": "code",
   "execution_count": 11,
   "metadata": {},
   "outputs": [
    {
     "data": {
      "text/plain": [
       "Text(0, 0.5, 'Mean value')"
      ]
     },
     "execution_count": 11,
     "metadata": {},
     "output_type": "execute_result"
    },
    {
     "data": {
      "image/png": "[encoded data removed]",
      "text/plain": [
       "<Figure size 1080x720 with 1 Axes>"
      ]
     },
     "metadata": {
      "needs_background": "light"
     },
     "output_type": "display_data"
    }
   ],
   "source": [
    "f, ax = plt.subplots(nrows=1, ncols=1, figsize=(15,10))\n",
    "\n",
    "ax.bar(range(3),height=mean_infected[-9:-6],\n",
    "          width=0.3, color='r', label='infected')\n",
    "ax.bar(range(3), height=mean_clean[-9:-6], \n",
    "          width=0.3, color='g', label='clean')\n",
    "ax.legend()\n",
    "ax.set_xticks(range(3)) \n",
    "ax.set_xticklabels(cols[-9:-6], fontsize=10)\n",
    "ax.set_ylabel('Mean value')"
   ]
  },
  {
   "cell_type": "code",
   "execution_count": 12,
   "metadata": {},
   "outputs": [
    {
     "data": {
      "text/plain": [
       "Text(0, 0.5, 'Mean value')"
      ]
     },
     "execution_count": 12,
     "metadata": {},
     "output_type": "execute_result"
    },
    {
     "data": {
      "image/png": "[encoded data removed]",
      "text/plain": [
       "<Figure size 1080x720 with 1 Axes>"
      ]
     },
     "metadata": {
      "needs_background": "light"
     },
     "output_type": "display_data"
    }
   ],
   "source": [
    "f, ax = plt.subplots(nrows=1, ncols=1, figsize=(15,10))\n",
    "\n",
    "ax.bar(range(6),height=mean_infected[-6:],\n",
    "          width=0.3, color='r', label='infected')\n",
    "ax.bar(range(6), height=mean_clean[-6:], \n",
    "          width=0.3, color='g', label='clean')\n",
    "ax.legend()\n",
    "ax.set_xticks(range(6)) \n",
    "ax.set_xticklabels(cols[-6:], fontsize=10)\n",
    "ax.set_ylabel('Mean value')"
   ]
  },
  {
   "cell_type": "markdown",
   "metadata": {},
   "source": [
    "<a id='1a'></a>"
   ]
  },
  {
   "cell_type": "markdown",
   "metadata": {},
   "source": [
    "### 1a. Plot visualizations - Select and visualize two features for modeling the behavior of the infected host.\n",
    "    \n",
    "       Select and visualize two features that you believe are most relevant for modeling the behavior of the infected host. (criteria: Shows the behavior of two features conditioned on the infection status.)"
   ]
  },
  {
   "cell_type": "markdown",
   "metadata": {},
   "source": [
    "From the above plots we see that Proto,SrcBytes,TotBytes,TotPkts and State seem to be the most important features.We further choose Proto and TotPkts as they vary largely between the clean and the infected flows\n",
    "\n"
   ]
  },
  {
   "cell_type": "code",
   "execution_count": 4,
   "metadata": {},
   "outputs": [
    {
     "ename": "NameError",
     "evalue": "name 'normal' is not defined",
     "output_type": "error",
     "traceback": [
      "\u001b[1;31m---------------------------------------------------------------------------\u001b[0m",
      "\u001b[1;31mNameError\u001b[0m                                 Traceback (most recent call last)",
      "\u001b[1;32m<ipython-input-4-b049142fb64f>\u001b[0m in \u001b[0;36m<module>\u001b[1;34m\u001b[0m\n\u001b[0;32m      2\u001b[0m \u001b[1;33m\u001b[0m\u001b[0m\n\u001b[0;32m      3\u001b[0m \u001b[0mplt\u001b[0m\u001b[1;33m.\u001b[0m\u001b[0mfigure\u001b[0m\u001b[1;33m(\u001b[0m\u001b[0mfigsize\u001b[0m\u001b[1;33m=\u001b[0m\u001b[1;33m(\u001b[0m\u001b[1;36m10\u001b[0m\u001b[1;33m,\u001b[0m\u001b[1;36m10\u001b[0m\u001b[1;33m)\u001b[0m\u001b[1;33m)\u001b[0m\u001b[1;33m\u001b[0m\u001b[1;33m\u001b[0m\u001b[0m\n\u001b[1;32m----> 4\u001b[1;33m \u001b[0mplt\u001b[0m\u001b[1;33m.\u001b[0m\u001b[0mscatter\u001b[0m\u001b[1;33m(\u001b[0m\u001b[0mnormal\u001b[0m\u001b[1;33m[\u001b[0m\u001b[1;34m'Proto'\u001b[0m\u001b[1;33m]\u001b[0m\u001b[1;33m.\u001b[0m\u001b[0mvalues\u001b[0m\u001b[1;33m-\u001b[0m\u001b[1;36m0.02\u001b[0m\u001b[1;33m,\u001b[0m \u001b[0mnormal\u001b[0m\u001b[1;33m[\u001b[0m\u001b[1;34m'TotPkts'\u001b[0m\u001b[1;33m]\u001b[0m\u001b[1;33m.\u001b[0m\u001b[0mvalues\u001b[0m\u001b[1;33m,\u001b[0m \u001b[0mcolor\u001b[0m\u001b[1;33m=\u001b[0m\u001b[1;34m'g'\u001b[0m\u001b[1;33m,\u001b[0m \u001b[0mlabel\u001b[0m\u001b[1;33m=\u001b[0m\u001b[1;34m'normal'\u001b[0m\u001b[1;33m)\u001b[0m\u001b[1;33m\u001b[0m\u001b[1;33m\u001b[0m\u001b[0m\n\u001b[0m\u001b[0;32m      5\u001b[0m \u001b[0mplt\u001b[0m\u001b[1;33m.\u001b[0m\u001b[0mscatter\u001b[0m\u001b[1;33m(\u001b[0m\u001b[0minfected\u001b[0m\u001b[1;33m[\u001b[0m\u001b[1;34m'Proto'\u001b[0m\u001b[1;33m]\u001b[0m\u001b[1;33m.\u001b[0m\u001b[0mvalues\u001b[0m\u001b[1;33m+\u001b[0m\u001b[1;36m0.02\u001b[0m\u001b[1;33m,\u001b[0m\u001b[0minfected\u001b[0m\u001b[1;33m[\u001b[0m\u001b[1;34m'TotPkts'\u001b[0m\u001b[1;33m]\u001b[0m\u001b[1;33m.\u001b[0m\u001b[0mvalues\u001b[0m\u001b[1;33m,\u001b[0m \u001b[0mcolor\u001b[0m\u001b[1;33m=\u001b[0m\u001b[1;34m'r'\u001b[0m\u001b[1;33m,\u001b[0m \u001b[0mlabel\u001b[0m\u001b[1;33m=\u001b[0m\u001b[1;34m'infected'\u001b[0m\u001b[1;33m)\u001b[0m\u001b[1;33m\u001b[0m\u001b[1;33m\u001b[0m\u001b[0m\n\u001b[0;32m      6\u001b[0m \u001b[0mplt\u001b[0m\u001b[1;33m.\u001b[0m\u001b[0mxlabel\u001b[0m\u001b[1;33m(\u001b[0m\u001b[1;34m'Proto'\u001b[0m\u001b[1;33m)\u001b[0m\u001b[1;33m\u001b[0m\u001b[1;33m\u001b[0m\u001b[0m\n",
      "\u001b[1;31mNameError\u001b[0m: name 'normal' is not defined"
     ]
    },
    {
     "data": {
      "text/plain": [
       "<Figure size 720x720 with 0 Axes>"
      ]
     },
     "metadata": {},
     "output_type": "display_data"
    }
   ],
   "source": [
    "#Visualising these two features\n",
    "\n",
    "plt.figure(figsize=(10,10))\n",
    "plt.scatter(normal['Proto'].values-0.02, normal['TotPkts'].values, color='g', label='normal')\n",
    "plt.scatter(infected['Proto'].values+0.02,infected['TotPkts'].values, color='r', label='infected')\n",
    "plt.xlabel('Proto')\n",
    "plt.ylabel('TotPkts')\n",
    "plt.title('Protocol used by Infected vs Normal machines')\n",
    "plt.xticks(range(6), ['TCP', 'UDP', 'ICMP','RTCP','RTP','ARP'])  #we get this from the mapping performed earlier\n",
    "plt.legend()"
   ]
  },
  {
   "cell_type": "markdown",
   "metadata": {},
   "source": [
    "<a id='1b'></a>"
   ]
  },
  {
   "cell_type": "markdown",
   "metadata": {},
   "source": [
    "### 1b. Discretize selected features\n",
    "    Discretize these features using use any of the methods discussed in class (combine the two values into a single discrete value). (criteria: The discretization is sound, and the result investigated)"
   ]
  },
  {
   "cell_type": "code",
   "execution_count": null,
   "metadata": {},
   "outputs": [],
   "source": [
    "# Run the following command if yellowbrick is not installed\n",
    "# %pip install yellowbrick"
   ]
  },
  {
   "cell_type": "code",
   "execution_count": 14,
   "metadata": {},
   "outputs": [
    {
     "name": "stderr",
     "output_type": "stream",
     "text": [
      "C:\\Users\\maila\\Anaconda3\\lib\\site-packages\\sklearn\\utils\\deprecation.py:144: FutureWarning: The sklearn.metrics.classification module is  deprecated in version 0.22 and will be removed in version 0.24. The corresponding classes / functions should instead be imported from sklearn.metrics. Anything that cannot be imported from sklearn.metrics is now part of the private API.\n",
      "  warnings.warn(message, FutureWarning)\n"
     ]
    },
    {
     "data": {
      "image/png": "[encoded data removed]",
      "text/plain": [
       "<Figure size 576x396 with 2 Axes>"
      ]
     },
     "metadata": {},
     "output_type": "display_data"
    },
    {
     "data": {
      "text/plain": [
       "<matplotlib.axes._subplots.AxesSubplot at 0x263b2876f88>"
      ]
     },
     "execution_count": 14,
     "metadata": {},
     "output_type": "execute_result"
    }
   ],
   "source": [
    "#Apllying Elbow method to find optimal number of clusters\n",
    "val = data_no_background['TotPkts'].values\n",
    "from sklearn.cluster import KMeans\n",
    "from yellowbrick.cluster import KElbowVisualizer\n",
    "model=KElbowVisualizer(KMeans(),k=10)\n",
    "model.fit(val[...,np.newaxis])\n",
    "model.show()"
   ]
  },
  {
   "cell_type": "markdown",
   "metadata": {},
   "source": [
    "As the breakpoint is at cluster 4.Based on this we calculate the ordinal rank"
   ]
  },
  {
   "cell_type": "markdown",
   "metadata": {},
   "source": [
    "We disctretize the TotPkts feature,the Protocol feature is aldready discrete in nature. We add a new feature 'Discrete_TotPkts' which corresponds to the discretized TotPkts featutre.Then we combine these two - Protocol and discretized TotPkts feature.For this step we make use of the algorithm mentioned in paper 4(Learning Behavioral Fingerprints From NetflowsUsing Timed Automata) on page 311.We Then looked into the possible differences that could be exploited in the extracted codes."
   ]
  },
  {
   "cell_type": "code",
   "execution_count": 15,
   "metadata": {},
   "outputs": [],
   "source": [
    "def discretize(val, ranks):\n",
    "\n",
    "    ordinal_ranks = np.linspace(0, 1, ranks, endpoint=False) #based on ranks splitting to percentiles\n",
    "    ordinal_ind = np.ceil(ordinal_ranks[1:] * len(val)) #leave out 0 and calculate p/100*N and round it off,the ordinal ranks\n",
    "    ordinal_val = np.array(sorted(val))[ordinal_ind.astype(int)] #select the values at the percentiles for mapping\n",
    "    disc = []\n",
    "    for v in val:\n",
    "        for i in range(len(ordinal_val)): #i takes values 0,1,2\n",
    "            if v<=ordinal_val[i]:  #check val against all the ordinal boundary values\n",
    "                disc.append(i)\n",
    "                break\n",
    "            if i==len(ordinal_val)-1:  #if its not lesser than any boundary then it is put into the last category\n",
    "                disc.append(i+1)\n",
    "    return np.array(disc)  #this contains the discretized values of the feature\n",
    "\n",
    "\n",
    "def extract_code(values):\n",
    "    M = np.zeros(values.shape[1])\n",
    "    for j in range(values.shape[1]):\n",
    "        M[j] = len(np.unique(values[:,j])) #Pull sout all rows and only jth column,M is an array consisting of no of unique value for each feature\n",
    "    spacesize = np.prod(M) #its the product of the no of values for each feature\n",
    "    code = np.zeros(values.shape[0], dtype=int)\n",
    "    for i in range(values.shape[0]):\n",
    "        s = spacesize\n",
    "        for j in range(values.shape[1]):\n",
    "            code[i] += values[i,j] * s/M[j]\n",
    "            s = s / M[j]\n",
    "    return code"
   ]
  },
  {
   "cell_type": "markdown",
   "metadata": {},
   "source": [
    "To visualize the difference we make use of the normal flow data from the first normal host and compare it to the infected host data."
   ]
  },
  {
   "cell_type": "code",
   "execution_count": 16,
   "metadata": {},
   "outputs": [
    {
     "name": "stderr",
     "output_type": "stream",
     "text": [
      "C:\\Users\\maila\\Anaconda3\\lib\\site-packages\\ipykernel_launcher.py:2: SettingWithCopyWarning: \n",
      "A value is trying to be set on a copy of a slice from a DataFrame.\n",
      "Try using .loc[row_indexer,col_indexer] = value instead\n",
      "\n",
      "See the caveats in the documentation: http://pandas.pydata.org/pandas-docs/stable/user_guide/indexing.html#returning-a-view-versus-a-copy\n",
      "  \n"
     ]
    }
   ],
   "source": [
    "TotPkts_disc = discretize(val, 3)\n",
    "data_no_background['Discrete_TotPkts'] = TotPkts_disc\n",
    "\n",
    "feat = ['Proto', 'Discrete_TotPkts']\n",
    "\n",
    "infected_data = data_no_background[np.logical_or(data_no_background['SrcAddr']==infected_hosts[0], data_no_background['DstAddr']==infected_hosts[0])]\n",
    "infected_data = infected_data[feat].values #selects values of Proto and Discrete_Totpkts\n",
    "infected_code = extract_code(infected_data)\n",
    "\n",
    "clean_data = data_no_background[np.logical_or(data_no_background['SrcAddr']==normal_hosts[0], data_no_background['DstAddr']==normal_hosts[0])][feat].values\n",
    "test_code= extract_code(clean_data)"
   ]
  },
  {
   "cell_type": "code",
   "execution_count": 17,
   "metadata": {},
   "outputs": [
    {
     "data": {
      "text/plain": [
       "Text(0, 0.5, 'Extracted code')"
      ]
     },
     "execution_count": 17,
     "metadata": {},
     "output_type": "execute_result"
    },
    {
     "data": {
      "image/png": "[encoded data removed]",
      "text/plain": [
       "<Figure size 1440x720 with 1 Axes>"
      ]
     },
     "metadata": {},
     "output_type": "display_data"
    }
   ],
   "source": [
    "plt.figure(figsize=(20,10))\n",
    "plt.plot(infected_code, color='r', label='infected')\n",
    "plt.plot(test_code, color='g', label='clean')\n",
    "plt.legend()\n",
    "plt.xlabel(\"Index\")\n",
    "plt.ylabel(\"Extracted code\")"
   ]
  },
  {
   "cell_type": "markdown",
   "metadata": {},
   "source": [
    "<a id='1c'></a>"
   ]
  },
  {
   "cell_type": "markdown",
   "metadata": {},
   "source": [
    "### 1b. Answers and explanation\n",
    "Do you observe any behavior in the two features that could be useful for detecting the infection? Explain and visualize."
   ]
  },
  {
   "cell_type": "markdown",
   "metadata": {},
   "source": [
    "As seen in the above plots the infected data resulted in higher extracted code values, hence this could be used in classification of unseen data as infected or normal data. (This can further be used in task 5/6???)"
   ]
  },
  {
   "cell_type": "code",
   "execution_count": 11,
   "metadata": {},
   "outputs": [],
   "source": [
    "import zipfile\n",
    "archive = zipfile.ZipFile('dataset_lab3.zip', 'r')\n",
    "data = archive.read('dataset_10/capture20110818.binetflow')\n",
    "# archive.namelist()"
   ]
  },
  {
   "cell_type": "code",
   "execution_count": null,
   "metadata": {},
   "outputs": [],
   "source": []
  },
  {
   "cell_type": "code",
   "execution_count": null,
   "metadata": {},
   "outputs": [],
   "source": []
  },
  {
   "cell_type": "markdown",
   "metadata": {},
   "source": [
    "<a id='2'></a>"
   ]
  },
  {
   "cell_type": "markdown",
   "metadata": {},
   "source": [
    "## 2. Frequent task – 1/2 A4 (Individual)\n",
    "\n",
    "Use the SPACE SAVING algorithm to estimate the distribution over 3-grams of discretised symbols. \n",
    "\n",
    "\t1. Write code for the algorithm, use it to estimate the distribution in one pass (no need to actually stream the data, you may store it in memory, or run every file separately, but do store and load the intermediate results). \n",
    "\t2. Use a range of number of counters. (criteria: explanations for the number of used counters/bin)\n",
    "\t3. What are the 10 most frequent 3-grams and their frequencies when approximated? \n",
    "\t4. Use the theory to explain any approximation errors you observe. (criteria: The 3-gram count approximation is correct, and its quality is related to theory)"
   ]
  },
  {
   "cell_type": "markdown",
   "metadata": {},
   "source": [
    "<a id='2a'></a>"
   ]
  },
  {
   "cell_type": "markdown",
   "metadata": {},
   "source": [
    "### 2a. Use the SPACE SAVING algorithm\n",
    "\n",
    "    1. Write code for the algorithm, use it to estimate the distribution in one pass (no need to actually stream the data, you may store it in memory, or run every file separately, but do store and load the intermediate results). \n",
    "\t2. Use a range of number of counters. (criteria: explanations for the number of used counters/bin)"
   ]
  },
  {
   "cell_type": "code",
   "execution_count": null,
   "metadata": {},
   "outputs": [],
   "source": []
  },
  {
   "cell_type": "markdown",
   "metadata": {},
   "source": [
    "<a id='2b'></a>"
   ]
  },
  {
   "cell_type": "markdown",
   "metadata": {},
   "source": [
    "### 2b. Analysis and answers to the questions\n",
    "\n",
    "    3. What are the 10 most frequent 3-grams and their frequencies when approximated? \n",
    "\t4. Use the theory to explain any approximation errors you observe. (criteria: The 3-gram count approximation is correct, and its quality is related to theory)\n"
   ]
  },
  {
   "cell_type": "code",
   "execution_count": null,
   "metadata": {},
   "outputs": [],
   "source": []
  },
  {
   "cell_type": "markdown",
   "metadata": {},
   "source": [
    "<a id='3'></a>"
   ]
  },
  {
   "cell_type": "markdown",
   "metadata": {},
   "source": [
    "## 3. Sketching task – 1/2 A4 (Individual)\n",
    "Build code for computing a COUNT-MIN sketch to estimate occurrence counts for the 3-grams. Make sure the hash functions are pairwise independent. \n",
    "\n",
    "\t1. Estimate the distribution in one pass (no need to actually stream the data, you may store it in memory, or run every file separately, but do store and load the intermediate results). \n",
    "\t2.\tPlay with different heights and widths for the COUNT-MIN sketch matrix. (criteria: explanations for the number of used counters/bin) \n",
    "\t3.\tWhat are the 10 most frequent 3-gramsand their frequencies when approximated? \n",
    "\t4.\tUse the theory to explain any approximation errors you observe. (criteria: The 3-gram count approximation is correct, and its quality is related to theory)\n"
   ]
  },
  {
   "cell_type": "markdown",
   "metadata": {},
   "source": [
    "<a id='3a'></a>"
   ]
  },
  {
   "cell_type": "markdown",
   "metadata": {},
   "source": [
    "### 3a. COUNT-MIN sketch\n",
    "\n",
    "    1. Estimate the distribution in one pass (no need to actually stream the data, you may store it in memory, or run every file separately, but do store and load the intermediate results). \n",
    "\t2.\tPlay with different heights and widths for the COUNT-MIN sketch matrix. (criteria: explanations for the number of used counters/bin) "
   ]
  },
  {
   "cell_type": "code",
   "execution_count": null,
   "metadata": {},
   "outputs": [],
   "source": []
  },
  {
   "cell_type": "markdown",
   "metadata": {},
   "source": [
    "<a id='3b'></a>"
   ]
  },
  {
   "cell_type": "markdown",
   "metadata": {},
   "source": [
    "### 3b. Analysis and answers to the questions\n",
    "\n",
    "    3.\tWhat are the 10 most frequent 3-gramsand their frequencies when approximated? \n",
    "\t4.\tUse the theory to explain any approximation errors you observe. (criteria: The 3-gram count approximation is correct, and its quality is related to theory)\n"
   ]
  },
  {
   "cell_type": "code",
   "execution_count": null,
   "metadata": {},
   "outputs": [],
   "source": []
  },
  {
   "cell_type": "markdown",
   "metadata": {},
   "source": [
    "<a id='4'></a>"
   ]
  },
  {
   "cell_type": "markdown",
   "metadata": {},
   "source": [
    "## 4. Min-wise locality sensitive hashing task – 1/2 A4 (Individual)\n",
    "\n",
    "Implement min-wise locality sensitive hashing as explained in the slides and the documents on Brightspace. This can be used to quickly compute the Jaccard distance for N-gram profiles. \n",
    "\n",
    "\t1.\tUse the discretization from task 1, build 3-gram profiles for every individual connection (pair of IP-addresses). \n",
    "\t2.\tFor this task, the profiles are binary, an N-gram (subsequence) exists (a 1 in the table) or does not (a 0 in the table). \n",
    "\t3.\tUse min-wise LSH to map the 3-gram profiles to a small set of bins of your choice. (Criteria: The number of bins is set sensibly)\n",
    "\t4.\tCompare the run-time of a pair-wise distance computation with one that only considers profiles that end in the same bin. \n",
    "\t5.\tExplain any differences you observe. (criteria: The resulting comparison explains differences in run-time and quality.)"
   ]
  },
  {
   "cell_type": "markdown",
   "metadata": {},
   "source": [
    "<a id='4a'></a>"
   ]
  },
  {
   "cell_type": "markdown",
   "metadata": {},
   "source": [
    "### 4a. Implementation\n",
    "    1.\tUse the discretization from task 1, build 3-gram profiles for every individual connection (pair of IP-addresses). \n",
    "\t2.\tFor this task, the profiles are binary, an N-gram (subsequence) exists (a 1 in the table) or does not (a 0 in the table). \n",
    "\t3.\tUse min-wise LSH to map the 3-gram profiles to a small set of bins of your choice. (Criteria: The number of bins is set sensibly)"
   ]
  },
  {
   "cell_type": "code",
   "execution_count": null,
   "metadata": {},
   "outputs": [],
   "source": []
  },
  {
   "cell_type": "markdown",
   "metadata": {},
   "source": [
    "<a id='4b'></a>"
   ]
  },
  {
   "cell_type": "markdown",
   "metadata": {},
   "source": [
    "### 4b. Analysis and answers to the questions\n",
    "    \n",
    "    4.\tCompare the run-time of a pair-wise distance computation with one that only considers profiles that end in the same bin. \n",
    "\t5.\tExplain any differences you observe. (criteria: The resulting comparison explains differences in run-time and quality.)"
   ]
  },
  {
   "cell_type": "code",
   "execution_count": null,
   "metadata": {},
   "outputs": [],
   "source": []
  },
  {
   "cell_type": "markdown",
   "metadata": {},
   "source": [
    "<a id='5'></a>"
   ]
  },
  {
   "cell_type": "markdown",
   "metadata": {},
   "source": [
    "## 5. Random hyperplane locality sensitive hashing task – 1/2 A4 (Individual)\n",
    "\n",
    "Implement locality sensitive hashing using random hyperplanes as explained in the slides and the documents on Brightspace. This can be used to quickly compute Euclidean distance for N-gram profiles.\n",
    "\n",
    "\t1.\tUse the discretization from task 1, build 3-gram profilesfor every individual connection (pair of IP-addresses). \n",
    "\t2.\tFor this task, the profiles are countsfor every possible 3-gram (subsequence).\n",
    "\t3.\tUse random hyperplanes LSH to map the N-gram profiles to a small set of bins of your choice. \n",
    "\t4.\tCompare the run-time of a pair-wise distance computation with one that only considers profiles that end in the same bin. (criteria: The number of bins is set sensibly)\n",
    "\t5.\tExplain any differences you observe. (criteria: The resulting comparison explains differences in run-time and quality.)\n"
   ]
  },
  {
   "cell_type": "markdown",
   "metadata": {},
   "source": [
    "<a id='5a'></a>"
   ]
  },
  {
   "cell_type": "markdown",
   "metadata": {},
   "source": [
    "### 5a. Implementation - locality sensitive hashing\n",
    "\n",
    "    1.\tUse the discretization from task 1, build 3-gram profilesfor every individual connection (pair of IP-addresses). \n",
    "\t2.\tFor this task, the profiles are countsfor every possible 3-gram (subsequence).\n",
    "\t3.\tUse random hyperplanes LSH to map the N-gram profiles to a small set of bins of your choice. "
   ]
  },
  {
   "cell_type": "code",
   "execution_count": null,
   "metadata": {},
   "outputs": [],
   "source": []
  },
  {
   "cell_type": "markdown",
   "metadata": {},
   "source": [
    "<a id='5b'></a>"
   ]
  },
  {
   "cell_type": "markdown",
   "metadata": {},
   "source": [
    "### 5b. Analysis and answers to the questions. Also provide relevant plots.\n",
    "\n",
    "    4.\tCompare the run-time of a pair-wise distance computation with one that only considers profiles that end in the same bin. (criteria: The number of bins is set sensibly)\n",
    "\t5.\tExplain any differences you observe. (criteria: The resulting comparison explains differences in run-time and quality.)"
   ]
  },
  {
   "cell_type": "code",
   "execution_count": null,
   "metadata": {},
   "outputs": [],
   "source": []
  },
  {
   "cell_type": "markdown",
   "metadata": {},
   "source": [
    "<a id='6'></a>"
   ]
  },
  {
   "cell_type": "markdown",
   "metadata": {},
   "source": [
    "## 6.Botnet profiling task – 1/2 A4\n",
    "\n",
    "    1.\tUse a sliding window to obtain sequence data for every host in all scenarios considered in paper 4 (with multiple infected hosts), with a length of your choice. (criteria: Advanced sequential model learning is used correctly, one for each host.)\n",
    "\t2.\tLearn an n-gram model from the data of one infected host and match its profile (e.g., n-grams using cosine distance, or probabilities using KL-divergence) with all other hosts from the same scenario. \n",
    "\t3.\tEvaluate how many new infections your method finds and false positives it raises (as in paper 4) (criteria: Profile matching and evaluation are correct)\n"
   ]
  },
  {
   "cell_type": "markdown",
   "metadata": {},
   "source": [
    "<a id='6a'></a>"
   ]
  },
  {
   "cell_type": "markdown",
   "metadata": {},
   "source": [
    "### 6a. Learn a sequential model\n",
    "\n",
    "    1.\tUse a sliding window to obtain sequence data for every host in all scenarios considered in paper 4 (with multiple infected hosts), with a length of your choice. (criteria: Advanced sequential model learning is used correctly, one for each host.)\n",
    "\t2.\tLearn an n-gram model from the data of one infected host and match its profile (e.g., n-grams using cosine distance, or probabilities using KL-divergence) with all other hosts from the same scenario. "
   ]
  },
  {
   "cell_type": "code",
   "execution_count": null,
   "metadata": {},
   "outputs": [],
   "source": []
  },
  {
   "cell_type": "markdown",
   "metadata": {},
   "source": [
    "<a id='6b'></a>"
   ]
  },
  {
   "cell_type": "markdown",
   "metadata": {},
   "source": [
    "### 6b. Analysis and answers to the questions.\n",
    "\n",
    "    3.\tEvaluate how many new infections your method finds and false positives it raises (as in paper 4) (criteria: Profile matching and evaluation are correct)\n"
   ]
  },
  {
   "cell_type": "code",
   "execution_count": null,
   "metadata": {},
   "outputs": [],
   "source": []
  },
  {
   "cell_type": "markdown",
   "metadata": {},
   "source": [
    "<a id='7'></a>"
   ]
  },
  {
   "cell_type": "markdown",
   "metadata": {},
   "source": [
    "## 7.Botnet fingerprinting task – 1/2 A4\n",
    "\n",
    "    1.\tUse the obtained botnet profiles for fingerprinting, i.e., look for the occurrence of an n-gram that does not occur in any benign traffic. \n",
    "\t2.\tWhenever this subsequence occurs, you raise an alarm. \n",
    "\t3.\tEvaluate how many new infections your method finds and false positives it raises (as in paper 4).\n",
    "\t4.\tCompare it to profiling and explain the results. (criteria:Fingerprinting is correctly applied. Comparison to profiling is sound and considers both run-time and the kinds of behaviors that can be detected)"
   ]
  },
  {
   "cell_type": "markdown",
   "metadata": {},
   "source": [
    "<a id='7a'></a>"
   ]
  },
  {
   "cell_type": "markdown",
   "metadata": {},
   "source": [
    "### 7a. Fingerprinting\n",
    "\n",
    "    1.\tUse the obtained botnet profiles for fingerprinting, i.e., look for the occurrence of an n-gram that does not occur in any benign traffic. \n",
    "\t2.\tWhenever this subsequence occurs, you raise an alarm. \n"
   ]
  },
  {
   "cell_type": "code",
   "execution_count": null,
   "metadata": {},
   "outputs": [],
   "source": []
  },
  {
   "cell_type": "markdown",
   "metadata": {},
   "source": [
    "<a id='7b'></a>"
   ]
  },
  {
   "cell_type": "markdown",
   "metadata": {},
   "source": [
    "### 7b. Analysis and answers to the questions.\n",
    "\t3.\tEvaluate how many new infections your method finds and false positives it raises (as in paper 4).\n",
    "\t4.\tCompare it to profiling and explain the results. (criteria:Fingerprinting is correctly applied. Comparison to profiling is sound and considers both run-time and the kinds of behaviors that can be detected)"
   ]
  },
  {
   "cell_type": "code",
   "execution_count": null,
   "metadata": {},
   "outputs": [],
   "source": []
  },
  {
   "cell_type": "markdown",
   "metadata": {},
   "source": [
    "<a id='8'></a>"
   ]
  },
  {
   "cell_type": "markdown",
   "metadata": {},
   "source": [
    "## 8. Bonus Task 1/2 A4"
   ]
  },
  {
   "cell_type": "markdown",
   "metadata": {},
   "source": [
    "### 8a. Provide implementation and analysis."
   ]
  },
  {
   "cell_type": "code",
   "execution_count": null,
   "metadata": {},
   "outputs": [],
   "source": []
  }
 ],
 "metadata": {
  "kernelspec": {
   "display_name": "Python 3",
   "language": "python",
   "name": "python3"
  },
  "language_info": {
   "codemirror_mode": {
    "name": "ipython",
    "version": 3
   },
   "file_extension": ".py",
   "mimetype": "text/x-python",
   "name": "python",
   "nbconvert_exporter": "python",
   "pygments_lexer": "ipython3",
   "version": "3.7.6"
  }
 },
 "nbformat": 4,
 "nbformat_minor": 2
}
