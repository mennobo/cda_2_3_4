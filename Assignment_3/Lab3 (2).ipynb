{
 "cells": [
  {
   "cell_type": "markdown",
   "metadata": {},
   "source": [
    "# CS4035 - Cyber Data Analytics\n",
    "## Lab 3 "
   ]
  },
  {
   "cell_type": "markdown",
   "metadata": {},
   "source": [
    "### Submit on brightspace (zip file with the name Group_xx.zip)\n",
    "(i) This jupyter file completed with code, plots, figures and report for each question. Additional plots and figures can be created for explanation before the end of each main question. Lab 3 contains 7 main questions, including the bonus. Write the code or explanation below each sub question. For the explantions, include what you would normally include in the report for this lab assignment, for example data pre-processing, hypothesis tested, approach, results, etc.\n",
    "(ii) A PDF or a Word report for the assignment. Create a report from the plots, figures, tables and the write-up that you provide in this jupyter file. The report will be used as a proof for page limit. \n",
    "(iii) The libraries needed to run this file. \n",
    "\n",
    "Your peers should be able to use the readme section for instructions and be able to run this file. "
   ]
  },
  {
   "cell_type": "markdown",
   "metadata": {},
   "source": [
    "## Group Number :"
   ]
  },
  {
   "cell_type": "markdown",
   "metadata": {},
   "source": [
    "## Student 1 \n",
    "### Name : Arpita Ravindranath\n",
    "### ID : 5002702"
   ]
  },
  {
   "cell_type": "markdown",
   "metadata": {},
   "source": [
    "## Student 2\n",
    "### Name : Menno Bezema\n",
    "### ID : 4248252"
   ]
  },
  {
   "cell_type": "markdown",
   "metadata": {},
   "source": [
    "## Readme - Provide instructions - libraries used, location of the data file, etc. Keep it short. Remember your peers will not debug your code and should be able to reproduce the exact output you provide."
   ]
  },
  {
   "cell_type": "markdown",
   "metadata": {},
   "source": [
    "We added a requirements.txt file, install all the requirements using pip install -r requirements.txt\n",
    "\n",
    "containing:\n",
    "- pandas\n",
    "- numpy\n",
    "- matplotlib\n",
    "- sklearn\n",
    "- yellowbrick\n",
    "- zipfile\n"
   ]
  },
  {
   "cell_type": "markdown",
   "metadata": {},
   "source": [
    "### index (Easy navigation to sections)\n",
    "This index also shows how our report is set up. We work through the questions in the assignments in order. The link to the question is the first cell in which we talk about that part (2a leads to the start of 2a).\n",
    "1. [Familiarization and discretization task](#1)\n",
    "    - [1a. Plot Visualizations](#1a)\n",
    "    - [1b. Discretize selected features](#1b)\n",
    "    - [1c. Answers and explanation](#1c)\n",
    "2. [Frequent task](#2)\n",
    "    - [2a. Use the SPACE SAVING Algorithm](#2a)\n",
    "    - [2b. Analysis and answers to the questions](#2b)\n",
    "3. [Sketching task](#3)\n",
    "    - [3a. COUNT-MIN sketch](#3a)\n",
    "    - [3b. Analysis and answers to the questions](#3b)\n",
    "4. [Min-wise locality sensitive hashing task  task](#4)\n",
    "    - [4a. Implementation](#4a)\n",
    "    - [4b. Analysis and answers to the questions](#4b)\n",
    "5. [Random hyperplane locality sensitive hashing task ](#5)\n",
    "    - [5a. Implementation - locality sensitive hashing](#5a)\n",
    "    - [5b. Analysis and answers to the questions. Also provide relevant plots](#5b)\n",
    "6. [Botnet profiling task](#6)\n",
    "    - [6a. Learn a sequential model.](#6a)\n",
    "    - [6b. Analysis and answers to the questions.](#6b)\n",
    "7. [Botnet fingerprinting task task](#7)\n",
    "    - [7a. Fingerprinting.](#7a)\n",
    "    - [7b. Analysis and answers to the questions.](#7b)\n",
    "8. [Bonus](#8)"
   ]
  },
  {
   "cell_type": "markdown",
   "metadata": {},
   "source": [
    "<a id='1'></a>"
   ]
  },
  {
   "cell_type": "markdown",
   "metadata": {},
   "source": [
    "## 1. Familiarization and discretization task – 1 A4\n",
    "\n",
    "# TODO: add titles to each plot\n",
    "\n",
    "Familiarization and discretization task –1 A4\n",
    "Consider scenario 10 from the CTU-13 data sets (see paper 4 from below resources). Remove all background flows from the data. \n",
    "\n",
    "\tAssignment:\n",
    "\t1. You are to discretize the NetFlows (Apply the discretization to data from all hosts in the selected scenario). \n",
    "\t2. Investigate the data from one of the infected hosts. \n",
    "\t3. Select and visualize two features that you believe are most relevant for modeling the behavior of the infected host. (criteria: Shows the behavior of two features conditioned on the infection status.)\n",
    "\t4. Discretize these features using use any of the methods discussed in class (combine the two values into a single discrete value). (criteria: The discretization is sound, and the result investigated)\n",
    "    \n",
    "    Question:\n",
    "\t1. Do you observe any behavior in the two features that could be useful for detecting the infection? Explain and visualize. \n"
   ]
  },
  {
   "cell_type": "code",
   "execution_count": 1,
   "metadata": {},
   "outputs": [],
   "source": [
    "import pandas as pd\n",
    "import random\n",
    "import numpy as np\n",
    "import matplotlib.pylab as plt\n",
    "import zipfile\n",
    "%matplotlib inline"
   ]
  },
  {
   "cell_type": "markdown",
   "metadata": {},
   "source": [
    "Find all entries that belong to the background flow by searching for the word background in the feature Label(Normal:CC:Background).When the data 'Label' feature is -1 then that flow does not belong to the background.This information will help to retrive non background flows in future."
   ]
  },
  {
   "cell_type": "code",
   "execution_count": 36,
   "metadata": {},
   "outputs": [],
   "source": [
    "# We work from a zipfile to keep memory low\n",
    "archive = zipfile.ZipFile('dataset_lab3.zip', 'r')\n",
    "data = pd.read_csv(archive.open('dataset_10/capture20110818.binetflow'))\n",
    "\n",
    "# Find out which datapoints are background or not\n",
    "data['Label'] = data['Label'].str.find('Background')\n",
    "\n",
    "#convert the Proto,Dir,State,Label(Normal:CC:Background),CCDetector(Normal:CC:Unknown) features to numeric\n",
    "label_mapping = {}\n",
    "char_cols = ['Proto', 'Dir','State']\n",
    "for c in char_cols:\n",
    "    data[c], label_mapping[c] = pd.factorize(data[c])\n",
    "# label_mapping"
   ]
  },
  {
   "cell_type": "code",
   "execution_count": 37,
   "metadata": {},
   "outputs": [
    {
     "data": {
      "text/html": [
       "<div>\n",
       "<style scoped>\n",
       "    .dataframe tbody tr th:only-of-type {\n",
       "        vertical-align: middle;\n",
       "    }\n",
       "\n",
       "    .dataframe tbody tr th {\n",
       "        vertical-align: top;\n",
       "    }\n",
       "\n",
       "    .dataframe thead th {\n",
       "        text-align: right;\n",
       "    }\n",
       "</style>\n",
       "<table border=\"1\" class=\"dataframe\">\n",
       "  <thead>\n",
       "    <tr style=\"text-align: right;\">\n",
       "      <th></th>\n",
       "      <th>StartTime</th>\n",
       "      <th>Dur</th>\n",
       "      <th>Proto</th>\n",
       "      <th>SrcAddr</th>\n",
       "      <th>Sport</th>\n",
       "      <th>Dir</th>\n",
       "      <th>DstAddr</th>\n",
       "      <th>Dport</th>\n",
       "      <th>State</th>\n",
       "      <th>sTos</th>\n",
       "      <th>dTos</th>\n",
       "      <th>TotPkts</th>\n",
       "      <th>TotBytes</th>\n",
       "      <th>SrcBytes</th>\n",
       "      <th>Label</th>\n",
       "    </tr>\n",
       "  </thead>\n",
       "  <tbody>\n",
       "    <tr>\n",
       "      <th>532</th>\n",
       "      <td>2011/08/18 10:19:15.693956</td>\n",
       "      <td>3587.569824</td>\n",
       "      <td>0</td>\n",
       "      <td>147.32.84.164</td>\n",
       "      <td>54784</td>\n",
       "      <td>1</td>\n",
       "      <td>74.125.232.215</td>\n",
       "      <td>443</td>\n",
       "      <td>13</td>\n",
       "      <td>0.0</td>\n",
       "      <td>0.0</td>\n",
       "      <td>3049</td>\n",
       "      <td>978731</td>\n",
       "      <td>245317</td>\n",
       "      <td>-1</td>\n",
       "    </tr>\n",
       "    <tr>\n",
       "      <th>822</th>\n",
       "      <td>2011/08/18 10:19:18.143576</td>\n",
       "      <td>198.072739</td>\n",
       "      <td>0</td>\n",
       "      <td>147.32.84.164</td>\n",
       "      <td>56165</td>\n",
       "      <td>1</td>\n",
       "      <td>74.125.232.197</td>\n",
       "      <td>80</td>\n",
       "      <td>36</td>\n",
       "      <td>0.0</td>\n",
       "      <td>0.0</td>\n",
       "      <td>14</td>\n",
       "      <td>924</td>\n",
       "      <td>462</td>\n",
       "      <td>-1</td>\n",
       "    </tr>\n",
       "    <tr>\n",
       "      <th>842</th>\n",
       "      <td>2011/08/18 10:19:18.303590</td>\n",
       "      <td>197.928329</td>\n",
       "      <td>0</td>\n",
       "      <td>147.32.84.164</td>\n",
       "      <td>57965</td>\n",
       "      <td>1</td>\n",
       "      <td>209.85.149.138</td>\n",
       "      <td>80</td>\n",
       "      <td>36</td>\n",
       "      <td>0.0</td>\n",
       "      <td>0.0</td>\n",
       "      <td>14</td>\n",
       "      <td>924</td>\n",
       "      <td>462</td>\n",
       "      <td>-1</td>\n",
       "    </tr>\n",
       "    <tr>\n",
       "      <th>1021</th>\n",
       "      <td>2011/08/18 10:19:19.838272</td>\n",
       "      <td>0.000399</td>\n",
       "      <td>1</td>\n",
       "      <td>147.32.84.170</td>\n",
       "      <td>45807</td>\n",
       "      <td>3</td>\n",
       "      <td>147.32.80.9</td>\n",
       "      <td>53</td>\n",
       "      <td>12</td>\n",
       "      <td>0.0</td>\n",
       "      <td>0.0</td>\n",
       "      <td>2</td>\n",
       "      <td>400</td>\n",
       "      <td>74</td>\n",
       "      <td>-1</td>\n",
       "    </tr>\n",
       "    <tr>\n",
       "      <th>1022</th>\n",
       "      <td>2011/08/18 10:19:19.839123</td>\n",
       "      <td>0.000400</td>\n",
       "      <td>1</td>\n",
       "      <td>147.32.84.170</td>\n",
       "      <td>35380</td>\n",
       "      <td>3</td>\n",
       "      <td>147.32.80.9</td>\n",
       "      <td>53</td>\n",
       "      <td>12</td>\n",
       "      <td>0.0</td>\n",
       "      <td>0.0</td>\n",
       "      <td>2</td>\n",
       "      <td>400</td>\n",
       "      <td>74</td>\n",
       "      <td>-1</td>\n",
       "    </tr>\n",
       "    <tr>\n",
       "      <th>...</th>\n",
       "      <td>...</td>\n",
       "      <td>...</td>\n",
       "      <td>...</td>\n",
       "      <td>...</td>\n",
       "      <td>...</td>\n",
       "      <td>...</td>\n",
       "      <td>...</td>\n",
       "      <td>...</td>\n",
       "      <td>...</td>\n",
       "      <td>...</td>\n",
       "      <td>...</td>\n",
       "      <td>...</td>\n",
       "      <td>...</td>\n",
       "      <td>...</td>\n",
       "      <td>...</td>\n",
       "    </tr>\n",
       "    <tr>\n",
       "      <th>1309670</th>\n",
       "      <td>2011/08/18 15:04:58.033603</td>\n",
       "      <td>0.000743</td>\n",
       "      <td>2</td>\n",
       "      <td>147.32.84.164</td>\n",
       "      <td>0x0008</td>\n",
       "      <td>3</td>\n",
       "      <td>147.32.96.69</td>\n",
       "      <td>0x841e</td>\n",
       "      <td>51</td>\n",
       "      <td>0.0</td>\n",
       "      <td>0.0</td>\n",
       "      <td>2</td>\n",
       "      <td>196</td>\n",
       "      <td>98</td>\n",
       "      <td>-1</td>\n",
       "    </tr>\n",
       "    <tr>\n",
       "      <th>1309736</th>\n",
       "      <td>2011/08/18 15:04:59.032685</td>\n",
       "      <td>0.000913</td>\n",
       "      <td>2</td>\n",
       "      <td>147.32.84.164</td>\n",
       "      <td>0x0008</td>\n",
       "      <td>3</td>\n",
       "      <td>147.32.96.69</td>\n",
       "      <td>0x841e</td>\n",
       "      <td>51</td>\n",
       "      <td>0.0</td>\n",
       "      <td>0.0</td>\n",
       "      <td>2</td>\n",
       "      <td>196</td>\n",
       "      <td>98</td>\n",
       "      <td>-1</td>\n",
       "    </tr>\n",
       "    <tr>\n",
       "      <th>1309782</th>\n",
       "      <td>2011/08/18 15:04:59.532629</td>\n",
       "      <td>0.000414</td>\n",
       "      <td>1</td>\n",
       "      <td>147.32.84.170</td>\n",
       "      <td>37138</td>\n",
       "      <td>3</td>\n",
       "      <td>147.32.80.9</td>\n",
       "      <td>53</td>\n",
       "      <td>12</td>\n",
       "      <td>0.0</td>\n",
       "      <td>0.0</td>\n",
       "      <td>2</td>\n",
       "      <td>244</td>\n",
       "      <td>81</td>\n",
       "      <td>-1</td>\n",
       "    </tr>\n",
       "    <tr>\n",
       "      <th>1309783</th>\n",
       "      <td>2011/08/18 15:04:59.533932</td>\n",
       "      <td>0.000322</td>\n",
       "      <td>1</td>\n",
       "      <td>147.32.84.170</td>\n",
       "      <td>39771</td>\n",
       "      <td>3</td>\n",
       "      <td>147.32.80.9</td>\n",
       "      <td>53</td>\n",
       "      <td>12</td>\n",
       "      <td>0.0</td>\n",
       "      <td>0.0</td>\n",
       "      <td>2</td>\n",
       "      <td>280</td>\n",
       "      <td>81</td>\n",
       "      <td>-1</td>\n",
       "    </tr>\n",
       "    <tr>\n",
       "      <th>1309784</th>\n",
       "      <td>2011/08/18 15:04:59.535652</td>\n",
       "      <td>0.109055</td>\n",
       "      <td>0</td>\n",
       "      <td>147.32.84.170</td>\n",
       "      <td>43073</td>\n",
       "      <td>0</td>\n",
       "      <td>195.24.232.205</td>\n",
       "      <td>80</td>\n",
       "      <td>152</td>\n",
       "      <td>0.0</td>\n",
       "      <td>0.0</td>\n",
       "      <td>5</td>\n",
       "      <td>557</td>\n",
       "      <td>417</td>\n",
       "      <td>-1</td>\n",
       "    </tr>\n",
       "  </tbody>\n",
       "</table>\n",
       "<p>122199 rows × 15 columns</p>\n",
       "</div>"
      ],
      "text/plain": [
       "                          StartTime          Dur  Proto        SrcAddr  \\\n",
       "532      2011/08/18 10:19:15.693956  3587.569824      0  147.32.84.164   \n",
       "822      2011/08/18 10:19:18.143576   198.072739      0  147.32.84.164   \n",
       "842      2011/08/18 10:19:18.303590   197.928329      0  147.32.84.164   \n",
       "1021     2011/08/18 10:19:19.838272     0.000399      1  147.32.84.170   \n",
       "1022     2011/08/18 10:19:19.839123     0.000400      1  147.32.84.170   \n",
       "...                             ...          ...    ...            ...   \n",
       "1309670  2011/08/18 15:04:58.033603     0.000743      2  147.32.84.164   \n",
       "1309736  2011/08/18 15:04:59.032685     0.000913      2  147.32.84.164   \n",
       "1309782  2011/08/18 15:04:59.532629     0.000414      1  147.32.84.170   \n",
       "1309783  2011/08/18 15:04:59.533932     0.000322      1  147.32.84.170   \n",
       "1309784  2011/08/18 15:04:59.535652     0.109055      0  147.32.84.170   \n",
       "\n",
       "          Sport  Dir         DstAddr   Dport  State  sTos  dTos  TotPkts  \\\n",
       "532       54784    1  74.125.232.215     443     13   0.0   0.0     3049   \n",
       "822       56165    1  74.125.232.197      80     36   0.0   0.0       14   \n",
       "842       57965    1  209.85.149.138      80     36   0.0   0.0       14   \n",
       "1021      45807    3     147.32.80.9      53     12   0.0   0.0        2   \n",
       "1022      35380    3     147.32.80.9      53     12   0.0   0.0        2   \n",
       "...         ...  ...             ...     ...    ...   ...   ...      ...   \n",
       "1309670  0x0008    3    147.32.96.69  0x841e     51   0.0   0.0        2   \n",
       "1309736  0x0008    3    147.32.96.69  0x841e     51   0.0   0.0        2   \n",
       "1309782   37138    3     147.32.80.9      53     12   0.0   0.0        2   \n",
       "1309783   39771    3     147.32.80.9      53     12   0.0   0.0        2   \n",
       "1309784   43073    0  195.24.232.205      80    152   0.0   0.0        5   \n",
       "\n",
       "         TotBytes  SrcBytes  Label  \n",
       "532        978731    245317     -1  \n",
       "822           924       462     -1  \n",
       "842           924       462     -1  \n",
       "1021          400        74     -1  \n",
       "1022          400        74     -1  \n",
       "...           ...       ...    ...  \n",
       "1309670       196        98     -1  \n",
       "1309736       196        98     -1  \n",
       "1309782       244        81     -1  \n",
       "1309783       280        81     -1  \n",
       "1309784       557       417     -1  \n",
       "\n",
       "[122199 rows x 15 columns]"
      ]
     },
     "execution_count": 37,
     "metadata": {},
     "output_type": "execute_result"
    }
   ],
   "source": [
    "#Remove all background flows\n",
    "data_no_background = data[data['Label'] == -1]\n",
    "data_no_background"
   ]
  },
  {
   "cell_type": "code",
   "execution_count": 38,
   "metadata": {},
   "outputs": [],
   "source": [
    "#We obtain this information from the description of the CTU13 dataset\n",
    "infected_hosts = ['147.32.84.165','147.32.84.191','147.32.84.192','147.32.84.193','147.32.84.204',\n",
    "                  '147.32.84.205','147.32.84.206''147.32.84.207','147.32.84.208','147.32.84.209']\n",
    "\n",
    "normal_hosts = ['147.32.84.170', '147.32.84.134', '147.32.84.164', '147.32.87.36, 147.32.80.9', '147.32.87.11']"
   ]
  },
  {
   "cell_type": "code",
   "execution_count": 39,
   "metadata": {},
   "outputs": [],
   "source": [
    "#getting flows related to infected host 147.32.84.165(This is the infected host chosen for visualization and discretization)\n",
    "#We choose all flows where the source or destination IP is 147.32.84.165\n",
    "infected1 = data_no_background[data_no_background['SrcAddr'] == infected_hosts[0]]\n",
    "infected2 = data_no_background[data_no_background['DstAddr'] == infected_hosts[0]]\n",
    "frames = [infected1,infected2]\n",
    "infected = pd.concat(frames)\n",
    "#infected"
   ]
  },
  {
   "cell_type": "code",
   "execution_count": 40,
   "metadata": {},
   "outputs": [],
   "source": [
    "#getting non infected flows.This is when the source IP or destination IP belong to the list of normal hosts\n",
    "normal1 = data_no_background[data_no_background['SrcAddr'].isin(normal_hosts)]\n",
    "normal2 = data_no_background[data_no_background['DstAddr'].isin(normal_hosts)]\n",
    "frames = [normal1,normal2]\n",
    "normal = pd.concat(frames)\n",
    "#normal"
   ]
  },
  {
   "cell_type": "code",
   "execution_count": 45,
   "metadata": {},
   "outputs": [
    {
     "name": "stdout",
     "output_type": "stream",
     "text": [
      "Totpackets infected mean: 32.89696210460382 - std dev: 1833.7146960535513\n",
      "Totpackets normal mean:   37.226810293237584 - std dev: 518.8540774153314\n",
      "TotBytes infected mean: 29293.764484810523 - std dev: 1461313.1540915144\n",
      "TotBytes normal mean:   28335.471706895405 - std dev: 481827.83026914933\n",
      "SrcBytes infected mean: 29282.68159515607 - std dev: 1461313.238340825\n",
      "SrcBytes normal mean: 1723.304275550236   - std dev: 18867.27067999337\n",
      "dTos infected mean: 0.0 - std dev: 0.0\n",
      "dTos normal mean: 0.0   - std dev: 0.0\n",
      "sTos infected mean: 0.0 - std dev: 0.0\n",
      "sTos normal mean: 0.0   - std dev: 0.0\n",
      "Proto infected mean: 1.9945714583985803 - std dev: 0.08652729715778776\n",
      "Proto normal mean: 0.6955249684154532   - std dev: 0.5565804727256248\n",
      "State infected mean: 183.58064516129033 - std dev: 42.866007119943255\n",
      "State normal mean: 18.06263714342709   - std dev: 17.38402911018204\n",
      "Dur infected mean: 100.24288123415805 - std dev: 311.22619066767317\n",
      "Dur normal mean: 39.79041246459206   - std dev: 258.66560799302283\n",
      "Dir infected mean: 0.005637331663012841 - std dev: 0.1299238834116334\n",
      "Dir normal mean: 1.9011902387126804   - std dev: 1.4399607102900889\n",
      "Label infected mean: -1.0 - std dev: 0.0\n",
      "Label normal mean: -1.0   - std dev: 0.0\n"
     ]
    }
   ],
   "source": [
    "#Print variation in the features to find the ones with the most deviations\n",
    "print(f\"Totpackets infected mean: {np.mean(infected['TotPkts'])} - std dev: {np.std(infected['TotPkts'])}\")\n",
    "print(f\"Totpackets normal mean:   {np.mean(normal['TotPkts'])} - std dev: {np.std(normal['TotPkts'])}\")\n",
    "\n",
    "print(f\"TotBytes infected mean: {np.mean(infected['TotBytes'])} - std dev: {np.std(infected['TotBytes'])}\")\n",
    "print(f\"TotBytes normal mean:   {np.mean(normal['TotBytes'])} - std dev: {np.std(normal['TotBytes'])}\")\n",
    "\n",
    "print(f\"SrcBytes infected mean: {np.mean(infected['SrcBytes'])} - std dev: { np.std(infected['SrcBytes'])}\")\n",
    "print(f\"SrcBytes normal mean: {np.mean(normal['SrcBytes'])}   - std dev: { np.std(normal['SrcBytes'])}\")\n",
    "\n",
    "print(f\"dTos infected mean: {np.mean(infected['dTos'])} - std dev: { np.std(infected['dTos'])}\")\n",
    "print(f\"dTos normal mean: {np.mean(normal['dTos'])}   - std dev: { np.std(normal['dTos'])}\")\n",
    "\n",
    "print(f\"sTos infected mean: {np.mean(infected['sTos'])} - std dev: { np.std(infected['sTos'])}\")\n",
    "print(f\"sTos normal mean: {np.mean(normal['sTos'])}   - std dev: { np.std(normal['sTos'])}\")\n",
    "\n",
    "print(f\"Proto infected mean: {np.mean(infected['Proto'])} - std dev: { np.std(infected['Proto'])}\")\n",
    "print(f\"Proto normal mean: {np.mean(normal['Proto'])}   - std dev: { np.std(normal['Proto'])}\")\n",
    "\n",
    "print(f\"State infected mean: {np.mean(infected['State'])} - std dev: { np.std(infected['State'])}\")\n",
    "print(f\"State normal mean: {np.mean(normal['State'])}   - std dev: { np.std(normal['State'])}\")\n",
    "\n",
    "print(f\"Dur infected mean: {np.mean(infected['Dur'])} - std dev: { np.std(infected['Dur'])}\")\n",
    "print(f\"Dur normal mean: {np.mean(normal['Dur'])}   - std dev: { np.std(normal['Dur'])}\")\n",
    "\n",
    "print(f\"Dir infected mean: {np.mean(infected['Dir'])} - std dev: { np.std(infected['Dir'])}\")\n",
    "print(f\"Dir normal mean: {np.mean(normal['Dir'])}   - std dev: { np.std(normal['Dir'])}\")\n",
    "\n",
    "# print(f\"infected - mean CCDetector\", np.mean(infected['CCDetector(Normal:CC:Unknown)']), np.std(infected['CCDetector(Normal:CC:Unknown)']))\n",
    "# print(f\"normal   - mean CCDetector\", np.mean(normal['CCDetector(Normal:CC:Unknown)']), np.std(normal['CCDetector(Normal:CC:Unknown)']))\n",
    "\n",
    "print(f\"Label infected mean: {np.mean(infected['Label'])} - std dev: { np.std(infected['Label'])}\")\n",
    "print(f\"Label normal mean: {np.mean(normal['Label'])}   - std dev: { np.std(normal['Label'])}\")"
   ]
  },
  {
   "cell_type": "code",
   "execution_count": 47,
   "metadata": {},
   "outputs": [
    {
     "data": {
      "text/plain": [
       "Text(0, 0.5, 'Mean value')"
      ]
     },
     "execution_count": 47,
     "metadata": {},
     "output_type": "execute_result"
    },
    {
     "data": {
      "image/png": "[encoded data removed]",
      "text/plain": [
       "<Figure size 1080x720 with 1 Axes>"
      ]
     },
     "metadata": {
      "needs_background": "light"
     },
     "output_type": "display_data"
    }
   ],
   "source": [
    "cols = ['TotBytes','SrcBytes','TotPkts', 'Dur','State', 'dTos','sTos', 'Proto', 'Dir','Label']\n",
    "\n",
    "mean_infected = np.mean(infected[cols].values, axis=0)\n",
    "std_infected = np.std(infected[cols].values, axis=0)\n",
    "\n",
    "mean_clean = np.mean(normal[cols].values, axis=0)\n",
    "std_clean = np.std(normal[cols].values, axis=0)\n",
    "\n",
    "\n",
    "f, ax = plt.subplots(nrows=1, ncols=1, figsize=(15,10))\n",
    "\n",
    "ax.bar(range(2), height=mean_infected[:-9], width=0.3, color='r', label='infected')\n",
    "ax.bar(range(2), height=mean_clean[:-9], width=0.3, color='g', label='clean')\n",
    "ax.legend()\n",
    "ax.set_xticks(range(2)) \n",
    "ax.set_xticklabels(cols[:-9], fontsize=10)\n",
    "ax.set_ylabel('Mean value')"
   ]
  },
  {
   "cell_type": "code",
   "execution_count": 48,
   "metadata": {},
   "outputs": [
    {
     "data": {
      "text/plain": [
       "Text(0, 0.5, 'Mean value')"
      ]
     },
     "execution_count": 48,
     "metadata": {},
     "output_type": "execute_result"
    },
    {
     "data": {
      "image/png": "[encoded data removed]",
      "text/plain": [
       "<Figure size 1080x720 with 1 Axes>"
      ]
     },
     "metadata": {
      "needs_background": "light"
     },
     "output_type": "display_data"
    }
   ],
   "source": [
    "f, ax = plt.subplots(nrows=1, ncols=1, figsize=(15,10))\n",
    "\n",
    "ax.bar(range(3),height=mean_infected[-9:-6],\n",
    "          width=0.3, color='r', label='infected')\n",
    "ax.bar(range(3), height=mean_clean[-9:-6], \n",
    "          width=0.3, color='g', label='clean')\n",
    "ax.legend()\n",
    "ax.set_xticks(range(3)) \n",
    "ax.set_xticklabels(cols[-9:-6], fontsize=10)\n",
    "ax.set_ylabel('Mean value')"
   ]
  },
  {
   "cell_type": "code",
   "execution_count": 49,
   "metadata": {},
   "outputs": [
    {
     "data": {
      "text/plain": [
       "Text(0, 0.5, 'Mean value')"
      ]
     },
     "execution_count": 49,
     "metadata": {},
     "output_type": "execute_result"
    },
    {
     "data": {
      "image/png": "[encoded data removed]",
      "text/plain": [
       "<Figure size 1080x720 with 1 Axes>"
      ]
     },
     "metadata": {
      "needs_background": "light"
     },
     "output_type": "display_data"
    }
   ],
   "source": [
    "f, ax = plt.subplots(nrows=1, ncols=1, figsize=(15,10))\n",
    "\n",
    "ax.bar(range(6),height=mean_infected[-6:],\n",
    "          width=0.3, color='r', label='infected')\n",
    "ax.bar(range(6), height=mean_clean[-6:], \n",
    "          width=0.3, color='g', label='clean')\n",
    "ax.legend()\n",
    "ax.set_xticks(range(6)) \n",
    "ax.set_xticklabels(cols[-6:], fontsize=10)\n",
    "ax.set_ylabel('Mean value')"
   ]
  },
  {
   "cell_type": "markdown",
   "metadata": {},
   "source": [
    "<a id='1a'></a>"
   ]
  },
  {
   "cell_type": "markdown",
   "metadata": {},
   "source": [
    "### 1a. Plot visualizations - Select and visualize two features for modeling the behavior of the infected host.\n",
    "    \n",
    "       Select and visualize two features that you believe are most relevant for modeling the behavior of the infected host. (criteria: Shows the behavior of two features conditioned on the infection status.)"
   ]
  },
  {
   "cell_type": "markdown",
   "metadata": {},
   "source": [
    "From the above plots we see that Proto,SrcBytes,TotBytes,TotPkts and State seem to be the most important features.We further choose Proto and TotPkts as they vary largely between the clean and the infected flows\n",
    "\n"
   ]
  },
  {
   "cell_type": "code",
   "execution_count": 50,
   "metadata": {},
   "outputs": [
    {
     "data": {
      "text/plain": [
       "<matplotlib.legend.Legend at 0x1ae9d95e5c8>"
      ]
     },
     "execution_count": 50,
     "metadata": {},
     "output_type": "execute_result"
    },
    {
     "data": {
      "image/png": "[encoded data removed]",
      "text/plain": [
       "<Figure size 720x720 with 1 Axes>"
      ]
     },
     "metadata": {
      "needs_background": "light"
     },
     "output_type": "display_data"
    }
   ],
   "source": [
    "#Visualising these two features\n",
    "\n",
    "plt.figure(figsize=(10,10))\n",
    "plt.scatter(normal['Proto'].values-0.02, normal['TotPkts'].values, color='g', label='normal')\n",
    "plt.scatter(infected['Proto'].values+0.02,infected['TotPkts'].values, color='r', label='infected')\n",
    "plt.xlabel('Proto')\n",
    "plt.ylabel('TotPkts')\n",
    "plt.title('Protocol used by Infected vs Normal machines')\n",
    "plt.xticks(range(6), ['TCP', 'UDP', 'ICMP','RTCP','RTP','ARP'])  #we get this from the mapping performed earlier\n",
    "plt.legend()"
   ]
  },
  {
   "cell_type": "markdown",
   "metadata": {},
   "source": [
    "<a id='1b'></a>"
   ]
  },
  {
   "cell_type": "markdown",
   "metadata": {},
   "source": [
    "### 1b. Discretize selected features\n",
    "    Discretize these features using use any of the methods discussed in class (combine the two values into a single discrete value). (criteria: The discretization is sound, and the result investigated)"
   ]
  },
  {
   "cell_type": "code",
   "execution_count": 51,
   "metadata": {},
   "outputs": [
    {
     "name": "stderr",
     "output_type": "stream",
     "text": [
      "C:\\tools\\Anaconda3\\envs\\Cyber Data analytics\\lib\\site-packages\\sklearn\\utils\\deprecation.py:144: FutureWarning: The sklearn.metrics.classification module is  deprecated in version 0.22 and will be removed in version 0.24. The corresponding classes / functions should instead be imported from sklearn.metrics. Anything that cannot be imported from sklearn.metrics is now part of the private API.\n",
      "  warnings.warn(message, FutureWarning)\n"
     ]
    },
    {
     "data": {
      "image/png": "[encoded data removed]",
      "text/plain": [
       "<Figure size 576x396 with 2 Axes>"
      ]
     },
     "metadata": {},
     "output_type": "display_data"
    },
    {
     "data": {
      "text/plain": [
       "<matplotlib.axes._subplots.AxesSubplot at 0x1ae48bff1c8>"
      ]
     },
     "execution_count": 51,
     "metadata": {},
     "output_type": "execute_result"
    }
   ],
   "source": [
    "#Apllying Elbow method to find optimal number of clusters\n",
    "val = data_no_background['TotPkts'].values\n",
    "from sklearn.cluster import KMeans\n",
    "from yellowbrick.cluster import KElbowVisualizer\n",
    "model=KElbowVisualizer(KMeans(),k=10)\n",
    "model.fit(val[...,np.newaxis])\n",
    "model.show()"
   ]
  },
  {
   "cell_type": "markdown",
   "metadata": {},
   "source": [
    "As the breakpoint is at cluster 4.Based on this we calculate the ordinal rank"
   ]
  },
  {
   "cell_type": "markdown",
   "metadata": {},
   "source": [
    "We disctretize the TotPkts feature,the Protocol feature is already discrete in nature. \n",
    "We add a new feature 'Discrete_TotPkts' which corresponds to the discretized TotPkts feature. \n",
    "Then we combine these two - Protocol and discretized TotPkts feature.\n",
    "For this step we make use of the algorithm mentioned in paper 4 (Learning Behavioral Fingerprints From NetflowsUsing Timed Automata)on page 311.\n",
    "We Then looked into the possible differences that could be exploited in the extracted codes."
   ]
  },
  {
   "cell_type": "code",
   "execution_count": 52,
   "metadata": {},
   "outputs": [],
   "source": [
    "def discretize(val, ranks):\n",
    "\n",
    "    ordinal_ranks = np.linspace(0, 1, ranks, endpoint=False) #based on ranks splitting to percentiles\n",
    "    ordinal_ind = np.ceil(ordinal_ranks[1:] * len(val)) #leave out 0 and calculate p/100*N and round it off,the ordinal ranks\n",
    "    ordinal_val = np.array(sorted(val))[ordinal_ind.astype(int)] #select the values at the percentiles for mapping\n",
    "    disc = []\n",
    "    for v in val:\n",
    "        for i in range(len(ordinal_val)): #i takes values 0,1,2\n",
    "            if v<=ordinal_val[i]:  #check val against all the ordinal boundary values\n",
    "                disc.append(i)\n",
    "                break\n",
    "            if i==len(ordinal_val)-1:  #if its not lesser than any boundary then it is put into the last category\n",
    "                disc.append(i+1)\n",
    "    return np.array(disc)  #this contains the discretized values of the feature\n",
    "\n",
    "\n",
    "def extract_code(values):\n",
    "    M = np.zeros(values.shape[1])\n",
    "    for j in range(values.shape[1]):\n",
    "        M[j] = len(np.unique(values[:,j])) #Pulls  out all rows and only jth column,M is an array consisting of no of unique value for each feature\n",
    "    spacesize = np.prod(M) #its the product of the no of values for each feature\n",
    "    code = np.zeros(values.shape[0], dtype=int)\n",
    "    for i in range(values.shape[0]):\n",
    "        s = spacesize\n",
    "        for j in range(values.shape[1]):\n",
    "            code[i] += values[i,j] * s/M[j]\n",
    "            s = s / M[j]\n",
    "    return code"
   ]
  },
  {
   "cell_type": "markdown",
   "metadata": {},
   "source": [
    "To visualize the difference we make use of the normal flow data from the first normal host and compare it to the infected host data."
   ]
  },
  {
   "cell_type": "code",
   "execution_count": 53,
   "metadata": {},
   "outputs": [
    {
     "name": "stderr",
     "output_type": "stream",
     "text": [
      "C:\\tools\\Anaconda3\\envs\\Cyber Data analytics\\lib\\site-packages\\ipykernel_launcher.py:2: SettingWithCopyWarning: \n",
      "A value is trying to be set on a copy of a slice from a DataFrame.\n",
      "Try using .loc[row_indexer,col_indexer] = value instead\n",
      "\n",
      "See the caveats in the documentation: https://pandas.pydata.org/pandas-docs/stable/user_guide/indexing.html#returning-a-view-versus-a-copy\n",
      "  \n"
     ]
    }
   ],
   "source": [
    "TotPkts_disc = discretize(val, 3)\n",
    "data_no_background['Discrete_TotPkts'] = TotPkts_disc\n",
    "\n",
    "feat = ['Proto', 'Discrete_TotPkts']\n",
    "\n",
    "infected_data = data_no_background[np.logical_or(data_no_background['SrcAddr']==infected_hosts[0], data_no_background['DstAddr']==infected_hosts[0])]\n",
    "infected_data = infected_data[feat].values #selects values of Proto and Discrete_Totpkts\n",
    "infected_code = extract_code(infected_data)\n",
    "\n",
    "clean_data = data_no_background[np.logical_or(data_no_background['SrcAddr']==normal_hosts[0], data_no_background['DstAddr']==normal_hosts[0])][feat].values\n",
    "test_code= extract_code(clean_data)"
   ]
  },
  {
   "cell_type": "code",
   "execution_count": 54,
   "metadata": {},
   "outputs": [
    {
     "data": {
      "text/plain": [
       "Text(0, 0.5, 'Extracted code')"
      ]
     },
     "execution_count": 54,
     "metadata": {},
     "output_type": "execute_result"
    },
    {
     "data": {
      "image/png": "[encoded data removed]",
      "text/plain": [
       "<Figure size 1440x720 with 1 Axes>"
      ]
     },
     "metadata": {},
     "output_type": "display_data"
    }
   ],
   "source": [
    "plt.figure(figsize=(20,10))\n",
    "plt.plot(infected_code, color='r', label='infected')\n",
    "plt.plot(test_code, color='g', label='clean')\n",
    "plt.legend()\n",
    "plt.xlabel(\"Index\")\n",
    "plt.ylabel(\"Extracted code\")"
   ]
  },
  {
   "cell_type": "markdown",
   "metadata": {},
   "source": [
    "<a id='1c'></a>"
   ]
  },
  {
   "cell_type": "markdown",
   "metadata": {},
   "source": [
    "### 1b. Answers and explanation\n",
    "Do you observe any behavior in the two features that could be useful for detecting the infection? Explain and visualize."
   ]
  },
  {
   "cell_type": "markdown",
   "metadata": {},
   "source": [
    "As seen in the above plots the infected data resulted in higher extracted code values, hence this could be used in classification of unseen data as infected or normal data. (This can further be used in task 5/6???)"
   ]
  },
  {
   "cell_type": "code",
   "execution_count": 11,
   "metadata": {},
   "outputs": [],
   "source": [
    "import zipfile\n",
    "archive = zipfile.ZipFile('dataset_lab3.zip', 'r')\n",
    "data = archive.read('dataset_10/capture20110818.binetflow')\n",
    "# archive.namelist()"
   ]
  },
  {
   "cell_type": "code",
   "execution_count": null,
   "metadata": {},
   "outputs": [],
   "source": []
  },
  {
   "cell_type": "code",
   "execution_count": null,
   "metadata": {},
   "outputs": [],
   "source": []
  },
  {
   "cell_type": "markdown",
   "metadata": {},
   "source": [
    "<a id='2'></a>"
   ]
  },
  {
   "cell_type": "markdown",
   "metadata": {},
   "source": [
    "## 2. Frequent task – 1/2 A4 (Individual)\n",
    "\n",
    "Use the SPACE SAVING algorithm to estimate the distribution over 3-grams of discretised symbols. \n",
    "\n",
    "\t1. Write code for the algorithm, use it to estimate the distribution in one pass (no need to actually stream the data, you may store it in memory, or run every file separately, but do store and load the intermediate results). \n",
    "\t2. Use a range of number of counters. (criteria: explanations for the number of used counters/bin)\n",
    "\t3. What are the 10 most frequent 3-grams and their frequencies when approximated? \n",
    "\t4. Use the theory to explain any approximation errors you observe. (criteria: The 3-gram count approximation is correct, and its quality is related to theory)"
   ]
  },
  {
   "cell_type": "markdown",
   "metadata": {},
   "source": [
    "<a id='2a'></a>"
   ]
  },
  {
   "cell_type": "markdown",
   "metadata": {},
   "source": [
    "### 2a. Use the SPACE SAVING algorithm\n",
    "\n",
    "    1. Write code for the algorithm, use it to estimate the distribution in one pass (no need to actually stream the data, you may store it in memory, or run every file separately, but do store and load the intermediate results). \n",
    "\t2. Use a range of number of counters. (criteria: explanations for the number of used counters/bin)"
   ]
  },
  {
   "cell_type": "code",
   "execution_count": null,
   "metadata": {},
   "outputs": [],
   "source": []
  },
  {
   "cell_type": "markdown",
   "metadata": {},
   "source": [
    "<a id='2b'></a>"
   ]
  },
  {
   "cell_type": "markdown",
   "metadata": {},
   "source": [
    "### 2b. Analysis and answers to the questions\n",
    "\n",
    "    3. What are the 10 most frequent 3-grams and their frequencies when approximated? \n",
    "\t4. Use the theory to explain any approximation errors you observe. (criteria: The 3-gram count approximation is correct, and its quality is related to theory)\n"
   ]
  },
  {
   "cell_type": "code",
   "execution_count": null,
   "metadata": {},
   "outputs": [],
   "source": []
  },
  {
   "cell_type": "markdown",
   "metadata": {},
   "source": [
    "<a id='3'></a>"
   ]
  },
  {
   "cell_type": "markdown",
   "metadata": {},
   "source": [
    "## 3. Sketching task – 1/2 A4 (Individual)\n",
    "Build code for computing a COUNT-MIN sketch to estimate occurrence counts for the 3-grams. Make sure the hash functions are pairwise independent. \n",
    "\n",
    "\t1. Estimate the distribution in one pass (no need to actually stream the data, you may store it in memory, or run every file separately, but do store and load the intermediate results). \n",
    "\t2.\tPlay with different heights and widths for the COUNT-MIN sketch matrix. (criteria: explanations for the number of used counters/bin) \n",
    "\t3.\tWhat are the 10 most frequent 3-gramsand their frequencies when approximated? \n",
    "\t4.\tUse the theory to explain any approximation errors you observe. (criteria: The 3-gram count approximation is correct, and its quality is related to theory)\n"
   ]
  },
  {
   "cell_type": "markdown",
   "metadata": {},
   "source": [
    "<a id='3a'></a>"
   ]
  },
  {
   "cell_type": "markdown",
   "metadata": {},
   "source": [
    "### 3a. COUNT-MIN sketch\n",
    "\n",
    "    1. Estimate the distribution in one pass (no need to actually stream the data, you may store it in memory, or run every file separately, but do store and load the intermediate results). \n",
    "\t2.\tPlay with different heights and widths for the COUNT-MIN sketch matrix. (criteria: explanations for the number of used counters/bin) "
   ]
  },
  {
   "cell_type": "code",
   "execution_count": null,
   "metadata": {},
   "outputs": [],
   "source": []
  },
  {
   "cell_type": "markdown",
   "metadata": {},
   "source": [
    "<a id='3b'></a>"
   ]
  },
  {
   "cell_type": "markdown",
   "metadata": {},
   "source": [
    "### 3b. Analysis and answers to the questions\n",
    "\n",
    "    3.\tWhat are the 10 most frequent 3-grams and their frequencies when approximated? \n",
    "\t4.\tUse the theory to explain any approximation errors you observe. (criteria: The 3-gram count approximation is correct, and its quality is related to theory)\n"
   ]
  },
  {
   "cell_type": "code",
   "execution_count": null,
   "metadata": {},
   "outputs": [],
   "source": []
  },
  {
   "cell_type": "markdown",
   "metadata": {},
   "source": [
    "<a id='4'></a>"
   ]
  },
  {
   "cell_type": "markdown",
   "metadata": {},
   "source": [
    "## 4. Min-wise locality sensitive hashing task – 1/2 A4 (Individual)\n",
    "\n",
    "Implement min-wise locality sensitive hashing as explained in the slides and the documents on Brightspace. This can be used to quickly compute the Jaccard distance for N-gram profiles. \n",
    "\n",
    "\t1.\tUse the discretization from task 1, build 3-gram profiles for every individual connection (pair of IP-addresses). \n",
    "\t2.\tFor this task, the profiles are binary, an N-gram (subsequence) exists (a 1 in the table) or does not (a 0 in the table). \n",
    "\t3.\tUse min-wise LSH to map the 3-gram profiles to a small set of bins of your choice. (Criteria: The number of bins is set sensibly)\n",
    "\t4.\tCompare the run-time of a pair-wise distance computation with one that only considers profiles that end in the same bin. \n",
    "\t5.\tExplain any differences you observe. (criteria: The resulting comparison explains differences in run-time and quality.)"
   ]
  },
  {
   "cell_type": "markdown",
   "metadata": {},
   "source": [
    "<a id='4a'></a>"
   ]
  },
  {
   "cell_type": "markdown",
   "metadata": {},
   "source": [
    "### 4a. Implementation\n",
    "    1.\tUse the discretization from task 1, build 3-gram profiles for every individual connection (pair of IP-addresses). \n",
    "\t2.\tFor this task, the profiles are binary, an N-gram (subsequence) exists (a 1 in the table) or does not (a 0 in the table). \n",
    "\t3.\tUse min-wise LSH to map the 3-gram profiles to a small set of bins of your choice. (Criteria: The number of bins is set sensibly)"
   ]
  },
  {
   "cell_type": "code",
   "execution_count": null,
   "metadata": {},
   "outputs": [],
   "source": []
  },
  {
   "cell_type": "markdown",
   "metadata": {},
   "source": [
    "<a id='4b'></a>"
   ]
  },
  {
   "cell_type": "markdown",
   "metadata": {},
   "source": [
    "### 4b. Analysis and answers to the questions\n",
    "    \n",
    "    4.\tCompare the run-time of a pair-wise distance computation with one that only considers profiles that end in the same bin. \n",
    "\t5.\tExplain any differences you observe. (criteria: The resulting comparison explains differences in run-time and quality.)"
   ]
  },
  {
   "cell_type": "code",
   "execution_count": null,
   "metadata": {},
   "outputs": [],
   "source": []
  },
  {
   "cell_type": "markdown",
   "metadata": {},
   "source": [
    "<a id='5'></a>"
   ]
  },
  {
   "cell_type": "markdown",
   "metadata": {},
   "source": [
    "## 5. Random hyperplane locality sensitive hashing task – 1/2 A4 (Individual)\n",
    "\n",
    "Implement locality sensitive hashing using random hyperplanes as explained in the slides and the documents on Brightspace. This can be used to quickly compute Euclidean distance for N-gram profiles.\n",
    "\n",
    "\t1.\tUse the discretization from task 1, build 3-gram profilesfor every individual connection (pair of IP-addresses). \n",
    "\t2.\tFor this task, the profiles are countsfor every possible 3-gram (subsequence).\n",
    "\t3.\tUse random hyperplanes LSH to map the N-gram profiles to a small set of bins of your choice. \n",
    "\t4.\tCompare the run-time of a pair-wise distance computation with one that only considers profiles that end in the same bin. (criteria: The number of bins is set sensibly)\n",
    "\t5.\tExplain any differences you observe. (criteria: The resulting comparison explains differences in run-time and quality.)\n"
   ]
  },
  {
   "cell_type": "markdown",
   "metadata": {},
   "source": [
    "<a id='5a'></a>"
   ]
  },
  {
   "cell_type": "markdown",
   "metadata": {},
   "source": [
    "### 5a. Implementation - locality sensitive hashing\n",
    "\n",
    "    1.\tUse the discretization from task 1, build 3-gram profilesfor every individual connection (pair of IP-addresses). \n",
    "\t2.\tFor this task, the profiles are countsfor every possible 3-gram (subsequence).\n",
    "\t3.\tUse random hyperplanes LSH to map the N-gram profiles to a small set of bins of your choice. "
   ]
  },
  {
   "cell_type": "code",
   "execution_count": null,
   "metadata": {},
   "outputs": [],
   "source": []
  },
  {
   "cell_type": "markdown",
   "metadata": {},
   "source": [
    "<a id='5b'></a>"
   ]
  },
  {
   "cell_type": "markdown",
   "metadata": {},
   "source": [
    "### 5b. Analysis and answers to the questions. Also provide relevant plots.\n",
    "\n",
    "    4.\tCompare the run-time of a pair-wise distance computation with one that only considers profiles that end in the same bin. (criteria: The number of bins is set sensibly)\n",
    "\t5.\tExplain any differences you observe. (criteria: The resulting comparison explains differences in run-time and quality.)"
   ]
  },
  {
   "cell_type": "code",
   "execution_count": null,
   "metadata": {},
   "outputs": [],
   "source": []
  },
  {
   "cell_type": "markdown",
   "metadata": {},
   "source": [
    "<a id='6'></a>"
   ]
  },
  {
   "cell_type": "markdown",
   "metadata": {},
   "source": [
    "## 6.Botnet profiling task – 1/2 A4\n",
    "\n",
    "    1.\tUse a sliding window to obtain sequence data for every host in all scenarios considered in paper 4 (with multiple infected hosts), with a length of your choice. (criteria: Advanced sequential model learning is used correctly, one for each host.)\n",
    "\t2.\tLearn an n-gram model from the data of one infected host and match its profile (e.g., n-grams using cosine distance, or probabilities using KL-divergence) with all other hosts from the same scenario. \n",
    "\t3.\tEvaluate how many new infections your method finds and false positives it raises (as in paper 4) (criteria: Profile matching and evaluation are correct)\n"
   ]
  },
  {
   "cell_type": "markdown",
   "metadata": {},
   "source": [
    "<a id='6a'></a>"
   ]
  },
  {
   "cell_type": "markdown",
   "metadata": {},
   "source": [
    "### 6a. Learn a sequential model\n",
    "\n",
    "    1.\tUse a sliding window to obtain sequence data for every host in all scenarios considered in paper 4 (with multiple infected hosts), with a length of your choice. (criteria: Advanced sequential model learning is used correctly, one for each host.)\n",
    "\t2.\tLearn an n-gram model from the data of one infected host and match its profile (e.g., n-grams using cosine distance, or probabilities using KL-divergence) with all other hosts from the same scenario. "
   ]
  },
  {
   "cell_type": "code",
   "execution_count": null,
   "metadata": {},
   "outputs": [],
   "source": []
  },
  {
   "cell_type": "markdown",
   "metadata": {},
   "source": [
    "<a id='6b'></a>"
   ]
  },
  {
   "cell_type": "markdown",
   "metadata": {},
   "source": [
    "### 6b. Analysis and answers to the questions.\n",
    "\n",
    "    3.\tEvaluate how many new infections your method finds and false positives it raises (as in paper 4) (criteria: Profile matching and evaluation are correct)\n"
   ]
  },
  {
   "cell_type": "code",
   "execution_count": null,
   "metadata": {},
   "outputs": [],
   "source": []
  },
  {
   "cell_type": "markdown",
   "metadata": {},
   "source": [
    "<a id='7'></a>"
   ]
  },
  {
   "cell_type": "markdown",
   "metadata": {},
   "source": [
    "## 7.Botnet fingerprinting task – 1/2 A4\n",
    "\n",
    "    1.\tUse the obtained botnet profiles for fingerprinting, i.e., look for the occurrence of an n-gram that does not occur in any benign traffic. \n",
    "\t2.\tWhenever this subsequence occurs, you raise an alarm. \n",
    "\t3.\tEvaluate how many new infections your method finds and false positives it raises (as in paper 4).\n",
    "\t4.\tCompare it to profiling and explain the results. (criteria:Fingerprinting is correctly applied. Comparison to profiling is sound and considers both run-time and the kinds of behaviors that can be detected)"
   ]
  },
  {
   "cell_type": "markdown",
   "metadata": {},
   "source": [
    "<a id='7a'></a>"
   ]
  },
  {
   "cell_type": "markdown",
   "metadata": {},
   "source": [
    "### 7a. Fingerprinting\n",
    "\n",
    "    1.\tUse the obtained botnet profiles for fingerprinting, i.e., look for the occurrence of an n-gram that does not occur in any benign traffic. \n",
    "\t2.\tWhenever this subsequence occurs, you raise an alarm. \n"
   ]
  },
  {
   "cell_type": "code",
   "execution_count": null,
   "metadata": {},
   "outputs": [],
   "source": []
  },
  {
   "cell_type": "markdown",
   "metadata": {},
   "source": [
    "<a id='7b'></a>"
   ]
  },
  {
   "cell_type": "markdown",
   "metadata": {},
   "source": [
    "### 7b. Analysis and answers to the questions.\n",
    "\t3.\tEvaluate how many new infections your method finds and false positives it raises (as in paper 4).\n",
    "\t4.\tCompare it to profiling and explain the results. (criteria:Fingerprinting is correctly applied. Comparison to profiling is sound and considers both run-time and the kinds of behaviors that can be detected)"
   ]
  },
  {
   "cell_type": "code",
   "execution_count": null,
   "metadata": {},
   "outputs": [],
   "source": []
  },
  {
   "cell_type": "markdown",
   "metadata": {},
   "source": [
    "<a id='8'></a>"
   ]
  },
  {
   "cell_type": "markdown",
   "metadata": {},
   "source": [
    "## 8. Bonus Task 1/2 A4"
   ]
  },
  {
   "cell_type": "markdown",
   "metadata": {},
   "source": [
    "### 8a. Provide implementation and analysis."
   ]
  },
  {
   "cell_type": "code",
   "execution_count": null,
   "metadata": {},
   "outputs": [],
   "source": []
  }
 ],
 "metadata": {
  "kernelspec": {
   "display_name": "Python 3",
   "language": "python",
   "name": "python3"
  },
  "language_info": {
   "codemirror_mode": {
    "name": "ipython",
    "version": 3
   },
   "file_extension": ".py",
   "mimetype": "text/x-python",
   "name": "python",
   "nbconvert_exporter": "python",
   "pygments_lexer": "ipython3",
   "version": "3.7.7"
  }
 },
 "nbformat": 4,
 "nbformat_minor": 2
}
