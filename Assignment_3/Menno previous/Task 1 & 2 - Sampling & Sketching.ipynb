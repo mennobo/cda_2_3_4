{
 "cells": [
  {
   "cell_type": "code",
   "execution_count": 16,
   "metadata": {},
   "outputs": [],
   "source": [
    "import pandas as pd\n",
    "import random\n",
    "from collections import Counter \n",
    "import operator\n",
    "import math\n",
    "import mmh3\n",
    "import numpy as np\n",
    "import time\n",
    "import matplotlib.pylab as plt\n",
    "plt.style.use('Solarize_Light2')\n",
    "import sys\n",
    "from functools import reduce\n",
    "%matplotlib inline"
   ]
  },
  {
   "cell_type": "code",
   "execution_count": 17,
   "metadata": {},
   "outputs": [],
   "source": [
    "# Select the dataset\n",
    "data_file = 'capture20110817.pcap.netflow.labeled' # dataset 50, scenario 9"
   ]
  },
  {
   "cell_type": "code",
   "execution_count": null,
   "metadata": {
    "scrolled": false
   },
   "outputs": [],
   "source": [
    "infected_host = '147.32.84.165'\n",
    "columns=['Date','Duration','Protocol','SrcIP', 'srcPort','DstIP', 'DstPort', 'Flags', 'TOS', 'Packets', 'Bytes', 'Label']\n",
    "lst=[]\n",
    "with open(data_file) as fp:\n",
    "    for cnt, line in enumerate(fp):\n",
    "        if cnt!=0:\n",
    "            data=line.strip().split(\"\\t\")\n",
    "            data = list(filter(None, data)) \n",
    "            date = data[0]\n",
    "            duration = data[1]\n",
    "            protocol = data[2]\n",
    "            src = data[3].split(':')\n",
    "            if len(src) < 2: # Set port to 0 if no port provided\n",
    "                src.append(0)\n",
    "            dst = data[5].split(':')\n",
    "            if len(dst) < 2:\n",
    "                dst.append(0)\n",
    "            if (src[0] != infected_host and dst[0] != infected_host):\n",
    "                continue  # skip rows that are not about the infected host to save memory\n",
    "            flags = data[6]\n",
    "            tos = data[7]\n",
    "            packets = data[8]\n",
    "            byteno = data[9]\n",
    "            flows = data[10]\n",
    "            label = data[11].rstrip()\n",
    "            lst.append([date, duration, protocol, src[0], src[1], dst[0], dst[1], flags, tos, packets, byteno, label])\n",
    "df=pd.DataFrame(lst, columns=columns)\n",
    "df.head()\n",
    "\n",
    "del lst\n",
    "df_infected = df"
   ]
  },
  {
   "cell_type": "code",
   "execution_count": 4,
   "metadata": {},
   "outputs": [],
   "source": [
    "df_infected.to_pickle(data_file + '_pickled.pkl')"
   ]
  },
  {
   "cell_type": "code",
   "execution_count": 19,
   "metadata": {},
   "outputs": [],
   "source": [
    "df_infected = pd.read_pickle(data_file + '_pickled.pkl')"
   ]
  },
  {
   "cell_type": "code",
   "execution_count": 20,
   "metadata": {},
   "outputs": [],
   "source": [
    "# Count connections\n",
    "ip_map = {}\n",
    "ip_list = []\n",
    "for index, row in df_infected.iterrows():\n",
    "    if row[\"SrcIP\"] == infected_host:\n",
    "        ip_map.setdefault(row[\"DstIP\"],0)\n",
    "        ip_map[row[\"DstIP\"]] += 1\n",
    "        ip_list.append(row[\"DstIP\"])\n",
    "    else:\n",
    "        ip_map.setdefault(row[\"SrcIP\"],0)\n",
    "        ip_map[row[\"SrcIP\"]] += 1\n",
    "        ip_list.append(row[\"SrcIP\"])\n",
    "        "
   ]
  },
  {
   "cell_type": "code",
   "execution_count": 21,
   "metadata": {},
   "outputs": [
    {
     "name": "stdout",
     "output_type": "stream",
     "text": [
      "[('147.32.80.9', 30533), ('212.117.171.138', 1851), ('188.72.241.107', 1203), ('173.192.170.88', 857), ('204.12.208.59', 493), ('195.190.13.78', 477), ('74.125.39.27', 314), ('209.190.94.170', 310), ('83.133.119.197', 212), ('65.54.188.72', 183)]\n"
     ]
    },
    {
     "data": {
      "text/plain": [
       "48186"
      ]
     },
     "execution_count": 21,
     "metadata": {},
     "output_type": "execute_result"
    }
   ],
   "source": [
    "# Show the 10 most frequestly connecting IPs \n",
    "print(Counter(ip_map).most_common(10))\n",
    "assert len(df_infected) == sum(Counter(ip_map).values())\n",
    "len(df_infected)"
   ]
  },
  {
   "cell_type": "code",
   "execution_count": 22,
   "metadata": {},
   "outputs": [
    {
     "name": "stdout",
     "output_type": "stream",
     "text": [
      "147.32.80.9 : 63.364877765326035%\n",
      "212.117.171.138 : 3.841364711742%\n",
      "188.72.241.107 : 2.49657576889553%\n",
      "173.192.170.88 : 1.7785248827460256%\n",
      "204.12.208.59 : 1.0231187481841197%\n",
      "195.190.13.78 : 0.9899140829286515%\n",
      "74.125.39.27 : 0.6516415556385672%\n",
      "209.190.94.170 : 0.6433403893247002%\n",
      "83.133.119.197 : 0.4399618146349562%\n",
      "65.54.188.72 : 0.37977835885941974%\n"
     ]
    }
   ],
   "source": [
    "# Calculate the exact fequencies\n",
    "most_freq_ips = Counter(ip_map).most_common(10)\n",
    "for ip in Counter(ip_map).most_common(10):\n",
    "    print(f\"{ip[0]} : {(ip[1] / len(df_infected) * 100)}%\")\n"
   ]
  },
  {
   "cell_type": "code",
   "execution_count": 23,
   "metadata": {},
   "outputs": [],
   "source": [
    "def selectKItems(stream, n, k): \n",
    "    i=0\n",
    "    reservoir = [0]*k\n",
    "    for i in range(k): \n",
    "        if (df_infected.iloc[i, :][\"DstIP\"] == infected_host):\n",
    "            reservoir[i] = df_infected.iloc[i, :][\"SrcIP\"]\n",
    "        else:\n",
    "            reservoir[i] = df_infected.iloc[i, :][\"DstIP\"]\n",
    "\n",
    "    while(i < n): \n",
    "        j = random.randrange(i+1)\n",
    "        \n",
    "        if(j < k): \n",
    "            if (df_infected.iloc[i, :][\"DstIP\"] == infected_host):\n",
    "                reservoir[j] = df_infected.iloc[i, :][\"SrcIP\"]\n",
    "            else:\n",
    "                reservoir[j] = df_infected.iloc[i, :][\"DstIP\"]\n",
    "        i+=1\n",
    "    \n",
    "    return reservoir"
   ]
  },
  {
   "cell_type": "code",
   "execution_count": 24,
   "metadata": {},
   "outputs": [
    {
     "name": "stdout",
     "output_type": "stream",
     "text": [
      "\n",
      "\n",
      "Reservoir size = 100\n",
      "147.32.80.9 & 72 & 72.0\\% \\\\ \\hline\n",
      "212.117.171.138 & 7 & 7.000000000000001\\% \\\\ \\hline\n",
      "173.192.170.88 & 3 & 3.0\\% \\\\ \\hline\n",
      "74.125.39.27 & 2 & 2.0\\% \\\\ \\hline\n",
      "209.190.94.170 & 1 & 1.0\\% \\\\ \\hline\n",
      "205.188.190.2 & 1 & 1.0\\% \\\\ \\hline\n",
      "62.78.41.160 & 1 & 1.0\\% \\\\ \\hline\n",
      "168.61.70.72 & 1 & 1.0\\% \\\\ \\hline\n",
      "206.46.232.39 & 1 & 1.0\\% \\\\ \\hline\n",
      "65.54.188.94 & 1 & 1.0\\% \\\\ \\hline\n",
      "Memory used for reservoir: 6069 bytes\n",
      "\n",
      "\n",
      "Reservoir size = 250\n",
      "147.32.80.9 & 162 & 64.8\\% \\\\ \\hline\n",
      "212.117.171.138 & 13 & 5.2\\% \\\\ \\hline\n",
      "65.54.188.72 & 5 & 2.0\\% \\\\ \\hline\n",
      "188.72.241.107 & 4 & 1.6\\% \\\\ \\hline\n",
      "173.192.170.88 & 3 & 1.2\\% \\\\ \\hline\n",
      "195.190.13.78 & 2 & 0.8\\% \\\\ \\hline\n",
      "204.12.208.59 & 2 & 0.8\\% \\\\ \\hline\n",
      "74.125.39.27 & 2 & 0.8\\% \\\\ \\hline\n",
      "74.117.116.126 & 2 & 0.8\\% \\\\ \\hline\n",
      "98.139.54.60 & 2 & 0.8\\% \\\\ \\hline\n",
      "Memory used for reservoir: 15197 bytes\n",
      "\n",
      "\n",
      "Reservoir size = 500\n",
      "147.32.80.9 & 328 & 65.60000000000001\\% \\\\ \\hline\n",
      "212.117.171.138 & 16 & 3.2\\% \\\\ \\hline\n",
      "188.72.241.107 & 12 & 2.4\\% \\\\ \\hline\n",
      "173.192.170.88 & 7 & 1.4000000000000001\\% \\\\ \\hline\n",
      "204.12.208.59 & 6 & 1.2\\% \\\\ \\hline\n",
      "74.125.39.27 & 5 & 1.0\\% \\\\ \\hline\n",
      "209.190.94.170 & 5 & 1.0\\% \\\\ \\hline\n",
      "65.55.37.72 & 3 & 0.6\\% \\\\ \\hline\n",
      "195.190.13.78 & 3 & 0.6\\% \\\\ \\hline\n",
      "83.133.119.197 & 3 & 0.6\\% \\\\ \\hline\n",
      "Memory used for reservoir: 30381 bytes\n",
      "\n",
      "\n",
      "Reservoir size = 1000\n",
      "147.32.80.9 & 635 & 63.5\\% \\\\ \\hline\n",
      "212.117.171.138 & 35 & 3.5000000000000004\\% \\\\ \\hline\n",
      "188.72.241.107 & 23 & 2.3\\% \\\\ \\hline\n",
      "173.192.170.88 & 21 & 2.1\\% \\\\ \\hline\n",
      "204.12.208.59 & 17 & 1.7000000000000002\\% \\\\ \\hline\n",
      "195.190.13.78 & 10 & 1.0\\% \\\\ \\hline\n",
      "83.133.119.197 & 8 & 0.8\\% \\\\ \\hline\n",
      "65.55.37.72 & 7 & 0.7000000000000001\\% \\\\ \\hline\n",
      "209.190.94.170 & 6 & 0.6\\% \\\\ \\hline\n",
      "74.125.232.217 & 5 & 0.5\\% \\\\ \\hline\n",
      "Memory used for reservoir: 60807 bytes\n",
      "\n",
      "\n",
      "Reservoir size = 5000\n",
      "147.32.80.9 & 3137 & 62.739999999999995\\% \\\\ \\hline\n",
      "212.117.171.138 & 194 & 3.88\\% \\\\ \\hline\n",
      "188.72.241.107 & 139 & 2.78\\% \\\\ \\hline\n",
      "173.192.170.88 & 86 & 1.72\\% \\\\ \\hline\n",
      "195.190.13.78 & 50 & 1.0\\% \\\\ \\hline\n",
      "204.12.208.59 & 47 & 0.9400000000000001\\% \\\\ \\hline\n",
      "209.190.94.170 & 39 & 0.7799999999999999\\% \\\\ \\hline\n",
      "74.125.39.27 & 34 & 0.6799999999999999\\% \\\\ \\hline\n",
      "83.133.119.197 & 21 & 0.42\\% \\\\ \\hline\n",
      "65.55.37.72 & 19 & 0.38\\% \\\\ \\hline\n",
      "Memory used for reservoir: 304119 bytes\n",
      "\n",
      "\n",
      "Reservoir size = 10000\n",
      "147.32.80.9 & 6331 & 63.31\\% \\\\ \\hline\n",
      "212.117.171.138 & 403 & 4.03\\% \\\\ \\hline\n",
      "188.72.241.107 & 252 & 2.52\\% \\\\ \\hline\n",
      "173.192.170.88 & 191 & 1.91\\% \\\\ \\hline\n",
      "204.12.208.59 & 107 & 1.0699999999999998\\% \\\\ \\hline\n",
      "195.190.13.78 & 100 & 1.0\\% \\\\ \\hline\n",
      "74.125.39.27 & 62 & 0.62\\% \\\\ \\hline\n",
      "209.190.94.170 & 58 & 0.58\\% \\\\ \\hline\n",
      "83.133.119.197 & 49 & 0.49\\% \\\\ \\hline\n",
      "65.54.188.72 & 48 & 0.48\\% \\\\ \\hline\n",
      "Memory used for reservoir: 608106 bytes\n",
      "\n",
      "\n",
      "Reservoir size = 25000\n",
      "147.32.80.9 & 15785 & 63.13999999999999\\% \\\\ \\hline\n",
      "212.117.171.138 & 969 & 3.8760000000000003\\% \\\\ \\hline\n",
      "188.72.241.107 & 634 & 2.536\\% \\\\ \\hline\n",
      "173.192.170.88 & 469 & 1.876\\% \\\\ \\hline\n",
      "195.190.13.78 & 248 & 0.992\\% \\\\ \\hline\n",
      "204.12.208.59 & 247 & 0.988\\% \\\\ \\hline\n",
      "74.125.39.27 & 177 & 0.7080000000000001\\% \\\\ \\hline\n",
      "209.190.94.170 & 165 & 0.66\\% \\\\ \\hline\n",
      "83.133.119.197 & 120 & 0.48\\% \\\\ \\hline\n",
      "65.54.188.72 & 94 & 0.376\\% \\\\ \\hline\n",
      "Memory used for reservoir: 1520380 bytes\n",
      "\n",
      "\n",
      "Reservoir size = 48186\n",
      "147.32.80.9 & 30532 & 63.36280247374756\\% \\\\ \\hline\n",
      "212.117.171.138 & 1851 & 3.841364711742\\% \\\\ \\hline\n",
      "188.72.241.107 & 1203 & 2.49657576889553\\% \\\\ \\hline\n",
      "173.192.170.88 & 857 & 1.7785248827460256\\% \\\\ \\hline\n",
      "204.12.208.59 & 494 & 1.0251940397625865\\% \\\\ \\hline\n",
      "195.190.13.78 & 477 & 0.9899140829286515\\% \\\\ \\hline\n",
      "74.125.39.27 & 314 & 0.6516415556385672\\% \\\\ \\hline\n",
      "209.190.94.170 & 310 & 0.6433403893247002\\% \\\\ \\hline\n",
      "83.133.119.197 & 212 & 0.4399618146349562\\% \\\\ \\hline\n",
      "65.54.188.72 & 183 & 0.37977835885941974\\% \\\\ \\hline\n",
      "Memory used for reservoir: 2929962 bytes\n"
     ]
    }
   ],
   "source": [
    "reservoirSizes = [100, 250, 500, 1000, 5000, 10000, 25000, len(df_infected)]\n",
    "mem_reservoir = {}\n",
    "for reservoir in reservoirSizes:\n",
    "    print(f\"\\n\\nReservoir size = {reservoir}\")\n",
    "    kfreqIPS = selectKItems(df_infected, len(df_infected), reservoir)\n",
    "    memsize = reduce((lambda acc, y: acc + sys.getsizeof(y)), kfreqIPS, 0)\n",
    "    for ip in Counter(kfreqIPS).most_common(10):\n",
    "        print(f\"{ip[0]} & {ip[1]} & {(ip[1] / len(kfreqIPS) * 100)}\\\\% \\\\\\\\ \\\\hline\")\n",
    "    \n",
    "    mem_reservoir[reservoir] = memsize\n",
    "    print(f\"Memory used for reservoir: {memsize} bytes\")\n",
    "    \n",
    "    \n",
    "print(\"measuring runtimes\")\n",
    "reservoirs = range(100,40000, 500)\n",
    "time_reservoir = []\n",
    "for reservoir in reservoirs:\n",
    "    print(f\"Reservoir size = {reservoir}\")\n",
    "    starttime = time.time()\n",
    "    kfreqIPS = selectKItems(df_infected, len(df_infected), reservoir)\n",
    "    time_reservoir.append(time.time() - starttime)\n",
    "    print(f\"time taken: {time_reservoir[-1]}\")\n",
    "    "
   ]
  },
  {
   "cell_type": "code",
   "execution_count": 25,
   "metadata": {},
   "outputs": [
    {
     "data": {
      "image/png": "[encoded data removed]",
      "text/plain": [
       "<Figure size 720x432 with 1 Axes>"
      ]
     },
     "metadata": {
      "needs_background": "light"
     },
     "output_type": "display_data"
    },
    {
     "data": {
      "image/png": "[encoded data removed]",
      "text/plain": [
       "<Figure size 720x432 with 1 Axes>"
      ]
     },
     "metadata": {
      "needs_background": "light"
     },
     "output_type": "display_data"
    }
   ],
   "source": [
    "lists = sorted(mem_reservoir.items()) # sorted by key, return a list of tuples\n",
    "# Memory plot\n",
    "x, y = zip(*lists) # unpack a list of pairs into two tuples\n",
    "y = [n/1024 for n in y]\n",
    "plt.figure(figsize=(10,6))\n",
    "plt.plot(x, y, marker='o')\n",
    "plt.xlabel(\"Reservoir size\")\n",
    "plt.ylabel(\"Memory used (kilobytes)\")\n",
    "plt.savefig('memory_reservoir.png')\n",
    "plt.show()\n",
    "\n",
    "# Runtimes plot\n",
    "plt.figure(figsize=(10,6))\n",
    "plt.plot(range(100,40000, 500), time_reservoir, marker='o')\n",
    "plt.xlabel(\"Reservoir size\")\n",
    "plt.ylabel(\"Time taken (sec)\")\n",
    "plt.savefig('time_reservoir.png')\n",
    "plt.show()\n"
   ]
  },
  {
   "cell_type": "markdown",
   "metadata": {},
   "source": [
    "# COUNT-MIN sketch\n"
   ]
  },
  {
   "cell_type": "code",
   "execution_count": 26,
   "metadata": {},
   "outputs": [],
   "source": [
    "class CountMinSketch:\n",
    "    def __init__(self, width, length):\n",
    "        self.size = width*length\n",
    "        self.width = width\n",
    "        self.hash_count = length\n",
    "        self.sketch =  np.zeros(shape=(length, width))\n",
    "        \n",
    "    def add(self, string):\n",
    "        for seed in range(self.hash_count):\n",
    "            result = mmh3.hash(string, seed) % self.width\n",
    "            self.sketch[seed][result] += 1\n",
    "        \n",
    "    def find_freq(self, string):\n",
    "        values = []\n",
    "        for seed in range(self.hash_count):\n",
    "            result = mmh3.hash(string, seed) % self.width\n",
    "            values.append(self.sketch[seed][result])\n",
    "        return min(values)"
   ]
  },
  {
   "cell_type": "code",
   "execution_count": 27,
   "metadata": {},
   "outputs": [
    {
     "name": "stdout",
     "output_type": "stream",
     "text": [
      "Sketch width: 4 , 8 , 16, 32 , 64 , 128 , 256 , 512 , 1024 , 2048 , 4096\n",
      "hash num: 12 & 4.40%, 59.79%, 82.70%, 93.50%, 97.52%, 99.08%, 99.71%, 99.91%, 99.99%, 100.00%, 100.00%, \n",
      "hash num: 11 & -0.33%, 57.79%, 82.43%, 93.31%, 97.32%, 98.93%, 99.68%, 99.88%, 99.99%, 100.00%, 100.00%, \n",
      "hash num: 10 & -2.34%, 57.35%, 81.96%, 93.14%, 97.15%, 98.82%, 99.67%, 99.88%, 99.99%, 100.00%, 100.00%, \n",
      "hash num: 9 & -15.93%, 55.11%, 81.90%, 92.87%, 97.02%, 98.82%, 99.67%, 99.88%, 99.99%, 100.00%, 100.00%, \n",
      "hash num: 8 & -21.05%, 48.20%, 81.44%, 92.41%, 97.02%, 98.81%, 99.59%, 99.88%, 99.99%, 100.00%, 100.00%, \n",
      "hash num: 7 & -30.93%, 36.88%, 80.44%, 91.90%, 96.85%, 98.81%, 99.59%, 99.87%, 99.97%, 99.99%, 100.00%, \n",
      "hash num: 6 & -31.21%, 34.53%, 77.20%, 91.35%, 96.78%, 98.81%, 99.58%, 99.87%, 99.97%, 99.99%, 100.00%, \n",
      "hash num: 5 & -114.09%, 25.54%, 73.05%, 88.61%, 96.22%, 98.70%, 99.47%, 99.85%, 99.96%, 99.99%, 100.00%, \n",
      "hash num: 4 & -778.15%, -215.17%, 67.39%, 85.30%, 95.42%, 98.70%, 99.44%, 99.85%, 99.96%, 99.99%, 100.00%, \n",
      "hash num: 3 & -778.15%, -447.37%, 54.25%, 77.64%, 93.45%, 98.56%, 99.39%, 99.84%, 99.94%, 99.98%, 99.99%, \n",
      "hash num: 2 & -790.61%, -675.47%, -656.53%, -18.38%, 81.71%, 90.59%, 97.26%, 98.60%, 99.93%, 99.98%, 99.99%, \n",
      "hash num: 1 & -795.99%, -682.91%, -667.54%, -648.32%, -644.65%, -641.11%, -481.25%, -166.33%, -3.31%, 87.88%, 95.11%, \n"
     ]
    }
   ],
   "source": [
    "ips = list(ip_map.keys())\n",
    "top_ten_total = sum(sorted(Counter(ip_map).values(), reverse=True)[:10])\n",
    "run_times = {}\n",
    "\n",
    "print(\"Sketch width: 4 , 8 , 16, 32 , 64 , 128 , 256 , 512 , 1024 , 2048 , 4096\")\n",
    "for l in list(reversed([1, 2, 3, 4, 5, 6, 7, 8, 9, 10, 11, 12])):\n",
    "    print(f\"hash num: {l} & \", end=\"\")\n",
    "    tmp_runtimes = []\n",
    "    for w in [4, 8, 16, 32, 64, 128, 256, 512, 1024, 2048, 4096]:\n",
    "        start_time = time.time()\n",
    "        count_min_matrix = CountMinSketch(int(w), int(l))\n",
    "\n",
    "        for ip in ip_list:\n",
    "                count_min_matrix.add(ip)\n",
    "                \n",
    "        # find frequencies\n",
    "        count_min = {}\n",
    "        for ip in ips:\n",
    "            count_min[ip] = count_min_matrix.find_freq(ip)\n",
    "        \n",
    "        tmp_runtimes.append(time.time() - start_time)\n",
    "        # sort with most frequent on top\n",
    "        sorted_count_min = sorted(count_min.items(), key=lambda kv: kv[1], reverse = True)\n",
    "        difference_w_ground = 0\n",
    "        for i in range(10):\n",
    "            #find the difference between the count min and the ground truth for top 10\n",
    "            difference_w_ground+= abs(sorted_count_min[i][1] - most_freq_ips[i][1])\n",
    "        accuracy = 100-(difference_w_ground*100.0/top_ten_total)\n",
    "        \n",
    "        ## Print Readable format\n",
    "#         print(f'For mod={w} and {l} hash-functions, accuracy={ accuracy } %')\n",
    "        \n",
    "        ## Print LaTeX table\n",
    "#         if w == 4096:\n",
    "#             print(\"{:0.2f}\\\\% \\\\\\\\ \\\\hline\".format(accuracy))\n",
    "#         else:\n",
    "#             print(\"{:0.2f}\\\\% & \".format(accuracy), end=\"\")\n",
    "\n",
    "        ## Print CSV\n",
    "        print(\"{:0.2f}%, \".format(accuracy), end=\"\") ## printing accuracy\n",
    "#         print(f\"{count_min_matrix.sketch.nbytes}, \", end=\"\") ## print memusage\n",
    "        if w == 4096:\n",
    "            print(\"\")\n",
    "            run_times[l] = np.mean(tmp_runtimes)"
   ]
  },
  {
   "cell_type": "code",
   "execution_count": 28,
   "metadata": {},
   "outputs": [
    {
     "data": {
      "image/png": "[encoded data removed]",
      "text/plain": [
       "<Figure size 720x432 with 1 Axes>"
      ]
     },
     "metadata": {
      "needs_background": "light"
     },
     "output_type": "display_data"
    }
   ],
   "source": [
    "lists = sorted(run_times.items()) # sorted by key, return a list of tuples\n",
    "\n",
    "x, y = zip(*lists) # unpack a list of pairs into two tuples\n",
    "\n",
    "plt.figure(figsize=(10,6))\n",
    "plt.plot(x, y)\n",
    "plt.xlabel(\"Amount of hashes used\")\n",
    "plt.ylabel(\"Average runtime (sec)\")\n",
    "plt.savefig('runtimes_countmin.png')\n",
    "plt.show()\n"
   ]
  }
 ],
 "metadata": {
  "kernelspec": {
   "display_name": "Python 3",
   "language": "python",
   "name": "python3"
  },
  "language_info": {
   "codemirror_mode": {
    "name": "ipython",
    "version": 3
   },
   "file_extension": ".py",
   "mimetype": "text/x-python",
   "name": "python",
   "nbconvert_exporter": "python",
   "pygments_lexer": "ipython3",
   "version": "3.7.3"
  }
 },
 "nbformat": 4,
 "nbformat_minor": 2
}
