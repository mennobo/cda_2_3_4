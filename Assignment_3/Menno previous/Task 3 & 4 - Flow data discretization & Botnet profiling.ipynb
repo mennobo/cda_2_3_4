{
 "cells": [
  {
   "cell_type": "code",
   "execution_count": 1,
   "metadata": {},
   "outputs": [],
   "source": [
    "import pandas as pd\n",
    "import random\n",
    "from collections import Counter \n",
    "import operator\n",
    "import math\n",
    "import mmh3\n",
    "import numpy as np\n"
   ]
  },
  {
   "cell_type": "markdown",
   "metadata": {},
   "source": [
    "# Flow Data Discretization Task"
   ]
  },
  {
   "cell_type": "markdown",
   "metadata": {},
   "source": [
    "This task is based on Dataset 51 and for infected host, 147.32.84.165 was chosen."
   ]
  },
  {
   "cell_type": "code",
   "execution_count": 301,
   "metadata": {},
   "outputs": [],
   "source": [
    "import numpy\n",
    "import matplotlib.pyplot as plt\n",
    "\n",
    "data_file = 'capture20110818.pcap.netflow.labeled' #dataset 51\n",
    "infected_host = '147.32.84.165'\n",
    "columns=['Date','Duration','Protocol','SrcIP', 'srcPort','DstIP', 'DstPort', 'Flags', 'TOS', 'Packets', 'Bytes', 'Label']\n",
    "infected_lst= list()\n",
    "uninfected_lst = list()\n",
    "with open(data_file) as fp:\n",
    "    for cnt, line in enumerate(fp):\n",
    "        if cnt!=0:\n",
    "            index = 0\n",
    "            data = line.split(\"\\t\")\n",
    "            data = list(filter(None, data)) \n",
    "            date = data[index]\n",
    "            try:\n",
    "                duration = data[index + 1]\n",
    "            except:\n",
    "                data = line.split(\" \")\n",
    "                data = list(filter(None, data)) \n",
    "                date = data[0] + \" \" + data[1]\n",
    "                index = 1\n",
    "                duration = data[index + 1]\n",
    "            protocol = data[index + 2]\n",
    "            src = data[index + 3].split(':')\n",
    "            if len(src) < 2: # Set port to 0 if no port provided\n",
    "                src.append(0)\n",
    "            dst = data[index + 5].split(':')\n",
    "            if len(dst) < 2:\n",
    "                dst.append(0)\n",
    "            flags = data[index + 6]\n",
    "            tos = data[index + 7]\n",
    "            packets = int(data[index + 8])\n",
    "            byteno = float(data[index + 9])\n",
    "            flows = data[index + 10]\n",
    "            label = data[index + 11].rstrip()\n",
    "            if label == 'Background':\n",
    "                continue\n",
    "            if (src[0] == dst[0]):\n",
    "                print(\"CONNECT TO SELF\")\n",
    "            if (src[0] != infected_host and dst[0] != infected_host):\n",
    "                uninfected_lst.append([date, duration, protocol, src[0], src[1], dst[0], dst[1], flags, tos, packets, byteno, label])\n",
    "            else:\n",
    "                infected_lst.append([date, duration, protocol, src[0], src[1], dst[0], dst[1], flags, tos, packets, byteno, label])\n",
    "# add information associated with infected host to infected_df            \n",
    "infected_df = pd.DataFrame(infected_lst, columns=columns)\n",
    "# add information not associated with infected host to uninfected_df            \n",
    "uninfected_df = pd.DataFrame(uninfected_lst, columns=columns)"
   ]
  },
  {
   "cell_type": "code",
   "execution_count": 377,
   "metadata": {},
   "outputs": [
    {
     "name": "stdout",
     "output_type": "stream",
     "text": [
      "infected mean:\n",
      "          Packets       Bytes      ICMP       TCP       UDP\n",
      "Label                                                      \n",
      "Botnet  12.038034  10938.6793  0.959934  0.027874  0.012193\n",
      "\n",
      " uninfected mean:\n",
      "              Packets         Bytes      ICMP       TCP       UDP\n",
      "Label                                                            \n",
      "Botnet      11.275546  10308.424987  0.966215  0.022952  0.010833\n",
      "LEGITIMATE  23.687808  16593.959900  0.003150  0.966895  0.029955\n",
      "\n",
      " infected std:\n",
      "          Packets         Bytes      ICMP       TCP       UDP\n",
      "Label                                                        \n",
      "Botnet  84.293063  69710.054287  0.196118  0.164614  0.109747\n",
      "\n",
      " uninfected std:\n",
      "               Packets          Bytes      ICMP       TCP       UDP\n",
      "Label                                                              \n",
      "Botnet       80.262679   66423.425153  0.180676  0.149751  0.103517\n",
      "LEGITIMATE  154.185725  177137.115201  0.056035  0.178911  0.170463\n"
     ]
    }
   ],
   "source": [
    "# Print mean and standard deviation of all numerical columns to see if there are interesting differences\n",
    "# Convert Protocol to dummies to also get stats on protocol\n",
    "infected_dummy_df = pd.concat([infected_df, pd.get_dummies(infected_df.Protocol)], axis=1)\n",
    "uninfected_dummy_df = pd.concat([uninfected_df, pd.get_dummies(uninfected_df.Protocol)], axis=1)\n",
    "print('infected mean:')\n",
    "print(infected_dummy_df.groupby(['Label']).mean())\n",
    "print('\\n uninfected mean:')\n",
    "print(uninfected_dummy_df.groupby(['Label']).mean())\n",
    "print('\\n infected std:')\n",
    "print(infected_dummy_df.groupby(['Label']).std())\n",
    "print('\\n uninfected std:')\n",
    "print(uninfected_dummy_df.groupby(['Label']).std())"
   ]
  },
  {
   "cell_type": "code",
   "execution_count": 378,
   "metadata": {},
   "outputs": [
    {
     "data": {
      "image/png": "[encoded data removed]",
      "text/plain": [
       "<Figure size 432x288 with 1 Axes>"
      ]
     },
     "metadata": {
      "needs_background": "light"
     },
     "output_type": "display_data"
    }
   ],
   "source": [
    "# Plot mean and standard deviation of 'ICMP','TCP', 'UDP' grouped on Label\n",
    "error_df = uninfected_dummy_df[['ICMP','TCP', 'UDP', 'Label']]\n",
    "x_values = list(error_df.groupby(['Label']).mean())\n",
    "y_values = error_df.groupby(['Label']).mean().values\n",
    "errors = error_df.groupby(['Label']).std().values\n",
    "\n",
    "x = x_values\n",
    "y = y_values[0]\n",
    "e = errors[0]\n",
    "plt.errorbar(x, y, e, linestyle='None', marker='o', label='Botnet')\n",
    "\n",
    "x = x_values\n",
    "y = y_values[1]\n",
    "e = errors[1]\n",
    "plt.errorbar(x, y, e, linestyle='None', marker='s', label='Legitimate')\n",
    "\n",
    "error_df = infected_dummy_df[['ICMP','TCP', 'UDP', 'Label']]\n",
    "x = list(error_df.groupby(['Label']).mean())\n",
    "y = error_df.groupby(['Label']).mean().values[0]\n",
    "e = error_df.groupby(['Label']).std().values[0]\n",
    "plt.errorbar(x, y, e, linestyle='None', marker='x', label='147.32.84.165')\n",
    "\n",
    "plt.legend()\n",
    "plt.show()"
   ]
  },
  {
   "cell_type": "code",
   "execution_count": 379,
   "metadata": {},
   "outputs": [
    {
     "data": {
      "image/png": "[encoded data removed]",
      "text/plain": [
       "<Figure size 432x288 with 1 Axes>"
      ]
     },
     "metadata": {
      "needs_background": "light"
     },
     "output_type": "display_data"
    }
   ],
   "source": [
    "# Plot mean and standard deviation of Bytes grouped on Label\n",
    "error_df = uninfected_dummy_df[['Bytes', 'Label']]\n",
    "y_values = error_df.groupby(['Label']).mean().values\n",
    "errors = error_df.groupby(['Label']).std().values\n",
    "\n",
    "x = ['Bytes Legitimate']\n",
    "y = y_values[1]\n",
    "e = errors[1]\n",
    "plt.errorbar(x, y, e, linestyle='None', marker='s', label='Legitimate')\n",
    "\n",
    "x = ['Bytes Botnet']\n",
    "y = y_values[0]\n",
    "e = errors[0]\n",
    "plt.errorbar(x, y, e, linestyle='None', marker='o', label='Botnet')\n",
    "\n",
    "error_df = infected_dummy_df[['Bytes', 'Label']]\n",
    "x = ['Bytes\\n147.32.84.165']\n",
    "y = error_df.groupby(['Label']).mean().values[0]\n",
    "e = error_df.groupby(['Label']).std().values[0]\n",
    "plt.errorbar(x, y, e, linestyle='None', marker='x', label='147.32.84.165')\n",
    "\n",
    "plt.legend()\n",
    "plt.show()"
   ]
  },
  {
   "cell_type": "code",
   "execution_count": 380,
   "metadata": {},
   "outputs": [
    {
     "data": {
      "image/png": "[encoded data removed]",
      "text/plain": [
       "<Figure size 432x288 with 1 Axes>"
      ]
     },
     "metadata": {
      "needs_background": "light"
     },
     "output_type": "display_data"
    }
   ],
   "source": [
    "# Plot mean and standard deviation of Packets grouped on label\n",
    "error_df = uninfected_dummy_df[['Packets', 'Label']]\n",
    "y_values = error_df.groupby(['Label']).mean().values\n",
    "errors = error_df.groupby(['Label']).std().values\n",
    "\n",
    "x = ['Packets Legitimate']\n",
    "y = y_values[1]\n",
    "e = errors[1]\n",
    "plt.errorbar(x, y, e, linestyle='None', marker='s', label='Legitimate')\n",
    "\n",
    "x = ['Packets Botnet']\n",
    "y = y_values[0]\n",
    "e = errors[0]\n",
    "plt.errorbar(x, y, e, linestyle='None', marker='o', label='Botnet')\n",
    "\n",
    "error_df = infected_dummy_df[['Packets', 'Label']]\n",
    "x = ['Packets\\n147.32.84.165']\n",
    "y = error_df.groupby(['Label']).mean().values[0]\n",
    "e = error_df.groupby(['Label']).std().values[0]\n",
    "plt.errorbar(x, y, e, linestyle='None', marker='x', label='147.32.84.165')\n",
    "\n",
    "plt.legend()\n",
    "plt.show()"
   ]
  },
  {
   "cell_type": "markdown",
   "metadata": {},
   "source": [
    "# Explore the Flags attribute to see if it is useful for discretization"
   ]
  },
  {
   "cell_type": "code",
   "execution_count": 382,
   "metadata": {},
   "outputs": [
    {
     "data": {
      "image/png": "[encoded data removed]",
      "text/plain": [
       "<Figure size 432x288 with 1 Axes>"
      ]
     },
     "metadata": {
      "needs_background": "light"
     },
     "output_type": "display_data"
    }
   ],
   "source": [
    "import matplotlib.pyplot as plt\n",
    "import numpy as np\n",
    "\n",
    "# Explore if the Flags attribute is useful\n",
    "# Split flag attribute into dummies\n",
    "uninf_flags_df = pd.concat([uninfected_df[['Label']], pd.get_dummies(uninfected_df.Flags)], axis=1)\n",
    "inf_flags_df = pd.concat([infected_df[['Label']], pd.get_dummies(infected_df.Flags)], axis=1)\n",
    "\n",
    "# Group dataframes based on the labels\n",
    "uninf_flags_labelsGroup = uninf_flags_df.groupby(['Label'])\n",
    "inf_flags_labelsGroup = inf_flags_df.groupby(['Label'])\n",
    "\n",
    "mean_df1 = inf_flags_labelsGroup.mean()\n",
    "mean_df2 = uninf_flags_labelsGroup.mean()\n",
    "std_df1 = inf_flags_labelsGroup.std()\n",
    "std_df2 = uninf_flags_labelsGroup.std()\n",
    "columns_total = mean_df1.columns\n",
    "columns_total.append(mean_df2.columns)\n",
    "\n",
    "# Find all flag columns where one of the means is higher than threshold (0.05)\n",
    "threshold = 0.05\n",
    "flag_dict = dict()\n",
    "for col in columns_total:\n",
    "    inf_val, bot_uninf, leg_uninf = 0,0,0\n",
    "    if col in mean_df1.columns:\n",
    "        inf_val = mean_df1[col][0]\n",
    "    if col in mean_df2.columns:\n",
    "        bot_uninf = mean_df2[col][0]\n",
    "        leg_uninf = mean_df2[col][1]\n",
    "    if inf_val >= threshold or bot_uninf >= threshold or leg_uninf >= threshold:\n",
    "        flag_dict[col] = [inf_val, bot_uninf, leg_uninf, std_df1[col][0], std_df2[col][0], std_df2[col][1]]\n",
    "new_df = pd.DataFrame(flag_dict)\n",
    "new_df.head(10)\n",
    "\n",
    "# Using the found columns plot the mean and standard deviation\n",
    "x = new_df.columns\n",
    "y_values = mean_df2[x].values\n",
    "errors = std_df2[x].values\n",
    "\n",
    "y = y_values[0]\n",
    "e = errors[0]\n",
    "plt.errorbar(x, y, e, linestyle='None', marker='o', label='Botnet')\n",
    "\n",
    "y = y_values[1]\n",
    "e = errors[1]\n",
    "plt.errorbar(x, y, e, linestyle='None', marker='s', label='Legitimate')\n",
    "\n",
    "y_values = mean_df1[x].values\n",
    "errors = std_df1[x].values\n",
    "plt.errorbar(x, y, e, linestyle='None', marker='x', label='147.32.84.165')\n",
    "\n",
    "plt.legend()\n",
    "plt.show()"
   ]
  },
  {
   "cell_type": "markdown",
   "metadata": {},
   "source": [
    "Test out the protocol plus flag attribute on the infected host"
   ]
  },
  {
   "cell_type": "code",
   "execution_count": 383,
   "metadata": {},
   "outputs": [
    {
     "data": {
      "text/html": [
       "<div>\n",
       "<style scoped>\n",
       "    .dataframe tbody tr th:only-of-type {\n",
       "        vertical-align: middle;\n",
       "    }\n",
       "\n",
       "    .dataframe tbody tr th {\n",
       "        vertical-align: top;\n",
       "    }\n",
       "\n",
       "    .dataframe thead th {\n",
       "        text-align: right;\n",
       "    }\n",
       "</style>\n",
       "<table border=\"1\" class=\"dataframe\">\n",
       "  <thead>\n",
       "    <tr style=\"text-align: right;\">\n",
       "      <th></th>\n",
       "      <th>ICMP+ECO</th>\n",
       "      <th>ICMP+ECR</th>\n",
       "      <th>ICMP+UNK</th>\n",
       "    </tr>\n",
       "    <tr>\n",
       "      <th>Label</th>\n",
       "      <th></th>\n",
       "      <th></th>\n",
       "      <th></th>\n",
       "    </tr>\n",
       "  </thead>\n",
       "  <tbody>\n",
       "    <tr>\n",
       "      <th>Botnet</th>\n",
       "      <td>0.28</td>\n",
       "      <td>0.29</td>\n",
       "      <td>0.27</td>\n",
       "    </tr>\n",
       "  </tbody>\n",
       "</table>\n",
       "</div>"
      ],
      "text/plain": [
       "        ICMP+ECO  ICMP+ECR  ICMP+UNK\n",
       "Label                               \n",
       "Botnet      0.28      0.29      0.27"
      ]
     },
     "execution_count": 383,
     "metadata": {},
     "output_type": "execute_result"
    }
   ],
   "source": [
    "# Combine Protocol and Flag for extra attribute\n",
    "infected_df['ProtFlag'] = infected_df['Protocol'] + \"+\" + infected_df['Flags']\n",
    "\n",
    "# Convert to numerical via dummies\n",
    "uninf_protFlag_df = pd.concat([infected_df[['Label']], pd.get_dummies(infected_df.ProtFlag)], axis=1)\n",
    "\n",
    "error_df = uninf_protFlag_df\n",
    "error_mean = error_df.groupby(['Label']).mean()\n",
    "error_mean.to_csv('test.csv')\n",
    "error_mean.head()\n",
    "\n",
    "# Only show means larger than or equal to threshold (0.05)\n",
    "threshold = 0.05\n",
    "for col in error_mean.columns:\n",
    "    val = error_mean[col]\n",
    "    if val[0] < threshold:\n",
    "        error_mean.drop([col], axis=1, inplace=True)\n",
    "\n",
    "# Round all values to 2 decimals\n",
    "error_mean.round(2)"
   ]
  },
  {
   "cell_type": "markdown",
   "metadata": {},
   "source": [
    "Convert the not infected host dataset to see if the same values are achieved (yes, all hosts show that the values found for the infected host are also good predictors for other infected hosts)"
   ]
  },
  {
   "cell_type": "code",
   "execution_count": 384,
   "metadata": {},
   "outputs": [
    {
     "name": "stdout",
     "output_type": "stream",
     "text": [
      "            ICMP+ECO  ICMP+ECR  ICMP+UNK  TCP+A_  TCP+FA_  TCP+FSPA_  TCP+PA_  \\\n",
      "Label                                                                           \n",
      "Botnet          0.29      0.29      0.28    0.00     0.00       0.00     0.01   \n",
      "LEGITIMATE      0.00      0.00      0.00    0.28     0.09       0.06     0.25   \n",
      "\n",
      "            TCP+SPA_  TCP+_FSPA  \n",
      "Label                            \n",
      "Botnet          0.00       0.00  \n",
      "LEGITIMATE      0.12       0.06  \n"
     ]
    },
    {
     "data": {
      "image/png": "[encoded data removed]",
      "text/plain": [
       "<Figure size 432x288 with 1 Axes>"
      ]
     },
     "metadata": {
      "needs_background": "light"
     },
     "output_type": "display_data"
    }
   ],
   "source": [
    "# Combine Protocol and Flag for extra attribute\n",
    "uninfected_df['ProtFlag'] = uninfected_df['Protocol'] + \"+\" + uninfected_df['Flags']\n",
    "\n",
    "# Convert to numerical via dummies\n",
    "uninf_protFlag_df = pd.concat([uninfected_df[['Label']], pd.get_dummies(uninfected_df.ProtFlag)], axis=1)\n",
    "\n",
    "uninf_protFlag_mean = uninf_protFlag_df.groupby(['Label']).mean()\n",
    "uninf_protFlag_mean.to_csv('test.csv')\n",
    "uninf_protFlag_mean.head()\n",
    "\n",
    "# Only show means larger than or equal to threshold (0.05)\n",
    "threshold = 0.05\n",
    "for col in uninf_protFlag_mean.columns:\n",
    "    val = uninf_protFlag_mean[col]\n",
    "    if val[0] < threshold and val[1] < threshold:\n",
    "        uninf_protFlag_mean.drop([col], axis=1, inplace=True)\n",
    "\n",
    "# Round all values to 2 decimals\n",
    "print(uninf_protFlag_mean.round(2))\n",
    "\n",
    "# Continue with only the significant columns\n",
    "leftover_columns = list(uninf_protFlag_mean.columns)\n",
    "leftover_columns.append('Label')\n",
    "uninf_protFlag_df = uninf_protFlag_df[leftover_columns]\n",
    "uninf_protFlag_std = uninf_protFlag_df.groupby(['Label']).std()\n",
    "\n",
    "x = uninf_protFlag_std.columns\n",
    "y_values = uninf_protFlag_mean.values\n",
    "errors = uninf_protFlag_std.values\n",
    "\n",
    "y = y_values[0]\n",
    "e = errors[0]\n",
    "plt.errorbar(x, y, e, linestyle='None', marker='o', label='Botnet')\n",
    "y = y_values[1]\n",
    "e = errors[1]\n",
    "plt.errorbar(x, y, e, linestyle='None', marker='x', label='Legitimate')\n",
    "plt.xticks(rotation=90)\n",
    "\n",
    "plt.legend()\n",
    "plt.show()"
   ]
  },
  {
   "cell_type": "code",
   "execution_count": 385,
   "metadata": {},
   "outputs": [],
   "source": [
    "from tslearn.generators import random_walks\n",
    "from tslearn.preprocessing import TimeSeriesScalerMeanVariance\n",
    "from tslearn.piecewise import PiecewiseAggregateApproximation\n",
    "from tslearn.piecewise import SymbolicAggregateApproximation, OneD_SymbolicAggregateApproximation\n",
    "\n",
    "# Discretize the Bytes attribute using PAA\n",
    "dataset = uninfected_df.Bytes.apply(lambda x: float(x))\n",
    "scaler = TimeSeriesScalerMeanVariance(mu=0., std=1.)  # Rescale time series\n",
    "dataset = scaler.fit_transform(dataset)\n",
    "\n",
    "n_paa_segments = 10\n",
    "paa = PiecewiseAggregateApproximation(n_segments=n_paa_segments)\n",
    "paa_dataset_inv = paa.inverse_transform(paa.fit_transform(dataset))\n",
    "uninfected_df['paa_Bytes'] = paa_dataset_inv[0]\n"
   ]
  },
  {
   "cell_type": "code",
   "execution_count": 387,
   "metadata": {},
   "outputs": [
    {
     "name": "stdout",
     "output_type": "stream",
     "text": [
      "            ICMP+-0.018381672213281935  ICMP+-0.0333286367645249  \\\n",
      "Label                                                              \n",
      "Botnet                            0.11                      0.14   \n",
      "LEGITIMATE                        0.00                      0.00   \n",
      "\n",
      "            ICMP+-0.048244770168523084  ICMP+-0.06627956795067147  \\\n",
      "Label                                                               \n",
      "Botnet                            0.18                        0.2   \n",
      "LEGITIMATE                        0.00                        0.0   \n",
      "\n",
      "            ICMP+-0.06701576783867874  ICMP+-0.06849942976426047  \\\n",
      "Label                                                              \n",
      "Botnet                           0.14                        0.2   \n",
      "LEGITIMATE                       0.00                        0.0   \n",
      "\n",
      "            TCP+-0.018381672213281935  TCP+-0.03331745552000447  \\\n",
      "Label                                                             \n",
      "Botnet                           0.00                      0.01   \n",
      "LEGITIMATE                       0.09                      0.18   \n",
      "\n",
      "            TCP+-0.0333286367645249  TCP+-0.06701576783867874  \\\n",
      "Label                                                           \n",
      "Botnet                         0.00                      0.01   \n",
      "LEGITIMATE                     0.06                      0.06   \n",
      "\n",
      "            TCP+0.04330600235648702  TCP+0.04752706004757467  \\\n",
      "Label                                                          \n",
      "Botnet                         0.01                     0.00   \n",
      "LEGITIMATE                     0.18                     0.19   \n",
      "\n",
      "            TCP+0.24423731211092828  \n",
      "Label                                \n",
      "Botnet                         0.00  \n",
      "LEGITIMATE                     0.18  \n"
     ]
    },
    {
     "data": {
      "image/png": "[encoded data removed]",
      "text/plain": [
       "<Figure size 432x288 with 1 Axes>"
      ]
     },
     "metadata": {
      "needs_background": "light"
     },
     "output_type": "display_data"
    }
   ],
   "source": [
    "# Combine Protocol and Flag for extra attribute\n",
    "uninfected_df['ProtBytes'] = uninfected_df['Protocol'] + \"+\" + uninfected_df['paa_Bytes'].map(str)\n",
    "\n",
    "# Convert to numerical via dummies\n",
    "uninf_protBytes_df = pd.concat([uninfected_df[['Label']], pd.get_dummies(uninfected_df.ProtBytes)], axis=1)\n",
    "\n",
    "uninf_protBytes_mean = uninf_protBytes_df.groupby(['Label']).mean()\n",
    "uninf_protBytes_mean.to_csv('test.csv')\n",
    "uninf_protBytes_mean.head()\n",
    "\n",
    "# Only show means larger than or equal to threshold (0.05)\n",
    "threshold = 0.05\n",
    "for col in uninf_protBytes_mean.columns:\n",
    "    val = uninf_protBytes_mean[col]\n",
    "    if val[0] < threshold and val[1] < threshold:\n",
    "        uninf_protBytes_mean.drop([col], axis=1, inplace=True)\n",
    "\n",
    "# Round all values to 2 decimals\n",
    "print(uninf_protBytes_mean.round(2))\n",
    "uninf_protBytes_mean.to_csv('test')\n",
    "\n",
    "# Continue with only the significant columns\n",
    "leftover_columns = list(uninf_protBytes_mean.columns)\n",
    "leftover_columns.append('Label')\n",
    "uninf_protBytes_df = uninf_protBytes_df[leftover_columns]\n",
    "uninf_protBytes_std = uninf_protBytes_df.groupby(['Label']).std()\n",
    "\n",
    "x = uninf_protBytes_std.columns\n",
    "y_values = uninf_protBytes_mean.values\n",
    "errors = uninf_protBytes_std.values\n",
    "\n",
    "y = y_values[0]\n",
    "e = errors[0]\n",
    "plt.errorbar(x, y, e, linestyle='None', marker='o', label='Botnet')\n",
    "y = y_values[1]\n",
    "e = errors[1]\n",
    "plt.errorbar(x, y, e, linestyle='None', marker='x', label='Legitimate')\n",
    "\n",
    "# rotate x labels and shorten their text\n",
    "plt.xticks(range(len(x)), [lab[:12] for lab in x],  rotation=90)\n",
    "plt.legend()\n",
    "plt.show()"
   ]
  },
  {
   "cell_type": "markdown",
   "metadata": {},
   "source": [
    "# Botnet profiling task"
   ]
  },
  {
   "cell_type": "markdown",
   "metadata": {},
   "source": [
    "Try to find a pattern of the infected host using markov chains"
   ]
  },
  {
   "cell_type": "code",
   "execution_count": 388,
   "metadata": {},
   "outputs": [],
   "source": [
    "def create_prob_matrix(series, window_size = 1):\n",
    "    \"\"\"\n",
    "    Create a probability matrix for a series with a defined window size\n",
    "    \"\"\"\n",
    "    state_list = series\n",
    "    window_list = create_window_list(state_list, window_size)\n",
    "\n",
    "    # Map all states to an index for the matrix\n",
    "    matrix_size = len(set(window_list))\n",
    "    window_set = set(window_list)\n",
    "    windows_set = list(window_set)\n",
    "    window_to_index = {'start':0, 'end': matrix_size + 1}\n",
    "    index_to_window = {0:'start', matrix_size + 1: 'end' }\n",
    "    counter = 1\n",
    "    for i in window_set:\n",
    "        window_to_index[i] = counter\n",
    "        index_to_window[counter] = i\n",
    "        counter += 1\n",
    "        \n",
    "    # Create state transition matrix\n",
    "    # matrix[state1][state2] = 1 means the transition from state 1 to state 2 was made 1 time\n",
    "    matrix = numpy.zeros([matrix_size + 2, matrix_size + 2])\n",
    "    prev = 0\n",
    "    for window in window_list:\n",
    "        nex = window_to_index[window]\n",
    "        matrix[prev][nex] += 1\n",
    "        prev = nex\n",
    "    matrix[prev][matrix_size + 1] += 1\n",
    "\n",
    "    # Create Probability matrix\n",
    "    # matrix[state1][state2] = 0.5 means the transition from state 1 to state 2 is made with a 50% chance\n",
    "    output_matrix = numpy.zeros([matrix_size + 2, matrix_size + 2])\n",
    "    for row_n, row in enumerate(matrix):\n",
    "        m_sum = row.sum()\n",
    "        for col_n, val in enumerate(row):\n",
    "            if val != 0:\n",
    "                output_matrix[row_n][col_n] = val / m_sum\n",
    "    return output_matrix, window_to_index, index_to_window\n",
    "\n",
    "def create_window_list(state_list, window_size):\n",
    "    \"\"\"\n",
    "    Function for getting a window of states from a list\n",
    "    windows_size: the size of the windows returned\n",
    "    \"\"\"\n",
    "    window_list = list()\n",
    "    for i in range(window_size, len(state_list) - window_size):\n",
    "        window = ''\n",
    "        for window_index in range(window_size):\n",
    "            window += state_list[i + window_index]\n",
    "        window_list.append(window)\n",
    "    return window_list"
   ]
  },
  {
   "cell_type": "code",
   "execution_count": 389,
   "metadata": {},
   "outputs": [],
   "source": [
    "# Create the fingerprint (training matrix) from the infected host to match other hosts on\n",
    "train_matrix, train_wti, train_itw = create_prob_matrix(infected_df.Protocol, window_size=1)"
   ]
  },
  {
   "cell_type": "markdown",
   "metadata": {},
   "source": [
    "Using the Training Matrix/fingerprint match all other hosts and classify if it is infected or not"
   ]
  },
  {
   "cell_type": "code",
   "execution_count": 391,
   "metadata": {},
   "outputs": [],
   "source": [
    "import time"
   ]
  },
  {
   "cell_type": "code",
   "execution_count": 370,
   "metadata": {},
   "outputs": [
    {
     "name": "stdout",
     "output_type": "stream",
     "text": [
      "Currently at: 0\n",
      "time taken: 0.001005411148071289\n",
      "Normal host: 147.32.85.88, similarity: 0\n",
      "0. 1. 0.\n",
      "0.00000000e+00 9.99934392e-01 6.56081879e-05\n",
      "0. 0. 0.\n",
      "Finished at: 1.7537424564361572\n"
     ]
    }
   ],
   "source": [
    "infected_hosts = ['147.32.84.191', '147.32.84.192', '147.32.84.193', \n",
    "                  '147.32.84.204', '147.32.84.205', '147.32.84.206', \n",
    "                  '147.32.84.207', '147.32.84.208', '147.32.84.209']\n",
    "all_hosts = uninfected_df.DstIP.unique()\n",
    "similarity_dict = dict()\n",
    "counter = 0\n",
    "start = time.time()\n",
    "for host in all_hosts:\n",
    "    if counter % 200 == 0:\n",
    "        print(f'Currently at: {counter}')\n",
    "        print(f'time taken: {time.time() - start}')\n",
    "    counter += 1\n",
    "    test_host = uninfected_df[uninfected_df['DstIP'].str.contains(host) | uninfected_df['SrcIP'].str.contains(host)]\n",
    "    test_host.reset_index(inplace=True)\n",
    "    test_matrix, test_wti, test_itw = create_prob_matrix(test_host.Protocol, window_size=1)\n",
    "    similarity = 0\n",
    "    sim_thresh = 0\n",
    "    for row_n, row in enumerate(test_matrix):\n",
    "        for col_n, val in enumerate(row):\n",
    "            from_window = test_itw[row_n]\n",
    "            to_window = test_itw[col_n]\n",
    "\n",
    "            # Check if probability matrices have similar values on the train marix values\n",
    "            if from_window in train_wti.keys() and to_window in train_wti.keys():\n",
    "                # convert windows to the train indices\n",
    "                from_window = train_wti[from_window]\n",
    "                to_window = train_wti[to_window]\n",
    "\n",
    "                # Get the value for the from and to windows found in the test matrix\n",
    "                train_val = train_matrix[from_window][to_window]\n",
    "\n",
    "                if val <= train_val - sim_thresh or val >= train_val + sim_thresh:\n",
    "                    continue\n",
    "                else:\n",
    "                    similarity += 1\n",
    "    if host in infected_hosts:\n",
    "        print(f'infected host: {host}, similarity: {similarity}')\n",
    "    else:\n",
    "        print(f'Normal host: {host}, similarity: {similarity}')\n",
    "    similarity_dict[host] = similarity\n",
    "\n",
    "print(f'Finished at: {time.time() - start}')"
   ]
  },
  {
   "cell_type": "code",
   "execution_count": 392,
   "metadata": {},
   "outputs": [
    {
     "name": "stdout",
     "output_type": "stream",
     "text": [
      "9\n",
      "0 1 0 0\n",
      "lowest infected: 10000\n",
      "highest infected: 0\n",
      "highest uninfected: 0\n"
     ]
    }
   ],
   "source": [
    "# Find out the true/false positives/negatives\n",
    "tp, tn, fp, fn = 0,0,0,0\n",
    "highest_non_infected, lowest_infected, highest_infected = 0, 10000, 0\n",
    "for key, value in similarity_dict.items():\n",
    "    if value >= 10000:\n",
    "        if key in infected_hosts:\n",
    "            lowest_infected = min(lowest_infected, value)\n",
    "            highest_infected = max(highest_infected, value)\n",
    "            tp += 1\n",
    "        else:\n",
    "            highest_non_infected = max(highest_non_infected, value)\n",
    "            fp += 1\n",
    "    else:\n",
    "        if key in infected_hosts:\n",
    "            lowest_infected = min(lowest_infected, value)\n",
    "            highest_infected = max(highest_infected, value)\n",
    "            fn += 1\n",
    "        else:\n",
    "            highest_non_infected = max(highest_non_infected, value)\n",
    "            tn += 1\n",
    "print(tp, tn, fp, fn)\n",
    "print(f'lowest infected: {lowest_infected}')\n",
    "print(f'highest infected: {highest_infected}')\n",
    "print(f'highest uninfected: {highest_non_infected}')\n"
   ]
  }
 ],
 "metadata": {
  "kernelspec": {
   "display_name": "Python 3",
   "language": "python",
   "name": "python3"
  },
  "language_info": {
   "codemirror_mode": {
    "name": "ipython",
    "version": 3
   },
   "file_extension": ".py",
   "mimetype": "text/x-python",
   "name": "python",
   "nbconvert_exporter": "python",
   "pygments_lexer": "ipython3",
   "version": "3.7.3"
  }
 },
 "nbformat": 4,
 "nbformat_minor": 2
}
