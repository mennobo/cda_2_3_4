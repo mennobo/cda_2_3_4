{
 "cells": [
  {
   "cell_type": "markdown",
   "metadata": {},
   "source": [
    "# CS4035 - Cyber Data Analytics\n",
    "## Lab 3 "
   ]
  },
  {
   "cell_type": "markdown",
   "metadata": {},
   "source": [
    "### Submit on brightspace (zip file with the name Group_xx.zip)\n",
    "(i) This jupyter file completed with code, plots, figures and report for each question. Additional plots and figures can be created for explanation before the end of each main question. Lab 3 contains 7 main questions, including the bonus. Write the code or explanation below each sub question. For the explantions, include what you would normally include in the report for this lab assignment, for example data pre-processing, hypothesis tested, approach, results, etc.\n",
    "(ii) A PDF or a Word report for the assignment. Create a report from the plots, figures, tables and the write-up that you provide in this jupyter file. The report will be used as a proof for page limit. \n",
    "(iii) The libraries needed to run this file. \n",
    "\n",
    "Your peers should be able to use the readme section for instructions and be able to run this file. "
   ]
  },
  {
   "cell_type": "markdown",
   "metadata": {},
   "source": [
    "## Group Number :"
   ]
  },
  {
   "cell_type": "markdown",
   "metadata": {},
   "source": [
    "## Student 1 \n",
    "### Name : Arpita Ravindranath\n",
    "### ID : 5002702"
   ]
  },
  {
   "cell_type": "markdown",
   "metadata": {},
   "source": [
    "## Student 2\n",
    "### Name : Menno Bezema\n",
    "### ID : 4248252"
   ]
  },
  {
   "cell_type": "markdown",
   "metadata": {},
   "source": [
    "## Readme - Provide instructions - libraries used, location of the data file, etc. Keep it short. Remember your peers will not debug your code and should be able to reproduce the exact output you provide."
   ]
  },
  {
   "cell_type": "markdown",
   "metadata": {},
   "source": [
    "We added a requirements.txt file, install all the requirements using pip install -r requirements.txt\n",
    "\n",
    "containing:\n",
    "- pandas\n",
    "- numpy\n",
    "- matplotlib\n",
    "- sklearn\n",
    "- yellowbrick\n",
    "- zipfile\n"
   ]
  },
  {
   "cell_type": "markdown",
   "metadata": {},
   "source": [
    "### index (Easy navigation to sections)\n",
    "This index also shows how our report is set up. We work through the questions in the assignments in order. The link to the question is the first cell in which we talk about that part (2a leads to the start of 2a).\n",
    "1. [Familiarization and discretization task](#1)\n",
    "    - [1a. Plot Visualizations](#1a)\n",
    "    - [1b. Discretize selected features](#1b)\n",
    "    - [1c. Answers and explanation](#1c)\n",
    "2. [Frequent task](#2)\n",
    "    - [2a. Use the SPACE SAVING Algorithm](#2a)\n",
    "    - [2b. Analysis and answers to the questions](#2b)\n",
    "3. [Sketching task](#3)\n",
    "    - [3a. COUNT-MIN sketch](#3a)\n",
    "    - [3b. Analysis and answers to the questions](#3b)\n",
    "4. [Min-wise locality sensitive hashing task  task](#4)\n",
    "    - [4a. Implementation](#4a)\n",
    "    - [4b. Analysis and answers to the questions](#4b)\n",
    "5. [Random hyperplane locality sensitive hashing task ](#5)\n",
    "    - [5a. Implementation - locality sensitive hashing](#5a)\n",
    "    - [5b. Analysis and answers to the questions. Also provide relevant plots](#5b)\n",
    "6. [Botnet profiling task](#6)\n",
    "    - [6a. Learn a sequential model.](#6a)\n",
    "    - [6b. Analysis and answers to the questions.](#6b)\n",
    "7. [Botnet fingerprinting task task](#7)\n",
    "    - [7a. Fingerprinting.](#7a)\n",
    "    - [7b. Analysis and answers to the questions.](#7b)\n",
    "8. [Bonus](#8)"
   ]
  },
  {
   "cell_type": "markdown",
   "metadata": {},
   "source": [
    "<a id='1'></a>"
   ]
  },
  {
   "cell_type": "markdown",
   "metadata": {},
   "source": [
    "## 1. Familiarization and discretization task – 1 A4\n",
    "\n",
    "# TODO: add titles to each plot\n",
    "\n",
    "Familiarization and discretization task –1 A4\n",
    "Consider scenario 10 from the CTU-13 data sets (see paper 4 from below resources). Remove all background flows from the data. \n",
    "\n",
    "\tAssignment:\n",
    "\t1. You are to discretize the NetFlows (Apply the discretization to data from all hosts in the selected scenario). \n",
    "\t2. Investigate the data from one of the infected hosts. \n",
    "\t3. Select and visualize two features that you believe are most relevant for modeling the behavior of the infected host. (criteria: Shows the behavior of two features conditioned on the infection status.)\n",
    "\t4. Discretize these features using use any of the methods discussed in class (combine the two values into a single discrete value). (criteria: The discretization is sound, and the result investigated)\n",
    "    \n",
    "    Question:\n",
    "\t1. Do you observe any behavior in the two features that could be useful for detecting the infection? Explain and visualize. \n"
   ]
  },
  {
   "cell_type": "code",
   "execution_count": 1,
   "metadata": {},
   "outputs": [],
   "source": [
    "import pandas as pd\n",
    "import random\n",
    "import numpy as np\n",
    "import matplotlib.pylab as plt\n",
    "import zipfile\n",
    "%matplotlib inline"
   ]
  },
  {
   "cell_type": "markdown",
   "metadata": {},
   "source": [
    "Find all entries that belong to the background flow by searching for the word background in the feature Label(Normal:CC:Background).When the data 'Label' feature is -1 then that flow does not belong to the background.This information will help to retrive non background flows in future."
   ]
  },
  {
   "cell_type": "code",
   "execution_count": 38,
   "metadata": {},
   "outputs": [
    {
     "name": "stderr",
     "output_type": "stream",
     "text": [
      "C:\\Users\\maila\\Anaconda3\\lib\\site-packages\\ipykernel_launcher.py:15: SettingWithCopyWarning: \n",
      "A value is trying to be set on a copy of a slice from a DataFrame.\n",
      "Try using .loc[row_indexer,col_indexer] = value instead\n",
      "\n",
      "See the caveats in the documentation: http://pandas.pydata.org/pandas-docs/stable/user_guide/indexing.html#returning-a-view-versus-a-copy\n",
      "  from ipykernel import kernelapp as app\n"
     ]
    }
   ],
   "source": [
    "# We work from a zipfile to keep memory low\n",
    "archive = zipfile.ZipFile('dataset_lab3.zip', 'r')\n",
    "data = pd.read_csv(archive.open('dataset_10/capture20110818.binetflow'))\n",
    "\n",
    "# Find out which datapoints are background or not\n",
    "data['Label1'] = data['Label'].str.find('Background')\n",
    "#Remove all background flows\n",
    "data_no_background = data[data['Label1'] == -1]\n",
    "\n",
    "#convert the Proto,Dir,State features to numeric\n",
    "label_mapping = {}\n",
    "char_cols = ['Proto', 'Dir', 'State','Label']\n",
    "for c in char_cols:\n",
    "    data[c], label_mapping[c] = pd.factorize(data[c])\n",
    "    data_no_background[c], label_mapping[c] = pd.factorize(data_no_background[c])\n",
    "#label_mapping"
   ]
  },
  {
   "cell_type": "code",
   "execution_count": 39,
   "metadata": {},
   "outputs": [],
   "source": [
    "#We obtain this information from the description of the CTU13 dataset\n",
    "infected_hosts = ['147.32.84.165','147.32.84.191','147.32.84.192','147.32.84.193','147.32.84.204',\n",
    "                  '147.32.84.205','147.32.84.206''147.32.84.207','147.32.84.208','147.32.84.209']\n",
    "\n",
    "normal_hosts = ['147.32.84.170', '147.32.84.134', '147.32.84.164', '147.32.87.36, 147.32.80.9', '147.32.87.11']"
   ]
  },
  {
   "cell_type": "code",
   "execution_count": 40,
   "metadata": {},
   "outputs": [],
   "source": [
    "#getting flows related to infected host 147.32.84.165(This is the infected host chosen for visualization and discretization)\n",
    "#We choose all flows where the source or destination IP is 147.32.84.165\n",
    "infected1 = data_no_background[data_no_background['SrcAddr'] == infected_hosts[0]]\n",
    "infected2 = data_no_background[data_no_background['DstAddr'] == infected_hosts[0]]\n",
    "frames = [infected1,infected2]\n",
    "infected = pd.concat(frames)\n",
    "#infected"
   ]
  },
  {
   "cell_type": "code",
   "execution_count": 41,
   "metadata": {},
   "outputs": [],
   "source": [
    "#getting non infected flows.This is when the source IP or destination IP belong to the list of normal hosts\n",
    "normal1 = data_no_background[data_no_background['SrcAddr'].isin(normal_hosts)]\n",
    "normal2 = data_no_background[data_no_background['DstAddr'].isin(normal_hosts)]\n",
    "frames = [normal1,normal2]\n",
    "normal = pd.concat(frames)\n",
    "#normal"
   ]
  },
  {
   "cell_type": "code",
   "execution_count": 42,
   "metadata": {},
   "outputs": [
    {
     "name": "stdout",
     "output_type": "stream",
     "text": [
      "Totpackets infected mean: 32.89696210460382 - std dev: 1833.7146960534678\n",
      "Totpackets normal mean:   37.226810293237584 - std dev: 518.8540774153702\n",
      "TotBytes infected mean: 29293.764484810523 - std dev: 1461313.154091543\n",
      "TotBytes normal mean:   28335.471706895405 - std dev: 481827.8302691501\n",
      "SrcBytes infected mean: 29282.68159515607 - std dev: 1461313.238340761\n",
      "SrcBytes normal mean: 1723.304275550236   - std dev: 18867.270679993682\n",
      "dTos infected mean: 0.0 - std dev: 0.0\n",
      "dTos normal mean: 0.0   - std dev: 0.0\n",
      "sTos infected mean: 0.0 - std dev: 0.0\n",
      "sTos normal mean: 0.0   - std dev: 0.0\n",
      "Proto infected mean: 2.990186867105126 - std dev: 0.15053843076249632\n",
      "Proto normal mean: 0.7424030853115233   - std dev: 0.6900964406852172\n",
      "State infected mean: 34.65340849775551 - std dev: 7.30530653151671\n",
      "State normal mean: 6.370037901456214   - std dev: 12.244771119971551\n",
      "Dur infected mean: 100.24288123415792 - std dev: 311.2261906676798\n",
      "Dur normal mean: 39.790412464591796   - std dev: 258.66560799302374\n",
      "Dir infected mean: 1.9981208894456624 - std dev: 0.04330796113720363\n",
      "Dir normal mean: 1.3556087505818206   - std dev: 0.5087311610607312\n",
      "Label infected mean: 59.7892264328218 - std dev: 3.3371225174871473\n",
      "Label normal mean: 0.8273156459871002   - std dev: 0.563215026855436\n"
     ]
    }
   ],
   "source": [
    "#Print variation in the features to find the ones with the most deviations\n",
    "print(f\"Totpackets infected mean: {np.mean(infected['TotPkts'])} - std dev: {np.std(infected['TotPkts'])}\")\n",
    "print(f\"Totpackets normal mean:   {np.mean(normal['TotPkts'])} - std dev: {np.std(normal['TotPkts'])}\")\n",
    "\n",
    "print(f\"TotBytes infected mean: {np.mean(infected['TotBytes'])} - std dev: {np.std(infected['TotBytes'])}\")\n",
    "print(f\"TotBytes normal mean:   {np.mean(normal['TotBytes'])} - std dev: {np.std(normal['TotBytes'])}\")\n",
    "\n",
    "print(f\"SrcBytes infected mean: {np.mean(infected['SrcBytes'])} - std dev: { np.std(infected['SrcBytes'])}\")\n",
    "print(f\"SrcBytes normal mean: {np.mean(normal['SrcBytes'])}   - std dev: { np.std(normal['SrcBytes'])}\")\n",
    "\n",
    "print(f\"dTos infected mean: {np.mean(infected['dTos'])} - std dev: { np.std(infected['dTos'])}\")\n",
    "print(f\"dTos normal mean: {np.mean(normal['dTos'])}   - std dev: { np.std(normal['dTos'])}\")\n",
    "\n",
    "print(f\"sTos infected mean: {np.mean(infected['sTos'])} - std dev: { np.std(infected['sTos'])}\")\n",
    "print(f\"sTos normal mean: {np.mean(normal['sTos'])}   - std dev: { np.std(normal['sTos'])}\")\n",
    "\n",
    "print(f\"Proto infected mean: {np.mean(infected['Proto'])} - std dev: { np.std(infected['Proto'])}\")\n",
    "print(f\"Proto normal mean: {np.mean(normal['Proto'])}   - std dev: { np.std(normal['Proto'])}\")\n",
    "\n",
    "print(f\"State infected mean: {np.mean(infected['State'])} - std dev: { np.std(infected['State'])}\")\n",
    "print(f\"State normal mean: {np.mean(normal['State'])}   - std dev: { np.std(normal['State'])}\")\n",
    "\n",
    "print(f\"Dur infected mean: {np.mean(infected['Dur'])} - std dev: { np.std(infected['Dur'])}\")\n",
    "print(f\"Dur normal mean: {np.mean(normal['Dur'])}   - std dev: { np.std(normal['Dur'])}\")\n",
    "\n",
    "print(f\"Dir infected mean: {np.mean(infected['Dir'])} - std dev: { np.std(infected['Dir'])}\")\n",
    "print(f\"Dir normal mean: {np.mean(normal['Dir'])}   - std dev: { np.std(normal['Dir'])}\")\n",
    "\n",
    "# print(f\"infected - mean CCDetector\", np.mean(infected['CCDetector(Normal:CC:Unknown)']), np.std(infected['CCDetector(Normal:CC:Unknown)']))\n",
    "# print(f\"normal   - mean CCDetector\", np.mean(normal['CCDetector(Normal:CC:Unknown)']), np.std(normal['CCDetector(Normal:CC:Unknown)']))\n",
    "\n",
    "print(f\"Label infected mean: {np.mean(infected['Label'])} - std dev: { np.std(infected['Label'])}\")\n",
    "print(f\"Label normal mean: {np.mean(normal['Label'])}   - std dev: { np.std(normal['Label'])}\")"
   ]
  },
  {
   "cell_type": "code",
   "execution_count": 43,
   "metadata": {},
   "outputs": [
    {
     "data": {
      "text/plain": [
       "Text(0, 0.5, 'Mean value')"
      ]
     },
     "execution_count": 43,
     "metadata": {},
     "output_type": "execute_result"
    },
    {
     "data": {
      "image/png": "[encoded data removed]",
      "text/plain": [
       "<Figure size 1080x720 with 1 Axes>"
      ]
     },
     "metadata": {},
     "output_type": "display_data"
    }
   ],
   "source": [
    "cols = ['TotBytes','SrcBytes','TotPkts', 'Dur','State', 'dTos','sTos', 'Proto', 'Dir','Label']\n",
    "\n",
    "mean_infected = np.mean(infected[cols].values, axis=0)\n",
    "std_infected = np.std(infected[cols].values, axis=0)\n",
    "\n",
    "mean_clean = np.mean(normal[cols].values, axis=0)\n",
    "std_clean = np.std(normal[cols].values, axis=0)\n",
    "\n",
    "\n",
    "f, ax = plt.subplots(nrows=1, ncols=1, figsize=(15,10))\n",
    "\n",
    "ax.bar(range(2), height=mean_infected[:-9], width=0.3, color='r', label='infected')\n",
    "ax.bar(range(2), height=mean_clean[:-9], width=0.3, color='g', label='clean')\n",
    "ax.legend()\n",
    "ax.set_xticks(range(2)) \n",
    "ax.set_xticklabels(cols[:-9], fontsize=10)\n",
    "ax.set_ylabel('Mean value')"
   ]
  },
  {
   "cell_type": "code",
   "execution_count": 44,
   "metadata": {},
   "outputs": [
    {
     "data": {
      "text/plain": [
       "Text(0, 0.5, 'Mean value')"
      ]
     },
     "execution_count": 44,
     "metadata": {},
     "output_type": "execute_result"
    },
    {
     "data": {
      "image/png": "[encoded data removed]",
      "text/plain": [
       "<Figure size 1080x720 with 1 Axes>"
      ]
     },
     "metadata": {},
     "output_type": "display_data"
    }
   ],
   "source": [
    "f, ax = plt.subplots(nrows=1, ncols=1, figsize=(15,10))\n",
    "\n",
    "ax.bar(range(3),height=mean_infected[-9:-6],\n",
    "          width=0.3, color='r', label='infected')\n",
    "ax.bar(range(3), height=mean_clean[-9:-6], \n",
    "          width=0.3, color='g', label='clean')\n",
    "ax.legend()\n",
    "ax.set_xticks(range(3)) \n",
    "ax.set_xticklabels(cols[-9:-6], fontsize=10)\n",
    "ax.set_ylabel('Mean value')"
   ]
  },
  {
   "cell_type": "code",
   "execution_count": 45,
   "metadata": {},
   "outputs": [
    {
     "data": {
      "text/plain": [
       "Text(0, 0.5, 'Mean value')"
      ]
     },
     "execution_count": 45,
     "metadata": {},
     "output_type": "execute_result"
    },
    {
     "data": {
      "image/png": "[encoded data removed]",
      "text/plain": [
       "<Figure size 1080x720 with 1 Axes>"
      ]
     },
     "metadata": {},
     "output_type": "display_data"
    }
   ],
   "source": [
    "f, ax = plt.subplots(nrows=1, ncols=1, figsize=(15,10))\n",
    "\n",
    "ax.bar(range(6),height=mean_infected[-6:],\n",
    "          width=0.3, color='r', label='infected')\n",
    "ax.bar(range(6), height=mean_clean[-6:], \n",
    "          width=0.3, color='g', label='clean')\n",
    "ax.legend()\n",
    "ax.set_xticks(range(6)) \n",
    "ax.set_xticklabels(cols[-6:], fontsize=10)\n",
    "ax.set_ylabel('Mean value')"
   ]
  },
  {
   "cell_type": "markdown",
   "metadata": {},
   "source": [
    "<a id='1a'></a>"
   ]
  },
  {
   "cell_type": "markdown",
   "metadata": {},
   "source": [
    "### 1a. Plot visualizations - Select and visualize two features for modeling the behavior of the infected host.\n",
    "    \n",
    "       Select and visualize two features that you believe are most relevant for modeling the behavior of the infected host. (criteria: Shows the behavior of two features conditioned on the infection status.)"
   ]
  },
  {
   "cell_type": "markdown",
   "metadata": {},
   "source": [
    "From the above plots we see that Proto,SrcBytes,TotBytes,TotPkts and State seem to be the most important features.We further choose Proto and TotPkts as they vary largely between the clean and the infected flows\n",
    "\n"
   ]
  },
  {
   "cell_type": "code",
   "execution_count": 46,
   "metadata": {},
   "outputs": [
    {
     "data": {
      "text/plain": [
       "<matplotlib.legend.Legend at 0x1eff13f2d88>"
      ]
     },
     "execution_count": 46,
     "metadata": {},
     "output_type": "execute_result"
    },
    {
     "data": {
      "image/png": "[encoded data removed]",
      "text/plain": [
       "<Figure size 720x720 with 1 Axes>"
      ]
     },
     "metadata": {},
     "output_type": "display_data"
    }
   ],
   "source": [
    "#Visualising these two features\n",
    "\n",
    "plt.figure(figsize=(10,10))\n",
    "plt.scatter(normal['Proto'].values-0.02, normal['TotPkts'].values, color='g', label='normal')\n",
    "plt.scatter(infected['Proto'].values+0.02,infected['TotPkts'].values, color='r', label='infected')\n",
    "plt.xlabel('Proto')\n",
    "plt.ylabel('TotPkts')\n",
    "plt.title('Protocol used by Infected vs Normal machines')\n",
    "plt.xticks(range(6), ['TCP', 'UDP', 'ICMP','RTCP','RTP','ARP'])  #we get this from the mapping performed earlier\n",
    "plt.legend()"
   ]
  },
  {
   "cell_type": "markdown",
   "metadata": {},
   "source": [
    "<a id='1b'></a>"
   ]
  },
  {
   "cell_type": "markdown",
   "metadata": {},
   "source": [
    "### 1b. Discretize selected features\n",
    "    Discretize these features using use any of the methods discussed in class (combine the two values into a single discrete value). (criteria: The discretization is sound, and the result investigated)"
   ]
  },
  {
   "cell_type": "code",
   "execution_count": 47,
   "metadata": {},
   "outputs": [
    {
     "data": {
      "image/png": "[encoded data removed]",
      "text/plain": [
       "<Figure size 576x396 with 2 Axes>"
      ]
     },
     "metadata": {},
     "output_type": "display_data"
    },
    {
     "data": {
      "text/plain": [
       "<matplotlib.axes._subplots.AxesSubplot at 0x1eff0a70e48>"
      ]
     },
     "execution_count": 47,
     "metadata": {},
     "output_type": "execute_result"
    }
   ],
   "source": [
    "#Applying Elbow method to find optimal number of clusters\n",
    "val = data_no_background['TotPkts'].values\n",
    "from sklearn.cluster import KMeans\n",
    "from yellowbrick.cluster import KElbowVisualizer\n",
    "model=KElbowVisualizer(KMeans(),k=10)\n",
    "model.fit(val[...,np.newaxis])\n",
    "model.show()"
   ]
  },
  {
   "cell_type": "markdown",
   "metadata": {},
   "source": [
    "As the breakpoint is at cluster 4.Based on this we calculate the ordinal rank"
   ]
  },
  {
   "cell_type": "markdown",
   "metadata": {},
   "source": [
    "We disctretize the TotPkts feature,the Protocol feature is already discrete in nature. \n",
    "We add a new feature 'Discrete_TotPkts' which corresponds to the discretized TotPkts feature. \n",
    "Then we combine these two - Protocol and discretized TotPkts feature.\n",
    "For this step we make use of the algorithm mentioned in paper 4 (Learning Behavioral Fingerprints From NetflowsUsing Timed Automata)on page 311.\n",
    "We Then looked into the possible differences that could be exploited in the extracted codes."
   ]
  },
  {
   "cell_type": "code",
   "execution_count": 48,
   "metadata": {},
   "outputs": [],
   "source": [
    "def discretize(val, ranks):\n",
    "\n",
    "    ordinal_ranks = np.linspace(0, 1, ranks, endpoint=False) #based on ranks splitting to percentiles\n",
    "    ordinal_ind = np.ceil(ordinal_ranks[1:] * len(val)) #leave out 0 and calculate p/100*N and round it off,the ordinal ranks\n",
    "    ordinal_val = np.array(sorted(val))[ordinal_ind.astype(int)] #select the values at the percentiles for mapping\n",
    "    disc = []\n",
    "    for v in val:\n",
    "        for i in range(len(ordinal_val)): #i takes values 0,1,2\n",
    "            if v<=ordinal_val[i]:  #check val against all the ordinal boundary values\n",
    "                disc.append(i)\n",
    "                break\n",
    "            if i==len(ordinal_val)-1:  #if its not lesser than any boundary then it is put into the last category\n",
    "                disc.append(i+1)\n",
    "    return np.array(disc)  #this contains the discretized values of the feature\n",
    "\n",
    "\n",
    "def extract_code(values):\n",
    "    M = np.zeros(values.shape[1])\n",
    "    for j in range(values.shape[1]):\n",
    "        M[j] = len(np.unique(values[:,j])) #Pulls   out all rows and only jth column,M is an array consisting of no of unique value for each feature\n",
    "    spacesize = np.prod(M) #its the product of the no of values for each feature\n",
    "    code = np.zeros(values.shape[0], dtype=int)\n",
    "    for i in range(values.shape[0]):\n",
    "        s = spacesize\n",
    "        for j in range(values.shape[1]):\n",
    "            code[i] += values[i,j] * s/M[j]\n",
    "            s = s / M[j]\n",
    "    return code"
   ]
  },
  {
   "cell_type": "markdown",
   "metadata": {},
   "source": [
    "To visualize the difference we make use of the normal flow data from the first normal host and compare it to the infected host data."
   ]
  },
  {
   "cell_type": "code",
   "execution_count": 49,
   "metadata": {},
   "outputs": [
    {
     "name": "stderr",
     "output_type": "stream",
     "text": [
      "C:\\Users\\maila\\Anaconda3\\lib\\site-packages\\ipykernel_launcher.py:6: SettingWithCopyWarning: \n",
      "A value is trying to be set on a copy of a slice from a DataFrame.\n",
      "Try using .loc[row_indexer,col_indexer] = value instead\n",
      "\n",
      "See the caveats in the documentation: http://pandas.pydata.org/pandas-docs/stable/user_guide/indexing.html#returning-a-view-versus-a-copy\n",
      "  \n"
     ]
    }
   ],
   "source": [
    "# Get Values to discretize\n",
    "val = data_no_background['TotPkts'].values\n",
    "TotPkts_disc = discretize(val, 3)\n",
    "\n",
    "# add discretized values to the dataframe\n",
    "data_no_background['Discrete_TotPkts'] = TotPkts_disc\n",
    "\n",
    "feat = ['Proto', 'Discrete_TotPkts']\n",
    "\n",
    "# Select only values associated with the infected host we want to look at\n",
    "infected_data = data_no_background[np.logical_or(data_no_background['SrcAddr']==infected_hosts[0], data_no_background['DstAddr']==infected_hosts[0])]\n",
    "infected_data = infected_data[feat].values # selects values of Proto and Discrete_Totpkts\n",
    "infected_code = extract_code(infected_data) # Convert the Proto and Discrete_Totpkts to a new code\n",
    "\n",
    "# Get values from a normal host to compare\n",
    "clean_data = data_no_background[np.logical_or(data_no_background['SrcAddr']==normal_hosts[0], data_no_background['DstAddr']==normal_hosts[0])][feat].values\n",
    "test_code= extract_code(clean_data)"
   ]
  },
  {
   "cell_type": "code",
   "execution_count": 50,
   "metadata": {},
   "outputs": [
    {
     "data": {
      "text/plain": [
       "Text(0, 0.5, 'Extracted code')"
      ]
     },
     "execution_count": 50,
     "metadata": {},
     "output_type": "execute_result"
    },
    {
     "data": {
      "image/png": "[encoded data removed]",
      "text/plain": [
       "<Figure size 1440x720 with 1 Axes>"
      ]
     },
     "metadata": {},
     "output_type": "display_data"
    }
   ],
   "source": [
    "plt.figure(figsize=(20,10))\n",
    "plt.plot(infected_code, color='r', label='infected')\n",
    "plt.plot(test_code, color='g', label='clean')\n",
    "plt.legend()\n",
    "plt.xlabel(\"Index\")\n",
    "plt.ylabel(\"Extracted code\")"
   ]
  },
  {
   "cell_type": "markdown",
   "metadata": {},
   "source": [
    "<a id='1c'></a>"
   ]
  },
  {
   "cell_type": "markdown",
   "metadata": {},
   "source": [
    "### 1b. Answers and explanation\n",
    "Do you observe any behavior in the two features that could be useful for detecting the infection? Explain and visualize."
   ]
  },
  {
   "cell_type": "markdown",
   "metadata": {},
   "source": [
    "As seen in the above plots the infected data resulted in higher extracted code values, hence this could be used in classification of unseen data as infected or normal data. (This can further be used in task 5/6???)"
   ]
  },
  {
   "cell_type": "code",
   "execution_count": 11,
   "metadata": {},
   "outputs": [],
   "source": [
    "#import zipfile\n",
    "#archive = zipfile.ZipFile('dataset_lab3.zip', 'r')\n",
    "#data = archive.read('dataset_10/capture20110818.binetflow')\n",
    "# archive.namelist()"
   ]
  },
  {
   "cell_type": "markdown",
   "metadata": {},
   "source": [
    "<a id='2'></a>"
   ]
  },
  {
   "cell_type": "markdown",
   "metadata": {},
   "source": [
    "## 2. Frequent task – 1/2 A4 (Individual)\n",
    "\n",
    "Use the SPACE SAVING algorithm to estimate the distribution over 3-grams of discretised symbols. \n",
    "\n",
    "\t1. Write code for the algorithm, use it to estimate the distribution in one pass (no need to actually stream the data, you may store it in memory, or run every file separately, but do store and load the intermediate results). \n",
    "\t2. Use a range of number of counters. (criteria: explanations for the number of used counters/bin)\n",
    "\t3. What are the 10 most frequent 3-grams and their frequencies when approximated? \n",
    "\t4. Use the theory to explain any approximation errors you observe. (criteria: The 3-gram count approximation is correct, and its quality is related to theory)"
   ]
  },
  {
   "cell_type": "markdown",
   "metadata": {},
   "source": [
    "<a id='2a'></a>"
   ]
  },
  {
   "cell_type": "code",
   "execution_count": 51,
   "metadata": {},
   "outputs": [],
   "source": [
    "from nltk import ngrams\n",
    "from collections import Counter\n",
    "\n",
    "def n_grams(n, data):\n",
    "    gram = []\n",
    "    for gr in ngrams(data, n):\n",
    "        gram.append(''.join(gr))\n",
    "    return gram\n",
    "\n",
    "data1 = data_no_background[feat].values\n",
    "series= extract_code(data1)\n",
    "\n",
    "# Convert from numeric to characters\n",
    "values = np.unique(series)\n",
    "alphabet = 'abcdefghijklmnopqrstuvw'\n",
    "dict1 = {x : alphabet[i]  for i, x in enumerate(values)}\n",
    "list3 = [dict1[x] for x in series]\n",
    "\n",
    "# Convert the list of characters to n_grams based on input parameter\n",
    "n_gram = n_grams(3, list3)\n",
    "    \n",
    "unique,counts = np.unique(n_gram,return_counts=True)"
   ]
  },
  {
   "cell_type": "code",
   "execution_count": 52,
   "metadata": {},
   "outputs": [
    {
     "name": "stdout",
     "output_type": "stream",
     "text": [
      "(78946, 'ddd')\n",
      "(8020, 'ded')\n",
      "(7968, 'dde')\n",
      "(7962, 'edd')\n",
      "(3231, 'ccc')\n",
      "(2938, 'ccb')\n",
      "(2819, 'bcc')\n",
      "(2434, 'cbc')\n",
      "(1886, 'bbb')\n",
      "(884, 'ede')\n",
      "(826, 'eed')\n",
      "(826, 'dee')\n",
      "(568, 'cbb')\n",
      "(554, 'bbc')\n",
      "(322, 'eee')\n",
      "(244, 'bdd')\n",
      "(207, 'ddb')\n",
      "(193, 'dbd')\n",
      "(172, 'bcb')\n",
      "(123, 'bbd')\n",
      "(113, 'dbb')\n",
      "(94, 'bdb')\n",
      "(74, 'dcc')\n",
      "(68, 'ecc')\n",
      "(65, 'bee')\n",
      "(64, 'cbe')\n",
      "(56, 'eec')\n",
      "(55, 'ddc')\n",
      "(54, 'cbd')\n",
      "(28, 'bdc')\n"
     ]
    }
   ],
   "source": [
    "#merging the list and displaying the top 30 frequent ngrams and their count\n",
    "def mergelist(list1,list2):\n",
    "    merged_list = [(list1[i],list2[i]) for i in range(0,len(list1))]\n",
    "    return merged_list\n",
    "\n",
    "def takesec(elem):\n",
    "    return elem[1]\n",
    "\n",
    "frequencies = mergelist(counts,unique)\n",
    "print(*(sorted(frequencies,reverse = True)[:30]),sep = \"\\n\")"
   ]
  },
  {
   "cell_type": "markdown",
   "metadata": {},
   "source": [
    "### 2a. Use the SPACE SAVING algorithm\n",
    "\n",
    "    1. Write code for the algorithm, use it to estimate the distribution in one pass (no need to actually stream the data, you may store it in memory, or run every file separately, but do store and load the intermediate results). \n",
    "\t2. Use a range of number of counters. (criteria: explanations for the number of used counters/bin)"
   ]
  },
  {
   "cell_type": "code",
   "execution_count": 53,
   "metadata": {},
   "outputs": [],
   "source": [
    "#Space Saving algorithm implementation based on the paper http://www.cse.ust.hk/~raywong/comp5331/References/EfficientComputationOfFrequentAndTop-kElementsInDataStreams.pdf\n",
    "import math, heapq\n",
    "\n",
    "class SpaceSaving:\n",
    "    def __init__(self, k):\n",
    "        self.k = k\n",
    "        self.n = 0\n",
    "        self.counts = dict() #keeps track of k watched elements\n",
    "        self.queue = []\n",
    "\n",
    "    def inc(self, x):\n",
    "        # increments the total number of elements seen\n",
    "        self.n += 1\n",
    "\n",
    "        # checks if x is being tracked,if yes the counter is incremented\n",
    "        if x in self.counts:\n",
    "            self.counts[x] += 1\n",
    "\n",
    "        # x is not being watched\n",
    "        else:\n",
    "            # make room for x if the no of tracked elements are aldready k and x is not tracked\n",
    "            if ((len(self.counts)) == self.k and self.n > self.k ):\n",
    "                while True:\n",
    "                    count, nval, key = self.dequeue()\n",
    "                    assert self.counts[key] >= count #The value of the new elements count must be greater than equal to the counts in the tracked list\n",
    "                    if self.counts[key] == count:\n",
    "                        del self.counts[key] #removing element from the tracking list if its count is same as that of the new element\n",
    "                        break\n",
    "                    else:\n",
    "                        self.enqueue(self.counts[key], nval, key) #else add the element back to the queue\n",
    "            else:\n",
    "                count = 0  #there is room to add x to the tracking list\n",
    "\n",
    "            # track x\n",
    "            self.counts[x] = count + 1\n",
    "            self.enqueue(count, self.n, x)\n",
    "        \n",
    "\n",
    "    def enqueue(self, count, nval, key):\n",
    "        heapq.heappush(\n",
    "            self.queue,\n",
    "            (count, nval, key)\n",
    "        )\n",
    "\n",
    "    def dequeue(self):\n",
    "        return heapq.heappop(self.queue)\n",
    "\n"
   ]
  },
  {
   "cell_type": "code",
   "execution_count": 54,
   "metadata": {},
   "outputs": [
    {
     "name": "stdout",
     "output_type": "stream",
     "text": [
      "('ddd', 80017)\n",
      "('eee', 10558)\n",
      "('ecc', 10541)\n",
      "('ccb', 10541)\n",
      "('eec', 10540)\n"
     ]
    }
   ],
   "source": [
    "a = SpaceSaving(5)\n",
    "for y in n_gram:\n",
    "    a.inc(y)\n",
    "    \n",
    "sortedarr = sorted(a.counts.items(),key = lambda x:x[1],reverse = True)\n",
    "for x in sortedarr:\n",
    "    print(x)"
   ]
  },
  {
   "cell_type": "code",
   "execution_count": 56,
   "metadata": {},
   "outputs": [
    {
     "name": "stdout",
     "output_type": "stream",
     "text": [
      "('ddd', 78947)\n",
      "('ded', 8024)\n",
      "('dde', 7971)\n",
      "('edd', 7965)\n",
      "('ccc', 3231)\n",
      "('ccb', 2938)\n",
      "('bcc', 2819)\n",
      "('cbc', 2434)\n",
      "('bbb', 1886)\n",
      "('eee', 1078)\n",
      "('bee', 982)\n",
      "('eec', 981)\n",
      "('ecc', 981)\n",
      "('cbe', 981)\n",
      "('ebe', 979)\n"
     ]
    }
   ],
   "source": [
    "a = SpaceSaving(15)\n",
    "for y in n_gram:\n",
    "    a.inc(y)\n",
    "    \n",
    "sortedarr = sorted(a.counts.items(),key = lambda x:x[1],reverse = True)\n",
    "for x in sortedarr:\n",
    "    print(x)"
   ]
  },
  {
   "cell_type": "code",
   "execution_count": 57,
   "metadata": {},
   "outputs": [
    {
     "name": "stdout",
     "output_type": "stream",
     "text": [
      "('ddd', 78946)\n",
      "('ded', 8021)\n",
      "('dde', 7969)\n",
      "('edd', 7963)\n",
      "('ccc', 3231)\n",
      "('ccb', 2938)\n",
      "('bcc', 2819)\n",
      "('cbc', 2434)\n",
      "('bbb', 1886)\n",
      "('ede', 886)\n",
      "('dee', 827)\n",
      "('eed', 827)\n",
      "('cbb', 568)\n",
      "('bbc', 554)\n",
      "('eee', 480)\n",
      "('bee', 371)\n",
      "('ecc', 370)\n",
      "('cbe', 370)\n",
      "('eec', 369)\n",
      "('ebe', 368)\n"
     ]
    }
   ],
   "source": [
    "a = SpaceSaving(20)\n",
    "for y in n_gram:\n",
    "    a.inc(y)\n",
    "\n",
    "sortedarr = sorted(a.counts.items(),key = lambda x:x[1],reverse = True)\n",
    "for x in sortedarr:\n",
    "    print(x)"
   ]
  },
  {
   "cell_type": "code",
   "execution_count": 58,
   "metadata": {},
   "outputs": [
    {
     "name": "stdout",
     "output_type": "stream",
     "text": [
      "('ddd', 78946)\n",
      "('ded', 8020)\n",
      "('dde', 7968)\n",
      "('edd', 7962)\n",
      "('ccc', 3231)\n",
      "('ccb', 2938)\n",
      "('bcc', 2819)\n",
      "('cbc', 2434)\n",
      "('bbb', 1886)\n",
      "('ede', 885)\n",
      "('dee', 826)\n",
      "('eed', 826)\n",
      "('cbb', 568)\n",
      "('bbc', 554)\n",
      "('eee', 356)\n",
      "('bdd', 245)\n",
      "('ddb', 213)\n",
      "('dbd', 208)\n",
      "('ecc', 192)\n",
      "('bee', 192)\n",
      "('cbe', 191)\n",
      "('eec', 189)\n",
      "('bcb', 186)\n",
      "('beb', 181)\n",
      "('ebe', 181)\n"
     ]
    }
   ],
   "source": [
    "a = SpaceSaving(25)\n",
    "for y in n_gram:\n",
    "    a.inc(y)\n",
    "    \n",
    "sortedarr = sorted(a.counts.items(),key = lambda x:x[1],reverse = True)\n",
    "for x in sortedarr:\n",
    "    print(x)"
   ]
  },
  {
   "cell_type": "code",
   "execution_count": 59,
   "metadata": {},
   "outputs": [
    {
     "name": "stdout",
     "output_type": "stream",
     "text": [
      "('ddd', 78946)\n",
      "('ded', 8020)\n",
      "('dde', 7968)\n",
      "('edd', 7962)\n",
      "('ccc', 3231)\n",
      "('ccb', 2938)\n",
      "('bcc', 2819)\n",
      "('cbc', 2434)\n",
      "('bbb', 1886)\n",
      "('ede', 884)\n",
      "('dee', 826)\n",
      "('eed', 826)\n",
      "('cbb', 568)\n",
      "('bbc', 554)\n",
      "('eee', 322)\n",
      "('bdd', 244)\n",
      "('ddb', 208)\n",
      "('dbd', 193)\n",
      "('bcb', 172)\n",
      "('bbd', 125)\n",
      "('ecc', 120)\n",
      "('bee', 119)\n",
      "('dbb', 118)\n",
      "('cbe', 118)\n",
      "('eec', 117)\n",
      "('bdb', 105)\n",
      "('ebe', 94)\n",
      "('beb', 94)\n",
      "('bec', 93)\n",
      "('ecb', 93)\n"
     ]
    }
   ],
   "source": [
    "a = SpaceSaving(30)\n",
    "for y in n_gram:\n",
    "    a.inc(y)\n",
    "    \n",
    "sortedarr = sorted(a.counts.items(),key = lambda x:x[1],reverse = True)\n",
    "for x in sortedarr:\n",
    "    print(x)"
   ]
  },
  {
   "cell_type": "markdown",
   "metadata": {},
   "source": [
    "<a id='2b'></a>"
   ]
  },
  {
   "cell_type": "markdown",
   "metadata": {},
   "source": [
    "### 2b. Analysis and answers to the questions\n",
    "\n",
    "    3. What are the 10 most frequent 3-grams and their frequencies when approximated? \n",
    "\t4. Use the theory to explain any approximation errors you observe. (criteria: The 3-gram count approximation is correct, and its quality is related to theory)\n"
   ]
  },
  {
   "cell_type": "code",
   "execution_count": 55,
   "metadata": {},
   "outputs": [
    {
     "name": "stdout",
     "output_type": "stream",
     "text": [
      "('ddd', 78966)\n",
      "('ded', 8131)\n",
      "('dde', 8076)\n",
      "('edd', 8070)\n",
      "('ccc', 3670)\n",
      "('eee', 3080)\n",
      "('bee', 3051)\n",
      "('eec', 3051)\n",
      "('ecc', 3051)\n",
      "('ccb', 3051)\n"
     ]
    }
   ],
   "source": [
    "a = SpaceSaving(10)\n",
    "for y in n_gram:\n",
    "    a.inc(y)\n",
    "    \n",
    "sortedarr = sorted(a.counts.items(),key = lambda x:x[1],reverse = True)\n",
    "for x in sortedarr:\n",
    "    print(x)"
   ]
  },
  {
   "cell_type": "markdown",
   "metadata": {},
   "source": [
    "From the above results we notice that the top 10 most frequent 3grams identified are not the exact same as that actually seen in the data.Frequent 3grams are associated with counters having bigger values,and they will not be affected by the ineffective hits of the lesser frequent elements.The infrequent 3grams will reside in the lesser value counters,these counter values grow much slower comparatively.Hence,these are more prone to errors.This is what we notice in the top 10 frequent 3grams we notice that the top5 have been identified correctly.Irrespective of data being skewed or not we see that the errors in counters is inversely proportional to the number of counters.This is due to the fact that when there are more number of counters there is a lesser chance of replacing 3grams and so there is lesser chance of overestimation and errors.This is supported by our results above.As we increase the value of the counter from 10 to 20 and 30 we notice that errors decrease.Counter-error pairs observed 5 counters - 4 errros,10 counters - 3 errors,15 counters - 5 errors ,20 counters - 5 errors,25 counters - 4 errors ,30 counters - 5 errors."
   ]
  },
  {
   "cell_type": "markdown",
   "metadata": {},
   "source": [
    "<a id='3'></a>"
   ]
  },
  {
   "cell_type": "markdown",
   "metadata": {},
   "source": [
    "## 3. Sketching task – 1/2 A4 (Individual)\n",
    "Build code for computing a COUNT-MIN sketch to estimate occurrence counts for the 3-grams. Make sure the hash functions are pairwise independent. \n",
    "\n",
    "\t1. Estimate the distribution in one pass (no need to actually stream the data, you may store it in memory, or run every file separately, but do store and load the intermediate results). \n",
    "\t2.\tPlay with different heights and widths for the COUNT-MIN sketch matrix. (criteria: explanations for the number of used counters/bin) \n",
    "\t3.\tWhat are the 10 most frequent 3-gramsand their frequencies when approximated? \n",
    "\t4.\tUse the theory to explain any approximation errors you observe. (criteria: The 3-gram count approximation is correct, and its quality is related to theory)\n"
   ]
  },
  {
   "cell_type": "markdown",
   "metadata": {},
   "source": [
    "<a id='3a'></a>"
   ]
  },
  {
   "cell_type": "code",
   "execution_count": null,
   "metadata": {},
   "outputs": [],
   "source": [
    "#%pip install --upgrade setuptools"
   ]
  },
  {
   "cell_type": "code",
   "execution_count": null,
   "metadata": {},
   "outputs": [],
   "source": [
    "#%pip install mmh3"
   ]
  },
  {
   "cell_type": "markdown",
   "metadata": {},
   "source": [
    "### 3a. COUNT-MIN sketch\n",
    "\n",
    "    1. Estimate the distribution in one pass (no need to actually stream the data, you may store it in memory, or run every file separately, but do store and load the intermediate results). \n",
    "\t2.\tPlay with different heights and widths for the COUNT-MIN sketch matrix. (criteria: explanations for the number of used counters/bin) "
   ]
  },
  {
   "cell_type": "code",
   "execution_count": 60,
   "metadata": {},
   "outputs": [],
   "source": [
    "#Impelmentation of count min sketch\n",
    "import pandas as pd\n",
    "import pickle\n",
    "import numpy as np\n",
    "import mmh3\n",
    "import sys\n",
    "\n",
    "def count_min_sketch(series, width, depth):\n",
    "    \n",
    "    n = len(series)\n",
    "    \n",
    "    # Initialize the sketch matrix and a depth(no of hashes)*width matrix\n",
    "    sketch = np.zeros( (depth, width) )\n",
    "    \n",
    "    # Generating the seeds for the hash functions(depth = no of diff hash functions),the seeds are just 0 to the no of hashes-1\n",
    "    seeds = list(range(depth))\n",
    "    #print(\"seeds\",seeds)\n",
    "    uniqexcode = set() # Unordered collections of unique elements\n",
    "   \n",
    "    # Process extended code\n",
    "    for x in series:\n",
    "        \n",
    "        # Add extended code to unique extended code set\n",
    "        uniqexcode.add(x) #will not add the element if it is already present in the set\n",
    "        \n",
    "        # For each hash function\n",
    "        for i in range(depth):\n",
    "            \n",
    "            # Hash extended code and increment cell in matrix\n",
    "            idx = mmh3.hash(x, seeds[i]) % width\n",
    "            sketch[i, idx] += 1\n",
    "        \n",
    "\n",
    "   \n",
    "    # Initialize result series\n",
    "    result = pd.Series(0, index=uniqexcode)\n",
    "    \n",
    "    # Calculate estimates\n",
    "    for x in uniqexcode:\n",
    "        \n",
    "        min_est = n\n",
    "        \n",
    "        # For each hash function\n",
    "        for i in range(depth):\n",
    "            \n",
    "            # Hash extended code and update min_count if less than already found\n",
    "            idx = mmh3.hash(x, seeds[i]) % width\n",
    "            val = sketch[i, idx]\n",
    "            if val < min_est: \n",
    "                min_est = val\n",
    "        \n",
    "        result.at[x] = min_est\n",
    "    \n",
    "    return result.sort_values(ascending=False) #returns in descending order\n"
   ]
  },
  {
   "cell_type": "markdown",
   "metadata": {},
   "source": [
    "<a id='3b'></a>"
   ]
  },
  {
   "cell_type": "code",
   "execution_count": 61,
   "metadata": {},
   "outputs": [],
   "source": [
    "from itertools import product\n",
    "\n",
    "widths = [5, 10, 15, 20, 50]\n",
    "depths = [2, 5, 8, 10, 20, 50]\n",
    "\n",
    "grid = list(product(widths, depths))"
   ]
  },
  {
   "cell_type": "code",
   "execution_count": 62,
   "metadata": {},
   "outputs": [],
   "source": [
    "freqtable = pd.DataFrame()\n",
    "\n",
    "for width, depth in grid:\n",
    "    freqtable['%d_%d' % (width,depth)] = count_min_sketch(n_gram, width, depth)"
   ]
  },
  {
   "cell_type": "code",
   "execution_count": 63,
   "metadata": {},
   "outputs": [
    {
     "data": {
      "text/html": [
       "<div>\n",
       "<style scoped>\n",
       "    .dataframe tbody tr th:only-of-type {\n",
       "        vertical-align: middle;\n",
       "    }\n",
       "\n",
       "    .dataframe tbody tr th {\n",
       "        vertical-align: top;\n",
       "    }\n",
       "\n",
       "    .dataframe thead th {\n",
       "        text-align: right;\n",
       "    }\n",
       "</style>\n",
       "<table border=\"1\" class=\"dataframe\">\n",
       "  <thead>\n",
       "    <tr style=\"text-align: right;\">\n",
       "      <th></th>\n",
       "      <th>5_2</th>\n",
       "      <th>5_5</th>\n",
       "      <th>5_8</th>\n",
       "      <th>5_10</th>\n",
       "      <th>5_20</th>\n",
       "      <th>5_50</th>\n",
       "      <th>10_2</th>\n",
       "      <th>10_5</th>\n",
       "      <th>10_8</th>\n",
       "      <th>10_10</th>\n",
       "      <th>10_20</th>\n",
       "      <th>10_50</th>\n",
       "      <th>15_2</th>\n",
       "      <th>15_5</th>\n",
       "      <th>15_8</th>\n",
       "      <th>15_10</th>\n",
       "      <th>15_20</th>\n",
       "      <th>15_50</th>\n",
       "      <th>20_2</th>\n",
       "      <th>20_5</th>\n",
       "      <th>20_8</th>\n",
       "      <th>20_10</th>\n",
       "      <th>20_20</th>\n",
       "      <th>20_50</th>\n",
       "      <th>50_2</th>\n",
       "      <th>50_5</th>\n",
       "      <th>50_8</th>\n",
       "      <th>50_10</th>\n",
       "      <th>50_20</th>\n",
       "      <th>50_50</th>\n",
       "    </tr>\n",
       "  </thead>\n",
       "  <tbody>\n",
       "    <tr>\n",
       "      <td>bbd</td>\n",
       "      <td>84961</td>\n",
       "      <td>11605</td>\n",
       "      <td>5429</td>\n",
       "      <td>1702</td>\n",
       "      <td>1572</td>\n",
       "      <td>420</td>\n",
       "      <td>79457</td>\n",
       "      <td>298</td>\n",
       "      <td>298</td>\n",
       "      <td>180</td>\n",
       "      <td>180</td>\n",
       "      <td>139</td>\n",
       "      <td>679</td>\n",
       "      <td>679</td>\n",
       "      <td>679</td>\n",
       "      <td>163</td>\n",
       "      <td>163</td>\n",
       "      <td>126</td>\n",
       "      <td>451</td>\n",
       "      <td>158</td>\n",
       "      <td>158</td>\n",
       "      <td>158</td>\n",
       "      <td>123</td>\n",
       "      <td>123</td>\n",
       "      <td>151</td>\n",
       "      <td>123</td>\n",
       "      <td>123</td>\n",
       "      <td>123</td>\n",
       "      <td>123</td>\n",
       "      <td>123</td>\n",
       "    </tr>\n",
       "    <tr>\n",
       "      <td>bba</td>\n",
       "      <td>84961</td>\n",
       "      <td>1175</td>\n",
       "      <td>648</td>\n",
       "      <td>648</td>\n",
       "      <td>648</td>\n",
       "      <td>648</td>\n",
       "      <td>109</td>\n",
       "      <td>109</td>\n",
       "      <td>109</td>\n",
       "      <td>109</td>\n",
       "      <td>69</td>\n",
       "      <td>43</td>\n",
       "      <td>679</td>\n",
       "      <td>96</td>\n",
       "      <td>96</td>\n",
       "      <td>96</td>\n",
       "      <td>68</td>\n",
       "      <td>14</td>\n",
       "      <td>69</td>\n",
       "      <td>4</td>\n",
       "      <td>4</td>\n",
       "      <td>4</td>\n",
       "      <td>3</td>\n",
       "      <td>3</td>\n",
       "      <td>6</td>\n",
       "      <td>3</td>\n",
       "      <td>3</td>\n",
       "      <td>3</td>\n",
       "      <td>3</td>\n",
       "      <td>3</td>\n",
       "    </tr>\n",
       "    <tr>\n",
       "      <td>deb</td>\n",
       "      <td>84961</td>\n",
       "      <td>9516</td>\n",
       "      <td>648</td>\n",
       "      <td>648</td>\n",
       "      <td>92</td>\n",
       "      <td>92</td>\n",
       "      <td>5504</td>\n",
       "      <td>1478</td>\n",
       "      <td>245</td>\n",
       "      <td>245</td>\n",
       "      <td>47</td>\n",
       "      <td>47</td>\n",
       "      <td>679</td>\n",
       "      <td>679</td>\n",
       "      <td>36</td>\n",
       "      <td>36</td>\n",
       "      <td>20</td>\n",
       "      <td>20</td>\n",
       "      <td>60</td>\n",
       "      <td>35</td>\n",
       "      <td>35</td>\n",
       "      <td>35</td>\n",
       "      <td>20</td>\n",
       "      <td>20</td>\n",
       "      <td>199</td>\n",
       "      <td>20</td>\n",
       "      <td>20</td>\n",
       "      <td>17</td>\n",
       "      <td>17</td>\n",
       "      <td>17</td>\n",
       "    </tr>\n",
       "    <tr>\n",
       "      <td>eec</td>\n",
       "      <td>84961</td>\n",
       "      <td>3160</td>\n",
       "      <td>648</td>\n",
       "      <td>648</td>\n",
       "      <td>648</td>\n",
       "      <td>436</td>\n",
       "      <td>109</td>\n",
       "      <td>109</td>\n",
       "      <td>109</td>\n",
       "      <td>109</td>\n",
       "      <td>109</td>\n",
       "      <td>109</td>\n",
       "      <td>823</td>\n",
       "      <td>823</td>\n",
       "      <td>132</td>\n",
       "      <td>57</td>\n",
       "      <td>57</td>\n",
       "      <td>57</td>\n",
       "      <td>69</td>\n",
       "      <td>58</td>\n",
       "      <td>58</td>\n",
       "      <td>58</td>\n",
       "      <td>57</td>\n",
       "      <td>57</td>\n",
       "      <td>58</td>\n",
       "      <td>56</td>\n",
       "      <td>56</td>\n",
       "      <td>56</td>\n",
       "      <td>56</td>\n",
       "      <td>56</td>\n",
       "    </tr>\n",
       "    <tr>\n",
       "      <td>dec</td>\n",
       "      <td>84961</td>\n",
       "      <td>1175</td>\n",
       "      <td>1175</td>\n",
       "      <td>1175</td>\n",
       "      <td>982</td>\n",
       "      <td>190</td>\n",
       "      <td>109</td>\n",
       "      <td>45</td>\n",
       "      <td>45</td>\n",
       "      <td>45</td>\n",
       "      <td>45</td>\n",
       "      <td>6</td>\n",
       "      <td>11</td>\n",
       "      <td>11</td>\n",
       "      <td>11</td>\n",
       "      <td>11</td>\n",
       "      <td>11</td>\n",
       "      <td>11</td>\n",
       "      <td>69</td>\n",
       "      <td>43</td>\n",
       "      <td>43</td>\n",
       "      <td>43</td>\n",
       "      <td>22</td>\n",
       "      <td>6</td>\n",
       "      <td>34</td>\n",
       "      <td>11</td>\n",
       "      <td>6</td>\n",
       "      <td>6</td>\n",
       "      <td>6</td>\n",
       "      <td>6</td>\n",
       "    </tr>\n",
       "    <tr>\n",
       "      <td>aac</td>\n",
       "      <td>84961</td>\n",
       "      <td>2585</td>\n",
       "      <td>648</td>\n",
       "      <td>648</td>\n",
       "      <td>648</td>\n",
       "      <td>436</td>\n",
       "      <td>109</td>\n",
       "      <td>109</td>\n",
       "      <td>109</td>\n",
       "      <td>109</td>\n",
       "      <td>69</td>\n",
       "      <td>62</td>\n",
       "      <td>679</td>\n",
       "      <td>95</td>\n",
       "      <td>36</td>\n",
       "      <td>36</td>\n",
       "      <td>36</td>\n",
       "      <td>13</td>\n",
       "      <td>60</td>\n",
       "      <td>60</td>\n",
       "      <td>18</td>\n",
       "      <td>18</td>\n",
       "      <td>2</td>\n",
       "      <td>1</td>\n",
       "      <td>49</td>\n",
       "      <td>3</td>\n",
       "      <td>3</td>\n",
       "      <td>3</td>\n",
       "      <td>1</td>\n",
       "      <td>1</td>\n",
       "    </tr>\n",
       "    <tr>\n",
       "      <td>ddd</td>\n",
       "      <td>84961</td>\n",
       "      <td>79307</td>\n",
       "      <td>79307</td>\n",
       "      <td>79307</td>\n",
       "      <td>79307</td>\n",
       "      <td>79122</td>\n",
       "      <td>79457</td>\n",
       "      <td>79009</td>\n",
       "      <td>79009</td>\n",
       "      <td>79009</td>\n",
       "      <td>79009</td>\n",
       "      <td>78961</td>\n",
       "      <td>79906</td>\n",
       "      <td>79118</td>\n",
       "      <td>78950</td>\n",
       "      <td>78950</td>\n",
       "      <td>78950</td>\n",
       "      <td>78947</td>\n",
       "      <td>79006</td>\n",
       "      <td>78981</td>\n",
       "      <td>78979</td>\n",
       "      <td>78948</td>\n",
       "      <td>78948</td>\n",
       "      <td>78948</td>\n",
       "      <td>79071</td>\n",
       "      <td>78946</td>\n",
       "      <td>78946</td>\n",
       "      <td>78946</td>\n",
       "      <td>78946</td>\n",
       "      <td>78946</td>\n",
       "    </tr>\n",
       "    <tr>\n",
       "      <td>bdc</td>\n",
       "      <td>84961</td>\n",
       "      <td>3160</td>\n",
       "      <td>2529</td>\n",
       "      <td>1702</td>\n",
       "      <td>1572</td>\n",
       "      <td>694</td>\n",
       "      <td>5504</td>\n",
       "      <td>2806</td>\n",
       "      <td>738</td>\n",
       "      <td>180</td>\n",
       "      <td>69</td>\n",
       "      <td>36</td>\n",
       "      <td>679</td>\n",
       "      <td>59</td>\n",
       "      <td>59</td>\n",
       "      <td>59</td>\n",
       "      <td>32</td>\n",
       "      <td>32</td>\n",
       "      <td>5444</td>\n",
       "      <td>28</td>\n",
       "      <td>28</td>\n",
       "      <td>28</td>\n",
       "      <td>28</td>\n",
       "      <td>28</td>\n",
       "      <td>93</td>\n",
       "      <td>28</td>\n",
       "      <td>28</td>\n",
       "      <td>28</td>\n",
       "      <td>28</td>\n",
       "      <td>28</td>\n",
       "    </tr>\n",
       "    <tr>\n",
       "      <td>dcc</td>\n",
       "      <td>22410</td>\n",
       "      <td>4442</td>\n",
       "      <td>4442</td>\n",
       "      <td>4442</td>\n",
       "      <td>1153</td>\n",
       "      <td>694</td>\n",
       "      <td>5504</td>\n",
       "      <td>948</td>\n",
       "      <td>948</td>\n",
       "      <td>948</td>\n",
       "      <td>109</td>\n",
       "      <td>95</td>\n",
       "      <td>679</td>\n",
       "      <td>96</td>\n",
       "      <td>96</td>\n",
       "      <td>91</td>\n",
       "      <td>91</td>\n",
       "      <td>84</td>\n",
       "      <td>210</td>\n",
       "      <td>210</td>\n",
       "      <td>92</td>\n",
       "      <td>92</td>\n",
       "      <td>74</td>\n",
       "      <td>74</td>\n",
       "      <td>81</td>\n",
       "      <td>77</td>\n",
       "      <td>76</td>\n",
       "      <td>74</td>\n",
       "      <td>74</td>\n",
       "      <td>74</td>\n",
       "    </tr>\n",
       "    <tr>\n",
       "      <td>ebe</td>\n",
       "      <td>22410</td>\n",
       "      <td>12753</td>\n",
       "      <td>1155</td>\n",
       "      <td>1155</td>\n",
       "      <td>1153</td>\n",
       "      <td>711</td>\n",
       "      <td>5504</td>\n",
       "      <td>298</td>\n",
       "      <td>298</td>\n",
       "      <td>298</td>\n",
       "      <td>151</td>\n",
       "      <td>31</td>\n",
       "      <td>1927</td>\n",
       "      <td>130</td>\n",
       "      <td>36</td>\n",
       "      <td>36</td>\n",
       "      <td>36</td>\n",
       "      <td>16</td>\n",
       "      <td>269</td>\n",
       "      <td>165</td>\n",
       "      <td>165</td>\n",
       "      <td>160</td>\n",
       "      <td>26</td>\n",
       "      <td>13</td>\n",
       "      <td>814</td>\n",
       "      <td>12</td>\n",
       "      <td>12</td>\n",
       "      <td>12</td>\n",
       "      <td>12</td>\n",
       "      <td>12</td>\n",
       "    </tr>\n",
       "  </tbody>\n",
       "</table>\n",
       "</div>"
      ],
      "text/plain": [
       "       5_2    5_5    5_8   5_10   5_20   5_50   10_2   10_5   10_8  10_10  \\\n",
       "bbd  84961  11605   5429   1702   1572    420  79457    298    298    180   \n",
       "bba  84961   1175    648    648    648    648    109    109    109    109   \n",
       "deb  84961   9516    648    648     92     92   5504   1478    245    245   \n",
       "eec  84961   3160    648    648    648    436    109    109    109    109   \n",
       "dec  84961   1175   1175   1175    982    190    109     45     45     45   \n",
       "aac  84961   2585    648    648    648    436    109    109    109    109   \n",
       "ddd  84961  79307  79307  79307  79307  79122  79457  79009  79009  79009   \n",
       "bdc  84961   3160   2529   1702   1572    694   5504   2806    738    180   \n",
       "dcc  22410   4442   4442   4442   1153    694   5504    948    948    948   \n",
       "ebe  22410  12753   1155   1155   1153    711   5504    298    298    298   \n",
       "\n",
       "     10_20  10_50   15_2   15_5   15_8  15_10  15_20  15_50   20_2   20_5  \\\n",
       "bbd    180    139    679    679    679    163    163    126    451    158   \n",
       "bba     69     43    679     96     96     96     68     14     69      4   \n",
       "deb     47     47    679    679     36     36     20     20     60     35   \n",
       "eec    109    109    823    823    132     57     57     57     69     58   \n",
       "dec     45      6     11     11     11     11     11     11     69     43   \n",
       "aac     69     62    679     95     36     36     36     13     60     60   \n",
       "ddd  79009  78961  79906  79118  78950  78950  78950  78947  79006  78981   \n",
       "bdc     69     36    679     59     59     59     32     32   5444     28   \n",
       "dcc    109     95    679     96     96     91     91     84    210    210   \n",
       "ebe    151     31   1927    130     36     36     36     16    269    165   \n",
       "\n",
       "      20_8  20_10  20_20  20_50   50_2   50_5   50_8  50_10  50_20  50_50  \n",
       "bbd    158    158    123    123    151    123    123    123    123    123  \n",
       "bba      4      4      3      3      6      3      3      3      3      3  \n",
       "deb     35     35     20     20    199     20     20     17     17     17  \n",
       "eec     58     58     57     57     58     56     56     56     56     56  \n",
       "dec     43     43     22      6     34     11      6      6      6      6  \n",
       "aac     18     18      2      1     49      3      3      3      1      1  \n",
       "ddd  78979  78948  78948  78948  79071  78946  78946  78946  78946  78946  \n",
       "bdc     28     28     28     28     93     28     28     28     28     28  \n",
       "dcc     92     92     74     74     81     77     76     74     74     74  \n",
       "ebe    165    160     26     13    814     12     12     12     12     12  "
      ]
     },
     "metadata": {},
     "output_type": "display_data"
    }
   ],
   "source": [
    "with pd.option_context('display.max_columns', 100):\n",
    "    with pd.option_context(\"display.float_format\", '{:.2f}'.format):\n",
    "        display(freqtable.head(10))"
   ]
  },
  {
   "cell_type": "markdown",
   "metadata": {},
   "source": [
    "### 3b. Analysis and answers to the questions\n",
    "\n",
    "    3.\tWhat are the 10 most frequent 3-grams and their frequencies when approximated? \n",
    "\t4.\tUse the theory to explain any approximation errors you observe. (criteria: The 3-gram count approximation is correct, and its quality is related to theory)\n"
   ]
  },
  {
   "cell_type": "code",
   "execution_count": 64,
   "metadata": {},
   "outputs": [
    {
     "name": "stdout",
     "output_type": "stream",
     "text": [
      "w,d 200 10\n"
     ]
    }
   ],
   "source": [
    "#Based on sketch accuracy(page 4) in the paper http://dimacs.rutgers.edu/~graham/pubs/papers/cmsoft.pdf\n",
    "error     = .01  # Error of at most 0.01\n",
    "certainty = .999 # with 99.9% certainty\n",
    "optimal = pd.DataFrame()\n",
    "w = math.ceil(2 / error)\n",
    "d = math.ceil(np.log(1 - certainty) / np.log(1/2))\n",
    "optimal['cm_%d_%d' % (w,d)] = count_min_sketch(n_gram, w, d)\n",
    "print(\"w,d\",w,d)"
   ]
  },
  {
   "cell_type": "code",
   "execution_count": 65,
   "metadata": {},
   "outputs": [
    {
     "data": {
      "text/html": [
       "<div>\n",
       "<style scoped>\n",
       "    .dataframe tbody tr th:only-of-type {\n",
       "        vertical-align: middle;\n",
       "    }\n",
       "\n",
       "    .dataframe tbody tr th {\n",
       "        vertical-align: top;\n",
       "    }\n",
       "\n",
       "    .dataframe thead th {\n",
       "        text-align: right;\n",
       "    }\n",
       "</style>\n",
       "<table border=\"1\" class=\"dataframe\">\n",
       "  <thead>\n",
       "    <tr style=\"text-align: right;\">\n",
       "      <th></th>\n",
       "      <th>cm_200_10</th>\n",
       "    </tr>\n",
       "  </thead>\n",
       "  <tbody>\n",
       "    <tr>\n",
       "      <td>ddd</td>\n",
       "      <td>78946</td>\n",
       "    </tr>\n",
       "    <tr>\n",
       "      <td>ded</td>\n",
       "      <td>8020</td>\n",
       "    </tr>\n",
       "    <tr>\n",
       "      <td>dde</td>\n",
       "      <td>7968</td>\n",
       "    </tr>\n",
       "    <tr>\n",
       "      <td>edd</td>\n",
       "      <td>7962</td>\n",
       "    </tr>\n",
       "    <tr>\n",
       "      <td>ccc</td>\n",
       "      <td>3231</td>\n",
       "    </tr>\n",
       "    <tr>\n",
       "      <td>ccb</td>\n",
       "      <td>2938</td>\n",
       "    </tr>\n",
       "    <tr>\n",
       "      <td>bcc</td>\n",
       "      <td>2819</td>\n",
       "    </tr>\n",
       "    <tr>\n",
       "      <td>cbc</td>\n",
       "      <td>2434</td>\n",
       "    </tr>\n",
       "    <tr>\n",
       "      <td>bbb</td>\n",
       "      <td>1886</td>\n",
       "    </tr>\n",
       "    <tr>\n",
       "      <td>ede</td>\n",
       "      <td>884</td>\n",
       "    </tr>\n",
       "  </tbody>\n",
       "</table>\n",
       "</div>"
      ],
      "text/plain": [
       "     cm_200_10\n",
       "ddd      78946\n",
       "ded       8020\n",
       "dde       7968\n",
       "edd       7962\n",
       "ccc       3231\n",
       "ccb       2938\n",
       "bcc       2819\n",
       "cbc       2434\n",
       "bbb       1886\n",
       "ede        884"
      ]
     },
     "metadata": {},
     "output_type": "display_data"
    }
   ],
   "source": [
    "with pd.option_context('display.max_columns', 1000):\n",
    "    display(optimal.head(10))"
   ]
  },
  {
   "cell_type": "markdown",
   "metadata": {},
   "source": [
    "The above table is the 10 most frequent 3grams based on the count min-sketch algorithm.Since the value for the width and depth were optimized we notice that these 10 3grams coincide with the actual 10 most frequent 3grams in the dataset.When the value of w is very small there will be more no of hash collisions.As mentioned in the paper this translates into a expected fraction of weight colliding with i being at most N/w. In some cases, the colliding weight will be less than this; in other cases  the colliding weight will be more.Tthe hash functions  per row are different each time, they give a different mapping of an item to counters, and so a different collection of items collide with i in each row.So we need a good approximation of both values to ensure minimal collisions and minimal colliding weights. “Suppose we want an error of at most 0.1% (of the sum of all frequencies), with 99.9% certainty. Then we want 2/w = 1/1000, we set w = 2000, and 1 2 d = 0.001, i.e. d = log 0.001/ log 0.5 ≤ 10.” - (page 4) in the paper http://dimacs.rutgers.edu/~graham/pubs/papers/cmsoft.pdf"
   ]
  },
  {
   "cell_type": "markdown",
   "metadata": {},
   "source": [
    "<a id='4'></a>"
   ]
  },
  {
   "cell_type": "markdown",
   "metadata": {},
   "source": [
    "## 4. Min-wise locality sensitive hashing task – 1/2 A4 (Individual)\n",
    "\n",
    "Implement min-wise locality sensitive hashing as explained in the slides and the documents on Brightspace. This can be used to quickly compute the Jaccard distance for N-gram profiles. \n",
    "\n",
    "\t1.\tUse the discretization from task 1, build 3-gram profiles for every individual connection (pair of IP-addresses). \n",
    "\t2.\tFor this task, the profiles are binary, an N-gram (subsequence) exists (a 1 in the table) or does not (a 0 in the table). \n",
    "\t3.\tUse min-wise LSH to map the 3-gram profiles to a small set of bins of your choice. (Criteria: The number of bins is set sensibly)\n",
    "\t4.\tCompare the run-time of a pair-wise distance computation with one that only considers profiles that end in the same bin. \n",
    "\t5.\tExplain any differences you observe. (criteria: The resulting comparison explains differences in run-time and quality.)"
   ]
  },
  {
   "cell_type": "markdown",
   "metadata": {},
   "source": [
    "<a id='4a'></a>"
   ]
  },
  {
   "cell_type": "markdown",
   "metadata": {},
   "source": [
    "### 4a. Implementation\n",
    "    1.\tUse the discretization from task 1, build 3-gram profiles for every individual connection (pair of IP-addresses). \n",
    "\t2.\tFor this task, the profiles are binary, an N-gram (subsequence) exists (a 1 in the table) or does not (a 0 in the table). \n",
    "\t3.\tUse min-wise LSH to map the 3-gram profiles to a small set of bins of your choice. (Criteria: The number of bins is set sensibly)"
   ]
  },
  {
   "cell_type": "code",
   "execution_count": 69,
   "metadata": {},
   "outputs": [
    {
     "name": "stderr",
     "output_type": "stream",
     "text": [
      "C:\\tools\\Anaconda3\\envs\\Cyber Data analytics\\lib\\site-packages\\ipykernel_launcher.py:6: SettingWithCopyWarning: \n",
      "A value is trying to be set on a copy of a slice from a DataFrame.\n",
      "Try using .loc[row_indexer,col_indexer] = value instead\n",
      "\n",
      "See the caveats in the documentation: https://pandas.pydata.org/pandas-docs/stable/user_guide/indexing.html#returning-a-view-versus-a-copy\n",
      "  \n"
     ]
    }
   ],
   "source": [
    "# Get Values to discretize\n",
    "val = data_no_background['TotPkts'].values\n",
    "TotPkts_disc = discretize(val, 3)\n",
    "\n",
    "# add discretized values to the dataframe\n",
    "data_no_background['Discrete_TotPkts'] = TotPkts_disc\n",
    "feat = ['Proto', 'Discrete_TotPkts']\n",
    "\n",
    "# Select only values associated with the infected host we want to look at\n",
    "infected_data = data_no_background[np.logical_or(data_no_background['SrcAddr']==infected_hosts[0], data_no_background['DstAddr']==infected_hosts[0])]\n",
    "infected_data = infected_data[feat].values # selects values of Proto and Discrete_Totpkts\n",
    "infected_code = extract_code(infected_data) # Convert the Proto and Discrete_Totpkts to a new code\n",
    "\n",
    "# Get values from a normal host to compare\n",
    "clean_data = data_no_background[np.logical_or(data_no_background['SrcAddr']==normal_hosts[0], data_no_background['DstAddr']==normal_hosts[0])][feat].values\n",
    "test_code= extract_code(clean_data)"
   ]
  },
  {
   "cell_type": "code",
   "execution_count": 164,
   "metadata": {},
   "outputs": [
    {
     "ename": "AttributeError",
     "evalue": "'DataFrame' object has no attribute 'count_values'",
     "output_type": "error",
     "traceback": [
      "\u001b[1;31m---------------------------------------------------------------------------\u001b[0m",
      "\u001b[1;31mAttributeError\u001b[0m                            Traceback (most recent call last)",
      "\u001b[1;32m<ipython-input-164-b4d0af641f20>\u001b[0m in \u001b[0;36m<module>\u001b[1;34m\u001b[0m\n\u001b[1;32m----> 1\u001b[1;33m \u001b[0mdata_no_background\u001b[0m\u001b[1;33m.\u001b[0m\u001b[0mcount_values\u001b[0m\u001b[1;33m(\u001b[0m\u001b[1;33m)\u001b[0m\u001b[1;33m\u001b[0m\u001b[1;33m\u001b[0m\u001b[0m\n\u001b[0m",
      "\u001b[1;32mC:\\tools\\Anaconda3\\envs\\Cyber Data analytics\\lib\\site-packages\\pandas\\core\\generic.py\u001b[0m in \u001b[0;36m__getattr__\u001b[1;34m(self, name)\u001b[0m\n\u001b[0;32m   5272\u001b[0m             \u001b[1;32mif\u001b[0m \u001b[0mself\u001b[0m\u001b[1;33m.\u001b[0m\u001b[0m_info_axis\u001b[0m\u001b[1;33m.\u001b[0m\u001b[0m_can_hold_identifiers_and_holds_name\u001b[0m\u001b[1;33m(\u001b[0m\u001b[0mname\u001b[0m\u001b[1;33m)\u001b[0m\u001b[1;33m:\u001b[0m\u001b[1;33m\u001b[0m\u001b[1;33m\u001b[0m\u001b[0m\n\u001b[0;32m   5273\u001b[0m                 \u001b[1;32mreturn\u001b[0m \u001b[0mself\u001b[0m\u001b[1;33m[\u001b[0m\u001b[0mname\u001b[0m\u001b[1;33m]\u001b[0m\u001b[1;33m\u001b[0m\u001b[1;33m\u001b[0m\u001b[0m\n\u001b[1;32m-> 5274\u001b[1;33m             \u001b[1;32mreturn\u001b[0m \u001b[0mobject\u001b[0m\u001b[1;33m.\u001b[0m\u001b[0m__getattribute__\u001b[0m\u001b[1;33m(\u001b[0m\u001b[0mself\u001b[0m\u001b[1;33m,\u001b[0m \u001b[0mname\u001b[0m\u001b[1;33m)\u001b[0m\u001b[1;33m\u001b[0m\u001b[1;33m\u001b[0m\u001b[0m\n\u001b[0m\u001b[0;32m   5275\u001b[0m \u001b[1;33m\u001b[0m\u001b[0m\n\u001b[0;32m   5276\u001b[0m     \u001b[1;32mdef\u001b[0m \u001b[0m__setattr__\u001b[0m\u001b[1;33m(\u001b[0m\u001b[0mself\u001b[0m\u001b[1;33m,\u001b[0m \u001b[0mname\u001b[0m\u001b[1;33m:\u001b[0m \u001b[0mstr\u001b[0m\u001b[1;33m,\u001b[0m \u001b[0mvalue\u001b[0m\u001b[1;33m)\u001b[0m \u001b[1;33m->\u001b[0m \u001b[1;32mNone\u001b[0m\u001b[1;33m:\u001b[0m\u001b[1;33m\u001b[0m\u001b[1;33m\u001b[0m\u001b[0m\n",
      "\u001b[1;31mAttributeError\u001b[0m: 'DataFrame' object has no attribute 'count_values'"
     ]
    }
   ],
   "source": []
  },
  {
   "cell_type": "code",
   "execution_count": 143,
   "metadata": {},
   "outputs": [
    {
     "name": "stdout",
     "output_type": "stream",
     "text": [
      "557\n"
     ]
    }
   ],
   "source": [
    "# Generate all possible IP-pairs\n",
    "ip_pairs = set()\n",
    "for index, row in data_no_background.iterrows():\n",
    "    pair = (row['SrcAddr'], row['DstAddr'])\n",
    "    if not (row['DstAddr'], row['SrcAddr']) in ip_pairs:\n",
    "        if not pair in ip_pairs:\n",
    "            ip_pairs.add(pair)\n",
    "print(f'amount of pairs: {len(ip_pairs)}')"
   ]
  },
  {
   "cell_type": "markdown",
   "metadata": {},
   "source": [
    "We want to reach the following matrix:\n",
    "\n",
    "3-gram     ip_pair1     ip_pair2\n",
    "000        0            1\n",
    "001        1            1\n",
    "011        0            0"
   ]
  },
  {
   "cell_type": "code",
   "execution_count": 182,
   "metadata": {},
   "outputs": [
    {
     "name": "stderr",
     "output_type": "stream",
     "text": [
      "C:\\tools\\Anaconda3\\envs\\Cyber Data analytics\\lib\\site-packages\\ipykernel_launcher.py:41: DeprecationWarning: The default dtype for empty Series will be 'object' instead of 'float64' in a future version. Specify a dtype explicitly to silence this warning.\n"
     ]
    },
    {
     "name": "stdout",
     "output_type": "stream",
     "text": [
      "('147.32.1.20', '147.32.85.20')\n",
      "[1 1 1 1 1 1 1 1 1 1 1 1 1 1 1 1]\n",
      "('147.32.1.20', '147.32.86.176')\n",
      "[1 1 1 1 1 1 1 1 1 1 1 1 1 1 1 1 1 1 1 1 1 1 1 1 1 1 1]\n",
      "('147.32.1.20', '147.32.85.8')\n",
      "[1 1 1 1 1 1 1 1 1 1 1 1 1 1 1 1 1 1 1 1 1 1 1]\n",
      "('147.32.1.20', '147.32.86.155')\n",
      "[1 1 1 1 1 1 1 1 1 1 1 1 1 1 1 1 1 1 1 1]\n",
      "('147.32.1.20', '147.32.86.168')\n",
      "[1 1 1 1 1 1 1 1 1 1 1 1 1 1 1 1 1 1 1 1]\n",
      "('147.32.1.20', '147.32.85.7')\n",
      "[1 1 1 1 1 1 1 1 1 1 1 1 1 1 1 1 1 1 1 1 1 1 1 1 1 1 1 1 1 1 1 1 1 1 1 1 1\n",
      " 1 1 1]\n"
     ]
    },
    {
     "data": {
      "text/html": [
       "<div>\n",
       "<style scoped>\n",
       "    .dataframe tbody tr th:only-of-type {\n",
       "        vertical-align: middle;\n",
       "    }\n",
       "\n",
       "    .dataframe tbody tr th {\n",
       "        vertical-align: top;\n",
       "    }\n",
       "\n",
       "    .dataframe thead th {\n",
       "        text-align: right;\n",
       "    }\n",
       "</style>\n",
       "<table border=\"1\" class=\"dataframe\">\n",
       "  <thead>\n",
       "    <tr style=\"text-align: right;\">\n",
       "      <th></th>\n",
       "      <th>(147.32.84.165, 147.32.96.69)</th>\n",
       "      <th>(147.32.84.164, 90.183.112.34)</th>\n",
       "      <th>(147.32.84.164, 209.85.149.189)</th>\n",
       "      <th>(147.32.84.170, 63.245.209.93)</th>\n",
       "      <th>(147.32.80.9, 147.32.86.134)</th>\n",
       "      <th>(147.32.84.208, 65.55.56.40)</th>\n",
       "      <th>(147.32.84.205, 65.55.56.40)</th>\n",
       "      <th>(147.32.84.170, 209.85.148.105)</th>\n",
       "      <th>(147.32.84.134, 209.85.148.96)</th>\n",
       "      <th>(147.32.84.206, 74.125.232.201)</th>\n",
       "      <th>...</th>\n",
       "      <th>(147.32.84.134, 209.85.148.99)</th>\n",
       "      <th>(147.32.84.170, 80.82.157.71)</th>\n",
       "      <th>(147.32.84.134, 80.239.149.11)</th>\n",
       "      <th>(147.32.84.208, 147.32.80.9)</th>\n",
       "      <th>(147.32.84.164, 147.32.96.69)</th>\n",
       "      <th>(147.32.84.170, 209.85.149.102)</th>\n",
       "      <th>(147.32.84.164, 74.125.232.221)</th>\n",
       "      <th>(147.32.84.164, 74.125.232.210)</th>\n",
       "      <th>(147.32.84.192, 147.32.80.9)</th>\n",
       "      <th>(147.32.80.9, 147.32.84.2)</th>\n",
       "    </tr>\n",
       "  </thead>\n",
       "  <tbody>\n",
       "    <tr>\n",
       "      <th>(0, 0, 0)</th>\n",
       "      <td>0</td>\n",
       "      <td>1</td>\n",
       "      <td>1</td>\n",
       "      <td>0</td>\n",
       "      <td>0</td>\n",
       "      <td>0</td>\n",
       "      <td>0</td>\n",
       "      <td>0</td>\n",
       "      <td>0</td>\n",
       "      <td>0</td>\n",
       "      <td>...</td>\n",
       "      <td>0</td>\n",
       "      <td>0</td>\n",
       "      <td>0</td>\n",
       "      <td>0</td>\n",
       "      <td>1</td>\n",
       "      <td>0</td>\n",
       "      <td>1</td>\n",
       "      <td>1</td>\n",
       "      <td>0</td>\n",
       "      <td>0</td>\n",
       "    </tr>\n",
       "    <tr>\n",
       "      <th>(0, 0, 2)</th>\n",
       "      <td>0</td>\n",
       "      <td>0</td>\n",
       "      <td>0</td>\n",
       "      <td>1</td>\n",
       "      <td>0</td>\n",
       "      <td>0</td>\n",
       "      <td>0</td>\n",
       "      <td>1</td>\n",
       "      <td>0</td>\n",
       "      <td>0</td>\n",
       "      <td>...</td>\n",
       "      <td>1</td>\n",
       "      <td>1</td>\n",
       "      <td>0</td>\n",
       "      <td>0</td>\n",
       "      <td>0</td>\n",
       "      <td>1</td>\n",
       "      <td>0</td>\n",
       "      <td>0</td>\n",
       "      <td>0</td>\n",
       "      <td>0</td>\n",
       "    </tr>\n",
       "    <tr>\n",
       "      <th>(0, 0, 4)</th>\n",
       "      <td>0</td>\n",
       "      <td>1</td>\n",
       "      <td>1</td>\n",
       "      <td>0</td>\n",
       "      <td>0</td>\n",
       "      <td>0</td>\n",
       "      <td>0</td>\n",
       "      <td>0</td>\n",
       "      <td>0</td>\n",
       "      <td>0</td>\n",
       "      <td>...</td>\n",
       "      <td>0</td>\n",
       "      <td>0</td>\n",
       "      <td>0</td>\n",
       "      <td>0</td>\n",
       "      <td>1</td>\n",
       "      <td>0</td>\n",
       "      <td>1</td>\n",
       "      <td>1</td>\n",
       "      <td>0</td>\n",
       "      <td>0</td>\n",
       "    </tr>\n",
       "    <tr>\n",
       "      <th>(0, 2, 2)</th>\n",
       "      <td>0</td>\n",
       "      <td>0</td>\n",
       "      <td>0</td>\n",
       "      <td>1</td>\n",
       "      <td>0</td>\n",
       "      <td>0</td>\n",
       "      <td>0</td>\n",
       "      <td>1</td>\n",
       "      <td>1</td>\n",
       "      <td>0</td>\n",
       "      <td>...</td>\n",
       "      <td>1</td>\n",
       "      <td>1</td>\n",
       "      <td>1</td>\n",
       "      <td>0</td>\n",
       "      <td>0</td>\n",
       "      <td>1</td>\n",
       "      <td>0</td>\n",
       "      <td>0</td>\n",
       "      <td>0</td>\n",
       "      <td>0</td>\n",
       "    </tr>\n",
       "    <tr>\n",
       "      <th>(0, 2, 4)</th>\n",
       "      <td>0</td>\n",
       "      <td>0</td>\n",
       "      <td>0</td>\n",
       "      <td>1</td>\n",
       "      <td>0</td>\n",
       "      <td>0</td>\n",
       "      <td>0</td>\n",
       "      <td>1</td>\n",
       "      <td>0</td>\n",
       "      <td>0</td>\n",
       "      <td>...</td>\n",
       "      <td>0</td>\n",
       "      <td>1</td>\n",
       "      <td>0</td>\n",
       "      <td>0</td>\n",
       "      <td>0</td>\n",
       "      <td>1</td>\n",
       "      <td>0</td>\n",
       "      <td>0</td>\n",
       "      <td>0</td>\n",
       "      <td>0</td>\n",
       "    </tr>\n",
       "  </tbody>\n",
       "</table>\n",
       "<p>5 rows × 557 columns</p>\n",
       "</div>"
      ],
      "text/plain": [
       "           (147.32.84.165, 147.32.96.69)  (147.32.84.164, 90.183.112.34)  \\\n",
       "(0, 0, 0)                              0                               1   \n",
       "(0, 0, 2)                              0                               0   \n",
       "(0, 0, 4)                              0                               1   \n",
       "(0, 2, 2)                              0                               0   \n",
       "(0, 2, 4)                              0                               0   \n",
       "\n",
       "           (147.32.84.164, 209.85.149.189)  (147.32.84.170, 63.245.209.93)  \\\n",
       "(0, 0, 0)                                1                               0   \n",
       "(0, 0, 2)                                0                               1   \n",
       "(0, 0, 4)                                1                               0   \n",
       "(0, 2, 2)                                0                               1   \n",
       "(0, 2, 4)                                0                               1   \n",
       "\n",
       "           (147.32.80.9, 147.32.86.134)  (147.32.84.208, 65.55.56.40)  \\\n",
       "(0, 0, 0)                             0                             0   \n",
       "(0, 0, 2)                             0                             0   \n",
       "(0, 0, 4)                             0                             0   \n",
       "(0, 2, 2)                             0                             0   \n",
       "(0, 2, 4)                             0                             0   \n",
       "\n",
       "           (147.32.84.205, 65.55.56.40)  (147.32.84.170, 209.85.148.105)  \\\n",
       "(0, 0, 0)                             0                                0   \n",
       "(0, 0, 2)                             0                                1   \n",
       "(0, 0, 4)                             0                                0   \n",
       "(0, 2, 2)                             0                                1   \n",
       "(0, 2, 4)                             0                                1   \n",
       "\n",
       "           (147.32.84.134, 209.85.148.96)  (147.32.84.206, 74.125.232.201)  \\\n",
       "(0, 0, 0)                               0                                0   \n",
       "(0, 0, 2)                               0                                0   \n",
       "(0, 0, 4)                               0                                0   \n",
       "(0, 2, 2)                               1                                0   \n",
       "(0, 2, 4)                               0                                0   \n",
       "\n",
       "           ...  (147.32.84.134, 209.85.148.99)  (147.32.84.170, 80.82.157.71)  \\\n",
       "(0, 0, 0)  ...                               0                              0   \n",
       "(0, 0, 2)  ...                               1                              1   \n",
       "(0, 0, 4)  ...                               0                              0   \n",
       "(0, 2, 2)  ...                               1                              1   \n",
       "(0, 2, 4)  ...                               0                              1   \n",
       "\n",
       "           (147.32.84.134, 80.239.149.11)  (147.32.84.208, 147.32.80.9)  \\\n",
       "(0, 0, 0)                               0                             0   \n",
       "(0, 0, 2)                               0                             0   \n",
       "(0, 0, 4)                               0                             0   \n",
       "(0, 2, 2)                               1                             0   \n",
       "(0, 2, 4)                               0                             0   \n",
       "\n",
       "           (147.32.84.164, 147.32.96.69)  (147.32.84.170, 209.85.149.102)  \\\n",
       "(0, 0, 0)                              1                                0   \n",
       "(0, 0, 2)                              0                                1   \n",
       "(0, 0, 4)                              1                                0   \n",
       "(0, 2, 2)                              0                                1   \n",
       "(0, 2, 4)                              0                                1   \n",
       "\n",
       "           (147.32.84.164, 74.125.232.221)  (147.32.84.164, 74.125.232.210)  \\\n",
       "(0, 0, 0)                                1                                1   \n",
       "(0, 0, 2)                                0                                0   \n",
       "(0, 0, 4)                                1                                1   \n",
       "(0, 2, 2)                                0                                0   \n",
       "(0, 2, 4)                                0                                0   \n",
       "\n",
       "           (147.32.84.192, 147.32.80.9)  (147.32.80.9, 147.32.84.2)  \n",
       "(0, 0, 0)                             0                           0  \n",
       "(0, 0, 2)                             0                           0  \n",
       "(0, 0, 4)                             0                           0  \n",
       "(0, 2, 2)                             0                           0  \n",
       "(0, 2, 4)                             0                           0  \n",
       "\n",
       "[5 rows x 557 columns]"
      ]
     },
     "execution_count": 182,
     "metadata": {},
     "output_type": "execute_result"
    }
   ],
   "source": [
    "from nltk import ngrams\n",
    "\n",
    "def n_grams_set(n, data):\n",
    "    return set([gr for gr in ngrams(data, n)])\n",
    "\n",
    "# Convert to function for multiple scenarios?\n",
    "\n",
    "# Find out all possible code values\n",
    "total_data = data_no_background[['Proto', 'Discrete_TotPkts']].values # selects values of Proto and Discrete_Totpkts\n",
    "total_codes = extract_code(total_data)\n",
    "possible_vals = np.unique(total_codes)\n",
    "\n",
    "# first create a dataframe containing all possible indices:\n",
    "indices = set()\n",
    "max_val = max(possible_vals) + 1\n",
    "for one in range(0, max_val):\n",
    "    for two in range(0, max_val):\n",
    "        for three in range(0, max_val):\n",
    "            indices.add((one, two, three))\n",
    "result_df = pd.DataFrame(columns=sorted(list(indices)))\n",
    "\n",
    "# For every pair: discretize the value\n",
    "for pair in ip_pairs:\n",
    "    \n",
    "    # Get all data associated with the pair\n",
    "    pair_data = data_no_background[\n",
    "        np.logical_or(\n",
    "            np.logical_or(data_no_background['SrcAddr']==pair[0], data_no_background['DstAddr']==pair[1]),\n",
    "            np.logical_or(data_no_background['SrcAddr']==pair[1], data_no_background['DstAddr']==pair[0]))]\n",
    "    pair_data = pair_data[['Proto', 'Discrete_TotPkts']].values # selects values of Proto and Discrete_Totpkts\n",
    "    pair_code = extract_code(pair_data) # Convert the Proto and Discrete_Totpkts to a new code    \n",
    "    \n",
    "    # We now have [4 4 2 ... 6 6 6] for this pair, we want to get the unique n_grams\n",
    "    pair_set = n_grams_set(3, pair_code)\n",
    "    \n",
    "    # We add a row to the resulting dataframe with the title of the pair\n",
    "    result_df = result_df.append(pd.Series(name=pair))\n",
    "    \n",
    "    # For every 3-gram present in the pair we add a 1\n",
    "    for val in pair_set:\n",
    "        result_df.loc[pair, val] = 1\n",
    "        \n",
    "# Drop all non used tri-gram pairs and fill the na with 0\n",
    "result_df.dropna(how='all', axis=1, inplace=True)\n",
    "result_df.fillna(0, inplace = True)\n",
    "result_df = result_df.transpose()\n",
    "result_df.head()"
   ]
  },
  {
   "cell_type": "code",
   "execution_count": 222,
   "metadata": {},
   "outputs": [
    {
     "name": "stdout",
     "output_type": "stream",
     "text": [
      "[3821414792, 2123031063, 3709210156, 2711576546, 2699861516, 3839701711, 1964726520, 3477901741, 41127606, 2781008980, 3333822496, 2931935677, 1710760875, 2576183944, 3333685452, 941017254, 1418836495, 8738285, 2236131300, 2527806351, 1669026371, 1741235415, 2209824094, 1144335434, 1046672678, 1306732715, 2220514239, 3554489332, 2977578178, 2379738569, 3939685625, 2158764161, 1535533607, 3041845050, 2880801758, 1823120049, 1457145809, 3084689613, 3560451671, 2532528726, 2541187973, 3384732939, 3511861689, 4072109702, 2816925751, 3161781565, 963520376, 3622247320, 10997528, 60819886, 2828001093, 3925314963, 3749002991, 2200864892, 3678391611, 710497766, 3338669721, 2676896367, 1527518444, 3864880889, 1216438996, 646413522, 986589753, 1989413392, 932166244, 199278646, 330658048, 2239283590, 2737485560, 1630448931, 525678154, 1589565164, 130635396, 3697881070, 3547576998, 1646441064, 907206954, 2806048444, 1534401076, 2658447159, 605178577, 2736775176, 2187419875, 2213704623, 1434049814, 3780574385, 359033314, 974085559, 3995787138, 1673924214, 869901815, 2055727791, 665388195, 1306993, 3579609767, 2033121694, 642377443, 3374930399, 3833358658, 2614713738]\n",
      "0.664071798324585\n"
     ]
    }
   ],
   "source": [
    "import random\n",
    "import time\n",
    "\n",
    "def universal_hashing():\n",
    "    # Source: https://github.com/4d55397500/learning-scraps/blob/master/minhash/minhash.py\n",
    "    def rand_prime():\n",
    "        while True:\n",
    "            p = random.randrange(2 ** 32, 2 ** 34, 2)\n",
    "            if all(p % n != 0 for n in range(3, int((p ** 0.5) + 1), 2)):\n",
    "                return p\n",
    "    m = 2 ** 32 - 1\n",
    "    p = rand_prime()\n",
    "    a = random.randint(0, p)\n",
    "    if a % 2 == 0:\n",
    "        a += 1\n",
    "    b = random.randint(0, p)\n",
    "    def h(x):\n",
    "        return ((a * x + b) % p) % m\n",
    "    return h\n",
    "\n",
    "def minhash(dataframe, N_HASHES=10):\n",
    "    df_to_hash = dataframe.copy()\n",
    "    \n",
    "    # Generate a list of hash functions\n",
    "    hash_funcs = []\n",
    "    for i in range(N_HASHES):\n",
    "        hash_funcs.append(universal_hashing())\n",
    "    print([h(0) for h in hash_funcs])\n",
    "    return\n",
    "    df_hashed = pd.DataFrame(index=range(0,N_HASHES), columns=df_to_hash.columns)\n",
    "    # df hashed:\n",
    "    #     ip_pair1   ip_pair2\n",
    "    # h1\n",
    "    # h2\n",
    "    # h3\n",
    "    df_hashed = df_hashed.fillna(100000000000)\n",
    "    \n",
    "    # We need a new index so we start from 1 again\n",
    "    df_to_hash.index = np.arange(1, len(test) + 1)\n",
    "    \n",
    "    for index_to_hash, tri_gram_row in df_to_hash.iterrows():\n",
    "        for ip_pair in df_to_hash.columns:\n",
    "#             print(tri_gram_row)\n",
    "            if tri_gram_row[ip_pair] == 1:\n",
    "                # If the tri_gram[ip_pair] value == 1 we calculate all hash functions using index_to_hash and get the minimum\n",
    "                # tri_gram[ip_pair] value == 1\n",
    "                for index_hashed, hash_row in df_hashed.iterrows():\n",
    "                    # For all hash functions calculate the new value using the index_to_hash\n",
    "                    new_val = hash_funcs[index_hashed](index_to_hash)\n",
    "                    old_val = hash_row[ip_pair]\n",
    "#                     print(f'index_hashed: {index_hashed}, ip_pair: {ip_pair}')\n",
    "#                     print(f'new_val: {new_val}, old_val: {old_val}')\n",
    "                    \n",
    "                    df_hashed.at[index_hashed, ip_pair] = min(old_val, new_val)\n",
    "        if index_to_hash % 50 == 0:\n",
    "            print(time.time() - start)            \n",
    "    return df_hashed\n",
    "start = time.time()\n",
    "minhashed_df = minhash(result_df, N_HASHES=100)\n",
    "print(time.time() - start)\n",
    "minhashed_df"
   ]
  },
  {
   "cell_type": "code",
   "execution_count": 150,
   "metadata": {},
   "outputs": [
    {
     "data": {
      "text/html": [
       "<div>\n",
       "<style scoped>\n",
       "    .dataframe tbody tr th:only-of-type {\n",
       "        vertical-align: middle;\n",
       "    }\n",
       "\n",
       "    .dataframe tbody tr th {\n",
       "        vertical-align: top;\n",
       "    }\n",
       "\n",
       "    .dataframe thead th {\n",
       "        text-align: right;\n",
       "    }\n",
       "</style>\n",
       "<table border=\"1\" class=\"dataframe\">\n",
       "  <thead>\n",
       "    <tr style=\"text-align: right;\">\n",
       "      <th></th>\n",
       "      <th>0</th>\n",
       "      <th>1</th>\n",
       "      <th>2</th>\n",
       "      <th>3</th>\n",
       "      <th>4</th>\n",
       "      <th>5</th>\n",
       "      <th>6</th>\n",
       "      <th>7</th>\n",
       "      <th>8</th>\n",
       "      <th>9</th>\n",
       "    </tr>\n",
       "  </thead>\n",
       "  <tbody>\n",
       "  </tbody>\n",
       "</table>\n",
       "</div>"
      ],
      "text/plain": [
       "Empty DataFrame\n",
       "Columns: [0, 1, 2, 3, 4, 5, 6, 7, 8, 9]\n",
       "Index: []"
      ]
     },
     "execution_count": 150,
     "metadata": {},
     "output_type": "execute_result"
    }
   ],
   "source": []
  },
  {
   "cell_type": "code",
   "execution_count": null,
   "metadata": {},
   "outputs": [],
   "source": [
    "def jaccard_similarity(pair_1, pair_2)\n",
    "    d1 = set(pair_1)\n",
    "    d2 = set(pair_2)\n",
    "    jacc_sim = len(d1.intersection(d2)) / len(d1.union(d2))\n",
    "    print(\"jaccard similarity: {}\".format(jacc_sim))\n",
    "\n",
    "    \n",
    "\n",
    "#     m1 = [min([h(e) for e in d1]) for h in hash_funcs]\n",
    "#     m2 = [min([h(e) for e in d2]) for h in hash_funcs]\n",
    "    \n",
    "#     minhash_sim = sum([int(m1[i] == m2[i]) for i in range(N_HASHES)]) / N_HASHES\n",
    "#     print(\"min-hash similarity: {}\".format(minhash_sim))"
   ]
  },
  {
   "cell_type": "markdown",
   "metadata": {},
   "source": [
    "Steps to execute are:\n",
    "\n",
    "\t1.\tCombine feature from 2 discretized features.\n",
    "\t2.\tThink of an alphabet for which to make your grams\n",
    "\t3.\tusing that alphabet, per IP-pair make 3 grams of the whole connection\n",
    "\t4.\tmaintain a list/dict per IP-pair containing absence or presence of 3-gram\n",
    "\t5.  Use min-wise LSH to map the 3-gram profiles to a small set of bins of your choice. (Criteria: The number of bins is set sensibly)\n",
    "\t6.  Compare the run-time of a pair-wise distance computation with one that only considers profiles that end in the same bin. \n",
    "\t7.  Explain any differences you observe. (criteria: The resulting comparison explains differences in run-time and quality.)"
   ]
  },
  {
   "cell_type": "markdown",
   "metadata": {},
   "source": [
    "<a id='4b'></a>"
   ]
  },
  {
   "cell_type": "markdown",
   "metadata": {},
   "source": [
    "### 4b. Analysis and answers to the questions\n",
    "    \n",
    "    4.\tCompare the run-time of a pair-wise distance computation with one that only considers profiles that end in the same bin. \n",
    "\t5.\tExplain any differences you observe. (criteria: The resulting comparison explains differences in run-time and quality.)"
   ]
  },
  {
   "cell_type": "code",
   "execution_count": null,
   "metadata": {},
   "outputs": [],
   "source": []
  },
  {
   "cell_type": "markdown",
   "metadata": {},
   "source": [
    "<a id='5'></a>"
   ]
  },
  {
   "cell_type": "markdown",
   "metadata": {},
   "source": [
    "## 5. Random hyperplane locality sensitive hashing task – 1/2 A4 (Individual)\n",
    "\n",
    "Implement locality sensitive hashing using random hyperplanes as explained in the slides and the documents on Brightspace. This can be used to quickly compute Euclidean distance for N-gram profiles.\n",
    "\n",
    "\t1.\tUse the discretization from task 1, build 3-gram profiles for every individual connection (pair of IP-addresses). \n",
    "\t2.\tFor this task, the profiles are countsfor every possible 3-gram (subsequence).\n",
    "\t3.\tUse random hyperplanes LSH to map the N-gram profiles to a small set of bins of your choice. \n",
    "\t4.\tCompare the run-time of a pair-wise distance computation with one that only considers profiles that end in the same bin. (criteria: The number of bins is set sensibly)\n",
    "\t5.\tExplain any differences you observe. (criteria: The resulting comparison explains differences in run-time and quality.)\n"
   ]
  },
  {
   "cell_type": "markdown",
   "metadata": {},
   "source": [
    "<a id='5a'></a>"
   ]
  },
  {
   "cell_type": "markdown",
   "metadata": {},
   "source": [
    "### 5a. Implementation - locality sensitive hashing\n",
    "\n",
    "    1.\tUse the discretization from task 1, build 3-gram profilesfor every individual connection (pair of IP-addresses). \n",
    "\t2.\tFor this task, the profiles are countsfor every possible 3-gram (subsequence).\n",
    "\t3.\tUse random hyperplanes LSH to map the N-gram profiles to a small set of bins of your choice. "
   ]
  },
  {
   "cell_type": "code",
   "execution_count": null,
   "metadata": {},
   "outputs": [],
   "source": []
  },
  {
   "cell_type": "markdown",
   "metadata": {},
   "source": [
    "<a id='5b'></a>"
   ]
  },
  {
   "cell_type": "markdown",
   "metadata": {},
   "source": [
    "### 5b. Analysis and answers to the questions. Also provide relevant plots.\n",
    "\n",
    "    4.\tCompare the run-time of a pair-wise distance computation with one that only considers profiles that end in the same bin. (criteria: The number of bins is set sensibly)\n",
    "\t5.\tExplain any differences you observe. (criteria: The resulting comparison explains differences in run-time and quality.)"
   ]
  },
  {
   "cell_type": "code",
   "execution_count": null,
   "metadata": {},
   "outputs": [],
   "source": []
  },
  {
   "cell_type": "markdown",
   "metadata": {},
   "source": [
    "<a id='6'></a>"
   ]
  },
  {
   "cell_type": "markdown",
   "metadata": {},
   "source": [
    "## 6.Botnet profiling task – 1/2 A4\n",
    "\n",
    "    1.\tUse a sliding window to obtain sequence data for every host in all scenarios considered in paper 4 (with multiple infected hosts), with a length of your choice. (criteria: Advanced sequential model learning is used correctly, one for each host.)\n",
    "\t2.\tLearn an n-gram model from the data of one infected host and match its profile (e.g., n-grams using cosine distance, or probabilities using KL-divergence) with all other hosts from the same scenario. \n",
    "\t3.\tEvaluate how many new infections your method finds and false positives it raises (as in paper 4) (criteria: Profile matching and evaluation are correct)\n"
   ]
  },
  {
   "cell_type": "markdown",
   "metadata": {},
   "source": [
    "<a id='6a'></a>"
   ]
  },
  {
   "cell_type": "markdown",
   "metadata": {},
   "source": [
    "### 6a. Learn a sequential model\n",
    "\n",
    "    1.\tUse a sliding window to obtain sequence data for every host in all scenarios considered in paper 4 (with multiple infected hosts), with a length of your choice. (criteria: Advanced sequential model learning is used correctly, one for each host.)\n",
    "\t2.\tLearn an n-gram model from the data of one infected host and match its profile (e.g., n-grams using cosine distance, or probabilities using KL-divergence) with all other hosts from the same scenario. "
   ]
  },
  {
   "cell_type": "code",
   "execution_count": null,
   "metadata": {},
   "outputs": [],
   "source": []
  },
  {
   "cell_type": "markdown",
   "metadata": {},
   "source": [
    "<a id='6b'></a>"
   ]
  },
  {
   "cell_type": "markdown",
   "metadata": {},
   "source": [
    "### 6b. Analysis and answers to the questions.\n",
    "\n",
    "    3.\tEvaluate how many new infections your method finds and false positives it raises (as in paper 4) (criteria: Profile matching and evaluation are correct)\n"
   ]
  },
  {
   "cell_type": "code",
   "execution_count": null,
   "metadata": {},
   "outputs": [],
   "source": []
  },
  {
   "cell_type": "markdown",
   "metadata": {},
   "source": [
    "<a id='7'></a>"
   ]
  },
  {
   "cell_type": "markdown",
   "metadata": {},
   "source": [
    "## 7.Botnet fingerprinting task – 1/2 A4\n",
    "\n",
    "    1.\tUse the obtained botnet profiles for fingerprinting, i.e., look for the occurrence of an n-gram that does not occur in any benign traffic. \n",
    "\t2.\tWhenever this subsequence occurs, you raise an alarm. \n",
    "\t3.\tEvaluate how many new infections your method finds and false positives it raises (as in paper 4).\n",
    "\t4.\tCompare it to profiling and explain the results. (criteria:Fingerprinting is correctly applied. Comparison to profiling is sound and considers both run-time and the kinds of behaviors that can be detected)"
   ]
  },
  {
   "cell_type": "markdown",
   "metadata": {},
   "source": [
    "<a id='7a'></a>"
   ]
  },
  {
   "cell_type": "markdown",
   "metadata": {},
   "source": [
    "### 7a. Fingerprinting\n",
    "\n",
    "    1.\tUse the obtained botnet profiles for fingerprinting, i.e., look for the occurrence of an n-gram that does not occur in any benign traffic. \n",
    "\t2.\tWhenever this subsequence occurs, you raise an alarm. \n"
   ]
  },
  {
   "cell_type": "code",
   "execution_count": null,
   "metadata": {},
   "outputs": [],
   "source": []
  },
  {
   "cell_type": "markdown",
   "metadata": {},
   "source": [
    "<a id='7b'></a>"
   ]
  },
  {
   "cell_type": "markdown",
   "metadata": {},
   "source": [
    "### 7b. Analysis and answers to the questions.\n",
    "\t3.\tEvaluate how many new infections your method finds and false positives it raises (as in paper 4).\n",
    "\t4.\tCompare it to profiling and explain the results. (criteria:Fingerprinting is correctly applied. Comparison to profiling is sound and considers both run-time and the kinds of behaviors that can be detected)"
   ]
  },
  {
   "cell_type": "code",
   "execution_count": null,
   "metadata": {},
   "outputs": [],
   "source": []
  },
  {
   "cell_type": "markdown",
   "metadata": {},
   "source": [
    "<a id='8'></a>"
   ]
  },
  {
   "cell_type": "markdown",
   "metadata": {},
   "source": [
    "## 8. Bonus Task 1/2 A4"
   ]
  },
  {
   "cell_type": "markdown",
   "metadata": {},
   "source": [
    "### 8a. Provide implementation and analysis."
   ]
  },
  {
   "cell_type": "code",
   "execution_count": null,
   "metadata": {},
   "outputs": [],
   "source": []
  }
 ],
 "metadata": {
  "kernelspec": {
   "display_name": "Python 3",
   "language": "python",
   "name": "python3"
  },
  "language_info": {
   "codemirror_mode": {
    "name": "ipython",
    "version": 3
   },
   "file_extension": ".py",
   "mimetype": "text/x-python",
   "name": "python",
   "nbconvert_exporter": "python",
   "pygments_lexer": "ipython3",
   "version": "3.7.4"
  }
 },
 "nbformat": 4,
 "nbformat_minor": 2
}
